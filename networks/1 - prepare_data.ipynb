{
 "cells": [
  {
   "cell_type": "code",
   "execution_count": 16,
   "metadata": {},
   "outputs": [],
   "source": [
    "import sys\n",
    "\n",
    "sys.path.append(\"../\")\n",
    "\n",
    "import sqlite3\n",
    "import pandas as pd\n",
    "\n",
    "pd.options.mode.chained_assignment = None\n",
    "\n",
    "import os\n",
    "\n",
    "from dotenv import load_dotenv\n",
    "\n",
    "load_dotenv()\n",
    "\n",
    "DB_SCIENCE_PATH_NEW  = os.getenv(\"DB_SCIENCE_PATH_NEW\")\n",
    "\n",
    "conn = sqlite3.connect(DB_SCIENCE_PATH_NEW)\n"
   ]
  },
  {
   "cell_type": "code",
   "execution_count": 17,
   "metadata": {},
   "outputs": [
    {
     "data": {
      "text/html": [
       "<div>\n",
       "<style scoped>\n",
       "    .dataframe tbody tr th:only-of-type {\n",
       "        vertical-align: middle;\n",
       "    }\n",
       "\n",
       "    .dataframe tbody tr th {\n",
       "        vertical-align: top;\n",
       "    }\n",
       "\n",
       "    .dataframe thead th {\n",
       "        text-align: right;\n",
       "    }\n",
       "</style>\n",
       "<table border=\"1\" class=\"dataframe\">\n",
       "  <thead>\n",
       "    <tr style=\"text-align: right;\">\n",
       "      <th></th>\n",
       "      <th>wikidata_id</th>\n",
       "      <th>meta_occupation</th>\n",
       "    </tr>\n",
       "  </thead>\n",
       "  <tbody>\n",
       "    <tr>\n",
       "      <th>0</th>\n",
       "      <td>Q1000034</td>\n",
       "      <td>mathematician</td>\n",
       "    </tr>\n",
       "    <tr>\n",
       "      <th>1</th>\n",
       "      <td>Q100038758</td>\n",
       "      <td>archeologist</td>\n",
       "    </tr>\n",
       "    <tr>\n",
       "      <th>2</th>\n",
       "      <td>Q1000581</td>\n",
       "      <td>mathematician</td>\n",
       "    </tr>\n",
       "    <tr>\n",
       "      <th>3</th>\n",
       "      <td>Q1000608</td>\n",
       "      <td>anthropologist</td>\n",
       "    </tr>\n",
       "    <tr>\n",
       "      <th>4</th>\n",
       "      <td>Q1000929</td>\n",
       "      <td>geneticist</td>\n",
       "    </tr>\n",
       "    <tr>\n",
       "      <th>...</th>\n",
       "      <td>...</td>\n",
       "      <td>...</td>\n",
       "    </tr>\n",
       "    <tr>\n",
       "      <th>32596</th>\n",
       "      <td>Q99909</td>\n",
       "      <td>zoologist</td>\n",
       "    </tr>\n",
       "    <tr>\n",
       "      <th>32597</th>\n",
       "      <td>Q999118</td>\n",
       "      <td>chemist</td>\n",
       "    </tr>\n",
       "    <tr>\n",
       "      <th>32598</th>\n",
       "      <td>Q99914</td>\n",
       "      <td>chemist</td>\n",
       "    </tr>\n",
       "    <tr>\n",
       "      <th>32599</th>\n",
       "      <td>Q99932403</td>\n",
       "      <td>geographer</td>\n",
       "    </tr>\n",
       "    <tr>\n",
       "      <th>32600</th>\n",
       "      <td>Q999471</td>\n",
       "      <td>chemist | physicist</td>\n",
       "    </tr>\n",
       "  </tbody>\n",
       "</table>\n",
       "<p>32601 rows × 2 columns</p>\n",
       "</div>"
      ],
      "text/plain": [
       "      wikidata_id      meta_occupation\n",
       "0        Q1000034        mathematician\n",
       "1      Q100038758         archeologist\n",
       "2        Q1000581        mathematician\n",
       "3        Q1000608       anthropologist\n",
       "4        Q1000929           geneticist\n",
       "...           ...                  ...\n",
       "32596      Q99909            zoologist\n",
       "32597     Q999118              chemist\n",
       "32598      Q99914              chemist\n",
       "32599   Q99932403           geographer\n",
       "32600     Q999471  chemist | physicist\n",
       "\n",
       "[32601 rows x 2 columns]"
      ]
     },
     "execution_count": 17,
     "metadata": {},
     "output_type": "execute_result"
    }
   ],
   "source": [
    "df_occupation = pd.read_sql(\"SELECT * FROM cleaned_occupations_science\", conn)\n",
    "df_occupation = df_occupation.groupby(['wikidata_id'])['meta_occupation'].apply(lambda x : ' | '.join(x))\n",
    "df_occupation = df_occupation.reset_index()\n",
    "df_occupation = df_occupation.drop_duplicates()\n",
    "df_occupation"
   ]
  },
  {
   "cell_type": "code",
   "execution_count": 18,
   "metadata": {},
   "outputs": [],
   "source": [
    "df_ind_regions = pd.read_sql_query(\n",
    "    \"SELECT * FROM individuals_regions\", conn\n",
    ")\n",
    "df_ind_regions = df_ind_regions.rename(\n",
    "    columns={\"individual_wikidata_id\": \"wikidata_id\"}\n",
    ")\n",
    "\n",
    "\n",
    "df_temporal = pd.read_sql(\"SELECT * FROM individuals_occupation_information\", conn)\n",
    "df_temporal = df_temporal.rename(\n",
    "    columns={\"individual_wikidata_id\": \"wikidata_id\"}\n",
    ")\n",
    "df_temporal = df_temporal[['wikidata_id', 'birthyear']].drop_duplicates()"
   ]
  },
  {
   "cell_type": "code",
   "execution_count": 19,
   "metadata": {},
   "outputs": [],
   "source": [
    "df_random = pd.merge(df_ind_regions, df_temporal, on = 'wikidata_id')\n",
    "df_random = pd.merge(df_random, df_occupation, on = 'wikidata_id')\n",
    "df_random = df_random[['wikidata_id', 'meta_occupation']].drop_duplicates()\n",
    "df_random_1 = df_random.sample(1000, random_state=42)\n",
    "df_random_2 = df_random.sample(1000, random_state=41)\n",
    "\n",
    "df_random_1.to_csv('data/random_1.csv')\n",
    "df_random_2.to_csv('data/random_2.csv')"
   ]
  },
  {
   "cell_type": "code",
   "execution_count": 20,
   "metadata": {},
   "outputs": [
    {
     "name": "stdout",
     "output_type": "stream",
     "text": [
      "17107\n"
     ]
    }
   ],
   "source": [
    "\n",
    "\n",
    "regions_europe = [\n",
    "'re_nordic_countries'\n",
    "'re_british_islands',\n",
    "'re_low_countries',\n",
    "'re_france',\n",
    "'re_spain',\n",
    "'re_italy',\n",
    "'re_german_world',\n",
    "'re_central_europe',\n",
    "'re_slav_world'\n",
    "'re_balkans']\n",
    "\n",
    "\n",
    "df_ind_regions_europe = df_ind_regions[df_ind_regions[\"region_code\"].isin(regions_europe)]\n",
    "\n",
    "# starting from 500\n",
    "df_temporal_europe = df_temporal[df_temporal[\"birthyear\"] > 500]\n",
    "\n",
    "df_europe = pd.merge(df_ind_regions_europe, df_temporal_europe, on = 'wikidata_id')\n",
    "df_europe = pd.merge(df_europe, df_occupation, on = 'wikidata_id')\n",
    "\n",
    "print(len(set(df_europe.wikidata_id)))\n",
    "\n",
    "df_europe.to_csv('data/europe.csv')\n"
   ]
  },
  {
   "cell_type": "code",
   "execution_count": 21,
   "metadata": {},
   "outputs": [
    {
     "name": "stdout",
     "output_type": "stream",
     "text": [
      "143\n"
     ]
    }
   ],
   "source": [
    "df_ind_regions_antiquity = df_ind_regions[df_ind_regions[\"region_code\"].isin(['re_greek_world', 're_latin'])]\n",
    "df_temporal_antiquity = df_temporal[df_temporal[\"birthyear\"] <= 500]\n",
    "\n",
    "df_antiquity = pd.merge(df_ind_regions_antiquity, df_temporal_antiquity, on = 'wikidata_id')\n",
    "df_antiquity = df_antiquity.drop_duplicates('wikidata_id', keep='first')\n",
    "df_antiquity = pd.merge(df_antiquity, df_occupation, on = 'wikidata_id')\n",
    "df_antiquity.to_csv('data/antiquity.csv')\n",
    "\n",
    "print(len(set(df_antiquity.wikidata_id)))"
   ]
  },
  {
   "cell_type": "code",
   "execution_count": 22,
   "metadata": {},
   "outputs": [
    {
     "name": "stdout",
     "output_type": "stream",
     "text": [
      "865\n",
      "970\n"
     ]
    }
   ],
   "source": [
    "regions_non_europe = ['re_ottoman_turkey',\n",
    "'re_arabic_world',\n",
    "'re_persian_world',\n",
    "'re_indian_world',\n",
    "'re_chinese_world',\n",
    "'re_korea',\n",
    "'re_japan',\n",
    "'re_south_east_asia']\n",
    "\n",
    "df_ind_regions_non_europe = df_ind_regions[df_ind_regions[\"region_code\"].isin(regions_non_europe)]\n",
    "\n",
    "# starting from 500\n",
    "#df_temporal_europe = df_temporal[df_temporal[\"birthyear\"] > 500]\n",
    "\n",
    "df_non_europe = pd.merge(df_ind_regions_non_europe, df_temporal, on = 'wikidata_id')\n",
    "df_non_europe = pd.merge(df_non_europe, df_occupation, on = 'wikidata_id')\n",
    "print(len(set(df_non_europe.wikidata_id)))\n",
    "\n",
    "df_arabs = df_non_europe[df_non_europe['region_code']=='re_arabic_world']\n",
    "df_arabs = df_arabs[df_arabs['birthyear']>500]\n",
    "\n",
    "df_non_europe = df_non_europe[df_non_europe['region_code'] !='re_arabic_world']\n",
    "df_non_europe = pd.concat([df_non_europe, df_arabs])\n",
    "df_non_europe = df_non_europe.reset_index(drop=True)\n",
    "\n",
    "\n",
    "df_non_europe = pd.concat([df_antiquity, df_non_europe])\n",
    "df_non_europe = df_non_europe.reset_index(drop=True)\n",
    "print(len(set(df_non_europe.wikidata_id)))\n",
    "\n",
    "\n",
    "df_non_europe.to_csv('data/non_europe.csv')\n",
    "\n"
   ]
  },
  {
   "cell_type": "code",
   "execution_count": 23,
   "metadata": {},
   "outputs": [
    {
     "name": "stdout",
     "output_type": "stream",
     "text": [
      "18077\n",
      "921\n",
      "921\n"
     ]
    }
   ],
   "source": [
    "df_global = pd.concat([df_antiquity, df_europe, df_non_europe])\n",
    "print(len(set(df_global.wikidata_id)))\n",
    "df_global.to_csv('data/global.csv')\n",
    "\n",
    "\n",
    "df_global_before_1500 = df_global[df_global['birthyear']<=1500]\n",
    "print(len(set(df_global_before_1500.wikidata_id)))\n",
    "\n",
    "df_global_before_1500 = df_global_before_1500.drop_duplicates()\n",
    "df_global_before_1500.to_csv('data/global_before_1500.csv')\n",
    "\n",
    "\n",
    "df_global_before_1700 = df_global[df_global['birthyear']<=1700]\n",
    "print(len(set(df_global_before_1500.wikidata_id)))\n",
    "\n",
    "df_global_before_1700 = df_global_before_1700.drop_duplicates()\n",
    "df_global_before_1700.to_csv('data/global_before_1700.csv')"
   ]
  },
  {
   "cell_type": "code",
   "execution_count": 32,
   "metadata": {},
   "outputs": [
    {
     "data": {
      "text/plain": [
       "['Korea',\n",
       " 'Persian world',\n",
       " 'Chinese world',\n",
       " 'Latin World',\n",
       " 'Spain',\n",
       " 'Central Europe',\n",
       " 'South East Asia',\n",
       " 'Low countries',\n",
       " 'German world',\n",
       " 'Ottoman Turkey',\n",
       " 'Japan',\n",
       " 'France',\n",
       " 'Indian world',\n",
       " 'Italy',\n",
       " 'Greek World',\n",
       " 'Arabic world']"
      ]
     },
     "execution_count": 32,
     "metadata": {},
     "output_type": "execute_result"
    }
   ],
   "source": []
  },
  {
   "cell_type": "code",
   "execution_count": 25,
   "metadata": {},
   "outputs": [
    {
     "name": "stdout",
     "output_type": "stream",
     "text": [
      "17156\n"
     ]
    }
   ],
   "source": [
    "\n",
    "df_global_after_1500 = df_global[df_global['birthyear']>1500]\n",
    "print(len(set(df_global_after_1500.wikidata_id)))\n",
    "df_global_after_1500.to_csv('data/global_after_1500.csv')\n"
   ]
  },
  {
   "cell_type": "code",
   "execution_count": 26,
   "metadata": {},
   "outputs": [
    {
     "name": "stdout",
     "output_type": "stream",
     "text": [
      "779\n"
     ]
    },
    {
     "data": {
      "text/plain": [
       "re_chinese_world      100\n",
       "re_japan              100\n",
       "re_europe             100\n",
       "re_greek_world        100\n",
       "re_arabic_world       100\n",
       "re_indian_world       100\n",
       "re_persian_world       86\n",
       "re_latin               64\n",
       "re_south_east_asia     53\n",
       "re_ottoman_turkey      22\n",
       "re_korea               10\n",
       "Name: region, dtype: int64"
      ]
     },
     "execution_count": 26,
     "metadata": {},
     "output_type": "execute_result"
    }
   ],
   "source": [
    "df_global['region'] = df_global['region_code']\n",
    "df_global['region'][df_global['region_code'].isin(regions_europe)] = 're_europe'\n",
    "\n",
    "final = []\n",
    "for region in list(set(df_global['region'])):\n",
    "    df_sample = df_global[df_global[\"region\"] == region]\n",
    "    individual_sample = 100\n",
    "\n",
    "    if len(df_sample) > individual_sample:\n",
    "        res = df_sample.sample(individual_sample, random_state=41)\n",
    "    else:\n",
    "        res = df_sample.copy()\n",
    "\n",
    "    final.append(res)\n",
    "\n",
    "df_fin = pd.concat([x for x in final])\n",
    "df_fin = df_fin.reset_index(drop=True)\n",
    "\n",
    "print(len(set(df_fin.wikidata_id)))\n",
    "df_fin.to_csv('data/global_weighted.csv')\n",
    "\n",
    "df_fin.region.value_counts()\n"
   ]
  },
  {
   "cell_type": "code",
   "execution_count": 27,
   "metadata": {},
   "outputs": [],
   "source": [
    "df_non_europe_before_1700 = df_non_europe[df_non_europe['birthyear']<=1700]\n",
    "df_non_europe_before_1700.to_csv('data/non_europe_before_1700.csv')\n",
    "\n",
    "df_europe_before_1700 = df_europe[df_europe['birthyear']<=1700]\n",
    "df_europe_before_1700.to_csv('data/europe_before_1700.csv')\n",
    "\n",
    "\n",
    "len_non_europe = len(df_non_europe_before_1700)\n"
   ]
  },
  {
   "cell_type": "code",
   "execution_count": 28,
   "metadata": {},
   "outputs": [
    {
     "data": {
      "text/html": [
       "<div>\n",
       "<style scoped>\n",
       "    .dataframe tbody tr th:only-of-type {\n",
       "        vertical-align: middle;\n",
       "    }\n",
       "\n",
       "    .dataframe tbody tr th {\n",
       "        vertical-align: top;\n",
       "    }\n",
       "\n",
       "    .dataframe thead th {\n",
       "        text-align: right;\n",
       "    }\n",
       "</style>\n",
       "<table border=\"1\" class=\"dataframe\">\n",
       "  <thead>\n",
       "    <tr style=\"text-align: right;\">\n",
       "      <th></th>\n",
       "      <th>wikidata_id</th>\n",
       "      <th>individual_name</th>\n",
       "      <th>region_code</th>\n",
       "      <th>region_name</th>\n",
       "      <th>birthyear</th>\n",
       "      <th>meta_occupation</th>\n",
       "    </tr>\n",
       "  </thead>\n",
       "  <tbody>\n",
       "    <tr>\n",
       "      <th>154</th>\n",
       "      <td>Q353068</td>\n",
       "      <td>Akşemseddin</td>\n",
       "      <td>re_ottoman_turkey</td>\n",
       "      <td>Ottoman Turkey</td>\n",
       "      <td>1389.0</td>\n",
       "      <td>historian | botanist</td>\n",
       "    </tr>\n",
       "    <tr>\n",
       "      <th>167</th>\n",
       "      <td>Q293520</td>\n",
       "      <td>Abū Ḥanīfa Dīnawarī</td>\n",
       "      <td>re_persian_world</td>\n",
       "      <td>Persian world</td>\n",
       "      <td>828.0</td>\n",
       "      <td>botanist | historian | astronomer | geographer...</td>\n",
       "    </tr>\n",
       "    <tr>\n",
       "      <th>230</th>\n",
       "      <td>Q11826</td>\n",
       "      <td>Al-Biruni</td>\n",
       "      <td>re_persian_world</td>\n",
       "      <td>Persian world</td>\n",
       "      <td>973.0</td>\n",
       "      <td>botanist | anthropologist | historian | astron...</td>\n",
       "    </tr>\n",
       "    <tr>\n",
       "      <th>563</th>\n",
       "      <td>Q267350</td>\n",
       "      <td>Michał Boym</td>\n",
       "      <td>re_chinese_world</td>\n",
       "      <td>Chinese world</td>\n",
       "      <td>1612.0</td>\n",
       "      <td>historian | linguist | botanist</td>\n",
       "    </tr>\n",
       "    <tr>\n",
       "      <th>735</th>\n",
       "      <td>Q67657447</td>\n",
       "      <td>Hamzah ibn ʻAbd Allah Nashiri</td>\n",
       "      <td>re_arabic_world</td>\n",
       "      <td>Arabic world</td>\n",
       "      <td>1430.0</td>\n",
       "      <td>historian | botanist</td>\n",
       "    </tr>\n",
       "    <tr>\n",
       "      <th>822</th>\n",
       "      <td>Q5984319</td>\n",
       "      <td>Ibn al-Wardi</td>\n",
       "      <td>re_arabic_world</td>\n",
       "      <td>Arabic world</td>\n",
       "      <td>1290.0</td>\n",
       "      <td>historian | geographer | botanist | zoologist</td>\n",
       "    </tr>\n",
       "    <tr>\n",
       "      <th>871</th>\n",
       "      <td>Q12177924</td>\n",
       "      <td>Ahmad ibn Muhammad abu Yafar al-Gafiqi</td>\n",
       "      <td>re_arabic_world</td>\n",
       "      <td>Arabic world</td>\n",
       "      <td>1100.0</td>\n",
       "      <td>historian | botanist</td>\n",
       "    </tr>\n",
       "    <tr>\n",
       "      <th>958</th>\n",
       "      <td>Q337126</td>\n",
       "      <td>Al-Bakri</td>\n",
       "      <td>re_arabic_world</td>\n",
       "      <td>Arabic world</td>\n",
       "      <td>1014.0</td>\n",
       "      <td>historian | geographer | botanist</td>\n",
       "    </tr>\n",
       "  </tbody>\n",
       "</table>\n",
       "</div>"
      ],
      "text/plain": [
       "    wikidata_id                         individual_name        region_code  \\\n",
       "154     Q353068                             Akşemseddin  re_ottoman_turkey   \n",
       "167     Q293520                     Abū Ḥanīfa Dīnawarī   re_persian_world   \n",
       "230      Q11826                               Al-Biruni   re_persian_world   \n",
       "563     Q267350                             Michał Boym   re_chinese_world   \n",
       "735   Q67657447           Hamzah ibn ʻAbd Allah Nashiri    re_arabic_world   \n",
       "822    Q5984319                            Ibn al-Wardi    re_arabic_world   \n",
       "871   Q12177924  Ahmad ibn Muhammad abu Yafar al-Gafiqi    re_arabic_world   \n",
       "958     Q337126                                Al-Bakri    re_arabic_world   \n",
       "\n",
       "        region_name  birthyear  \\\n",
       "154  Ottoman Turkey     1389.0   \n",
       "167   Persian world      828.0   \n",
       "230   Persian world      973.0   \n",
       "563   Chinese world     1612.0   \n",
       "735    Arabic world     1430.0   \n",
       "822    Arabic world     1290.0   \n",
       "871    Arabic world     1100.0   \n",
       "958    Arabic world     1014.0   \n",
       "\n",
       "                                       meta_occupation  \n",
       "154                               historian | botanist  \n",
       "167  botanist | historian | astronomer | geographer...  \n",
       "230  botanist | anthropologist | historian | astron...  \n",
       "563                    historian | linguist | botanist  \n",
       "735                               historian | botanist  \n",
       "822      historian | geographer | botanist | zoologist  \n",
       "871                               historian | botanist  \n",
       "958                  historian | geographer | botanist  "
      ]
     },
     "execution_count": 28,
     "metadata": {},
     "output_type": "execute_result"
    }
   ],
   "source": [
    "df_test = df_non_europe_before_1700.copy()\n",
    "df_test = df_test[df_test['meta_occupation'].str.contains('historian')]\n",
    "df_test = df_test[df_test['meta_occupation'].str.contains('botanist')]\n",
    "df_test"
   ]
  },
  {
   "cell_type": "code",
   "execution_count": 29,
   "metadata": {},
   "outputs": [
    {
     "name": "stderr",
     "output_type": "stream",
     "text": [
      "100%|██████████| 100/100 [00:00<00:00, 258.47it/s]\n"
     ]
    }
   ],
   "source": [
    "from tqdm import tqdm\n",
    "for x in tqdm(range(100)):\n",
    "    df_weighted = pd.concat([df_non_europe_before_1700, df_europe_before_1700.sample(len_non_europe, random_state=x)])\n",
    "    df_weighted = df_weighted.reset_index(drop=True)\n",
    "    df_weighted.to_csv(f'data/weighted/df_{x}.csv')"
   ]
  }
 ],
 "metadata": {
  "kernelspec": {
   "display_name": "market_use_cases-Q45SxFKl-py3.8",
   "language": "python",
   "name": "python3"
  },
  "language_info": {
   "codemirror_mode": {
    "name": "ipython",
    "version": 3
   },
   "file_extension": ".py",
   "mimetype": "text/x-python",
   "name": "python",
   "nbconvert_exporter": "python",
   "pygments_lexer": "ipython3",
   "version": "3.8.18"
  }
 },
 "nbformat": 4,
 "nbformat_minor": 2
}
