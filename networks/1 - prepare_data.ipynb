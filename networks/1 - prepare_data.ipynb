{
 "cells": [
  {
   "cell_type": "code",
   "execution_count": 10,
   "metadata": {},
   "outputs": [],
   "source": [
    "import sys\n",
    "\n",
    "sys.path.append(\"../\")\n",
    "\n",
    "import sqlite3\n",
    "import pandas as pd\n",
    "\n",
    "pd.options.mode.chained_assignment = None\n",
    "\n",
    "import os\n",
    "\n",
    "from dotenv import load_dotenv\n",
    "\n",
    "load_dotenv()\n",
    "\n",
    "DB_SCIENCE_PATH_NEW  = os.getenv(\"DB_SCIENCE_PATH_NEW\")\n",
    "\n",
    "conn = sqlite3.connect(DB_SCIENCE_PATH_NEW)\n"
   ]
  },
  {
   "cell_type": "code",
   "execution_count": 11,
   "metadata": {},
   "outputs": [
    {
     "data": {
      "text/html": [
       "<div>\n",
       "<style scoped>\n",
       "    .dataframe tbody tr th:only-of-type {\n",
       "        vertical-align: middle;\n",
       "    }\n",
       "\n",
       "    .dataframe tbody tr th {\n",
       "        vertical-align: top;\n",
       "    }\n",
       "\n",
       "    .dataframe thead th {\n",
       "        text-align: right;\n",
       "    }\n",
       "</style>\n",
       "<table border=\"1\" class=\"dataframe\">\n",
       "  <thead>\n",
       "    <tr style=\"text-align: right;\">\n",
       "      <th></th>\n",
       "      <th>wikidata_id</th>\n",
       "      <th>meta_occupation</th>\n",
       "    </tr>\n",
       "  </thead>\n",
       "  <tbody>\n",
       "    <tr>\n",
       "      <th>0</th>\n",
       "      <td>Q1000034</td>\n",
       "      <td>mathematician</td>\n",
       "    </tr>\n",
       "    <tr>\n",
       "      <th>1</th>\n",
       "      <td>Q100038758</td>\n",
       "      <td>archeologist</td>\n",
       "    </tr>\n",
       "    <tr>\n",
       "      <th>2</th>\n",
       "      <td>Q1000581</td>\n",
       "      <td>mathematician</td>\n",
       "    </tr>\n",
       "    <tr>\n",
       "      <th>3</th>\n",
       "      <td>Q1000608</td>\n",
       "      <td>anthropologist</td>\n",
       "    </tr>\n",
       "    <tr>\n",
       "      <th>4</th>\n",
       "      <td>Q1000929</td>\n",
       "      <td>geneticist</td>\n",
       "    </tr>\n",
       "    <tr>\n",
       "      <th>...</th>\n",
       "      <td>...</td>\n",
       "      <td>...</td>\n",
       "    </tr>\n",
       "    <tr>\n",
       "      <th>32596</th>\n",
       "      <td>Q99909</td>\n",
       "      <td>zoologist</td>\n",
       "    </tr>\n",
       "    <tr>\n",
       "      <th>32597</th>\n",
       "      <td>Q999118</td>\n",
       "      <td>chemist</td>\n",
       "    </tr>\n",
       "    <tr>\n",
       "      <th>32598</th>\n",
       "      <td>Q99914</td>\n",
       "      <td>chemist</td>\n",
       "    </tr>\n",
       "    <tr>\n",
       "      <th>32599</th>\n",
       "      <td>Q99932403</td>\n",
       "      <td>geographer</td>\n",
       "    </tr>\n",
       "    <tr>\n",
       "      <th>32600</th>\n",
       "      <td>Q999471</td>\n",
       "      <td>chemist | physicist</td>\n",
       "    </tr>\n",
       "  </tbody>\n",
       "</table>\n",
       "<p>32601 rows × 2 columns</p>\n",
       "</div>"
      ],
      "text/plain": [
       "      wikidata_id      meta_occupation\n",
       "0        Q1000034        mathematician\n",
       "1      Q100038758         archeologist\n",
       "2        Q1000581        mathematician\n",
       "3        Q1000608       anthropologist\n",
       "4        Q1000929           geneticist\n",
       "...           ...                  ...\n",
       "32596      Q99909            zoologist\n",
       "32597     Q999118              chemist\n",
       "32598      Q99914              chemist\n",
       "32599   Q99932403           geographer\n",
       "32600     Q999471  chemist | physicist\n",
       "\n",
       "[32601 rows x 2 columns]"
      ]
     },
     "execution_count": 11,
     "metadata": {},
     "output_type": "execute_result"
    }
   ],
   "source": [
    "df_occupation = pd.read_sql(\"SELECT * FROM cleaned_occupations_science\", conn)\n",
    "df_occupation = df_occupation.groupby(['wikidata_id'])['meta_occupation'].apply(lambda x : ' | '.join(x))\n",
    "df_occupation = df_occupation.reset_index()\n",
    "df_occupation = df_occupation.drop_duplicates()\n",
    "df_occupation"
   ]
  },
  {
   "cell_type": "code",
   "execution_count": 12,
   "metadata": {},
   "outputs": [],
   "source": [
    "df_ind_regions = pd.read_sql_query(\n",
    "    \"SELECT * FROM individuals_regions\", conn\n",
    ")\n",
    "df_ind_regions = df_ind_regions.rename(\n",
    "    columns={\"individual_wikidata_id\": \"wikidata_id\"}\n",
    ")\n",
    "\n",
    "\n",
    "df_temporal = pd.read_sql(\"SELECT * FROM individuals_occupation_information\", conn)\n",
    "df_temporal = df_temporal.rename(\n",
    "    columns={\"individual_wikidata_id\": \"wikidata_id\"}\n",
    ")\n",
    "df_temporal = df_temporal[['wikidata_id', 'birthyear']].drop_duplicates()"
   ]
  },
  {
   "cell_type": "code",
   "execution_count": 13,
   "metadata": {},
   "outputs": [
    {
     "name": "stdout",
     "output_type": "stream",
     "text": [
      "17107\n"
     ]
    }
   ],
   "source": [
    "\n",
    "\n",
    "regions_europe = [\n",
    "'re_nordic_countries'\n",
    "'re_british_islands',\n",
    "'re_low_countries',\n",
    "'re_france',\n",
    "'re_spain',\n",
    "'re_italy',\n",
    "'re_german_world',\n",
    "'re_central_europe',\n",
    "'re_slav_world'\n",
    "'re_balkans']\n",
    "\n",
    "\n",
    "df_ind_regions_europe = df_ind_regions[df_ind_regions[\"region_code\"].isin(regions_europe)]\n",
    "\n",
    "# starting from 500\n",
    "df_temporal_europe = df_temporal[df_temporal[\"birthyear\"] > 500]\n",
    "\n",
    "df_europe = pd.merge(df_ind_regions_europe, df_temporal_europe, on = 'wikidata_id')\n",
    "df_europe = pd.merge(df_europe, df_occupation, on = 'wikidata_id')\n",
    "\n",
    "print(len(set(df_europe.wikidata_id)))\n",
    "\n",
    "df_europe.to_csv('data/europe.csv')\n"
   ]
  },
  {
   "cell_type": "code",
   "execution_count": 14,
   "metadata": {},
   "outputs": [
    {
     "name": "stdout",
     "output_type": "stream",
     "text": [
      "865\n",
      "827\n"
     ]
    }
   ],
   "source": [
    "regions_non_europe = ['re_ottoman_turkey',\n",
    "'re_arabic_world',\n",
    "'re_persian_world',\n",
    "'re_indian_world',\n",
    "'re_chinese_world',\n",
    "'re_korea',\n",
    "'re_japan',\n",
    "'re_south_east_asia']\n",
    "\n",
    "df_ind_regions_non_europe = df_ind_regions[df_ind_regions[\"region_code\"].isin(regions_non_europe)]\n",
    "\n",
    "# starting from 500\n",
    "#df_temporal_europe = df_temporal[df_temporal[\"birthyear\"] > 500]\n",
    "\n",
    "df_non_europe = pd.merge(df_ind_regions_non_europe, df_temporal, on = 'wikidata_id')\n",
    "df_non_europe = pd.merge(df_non_europe, df_occupation, on = 'wikidata_id')\n",
    "print(len(set(df_non_europe.wikidata_id)))\n",
    "\n",
    "df_arabs = df_non_europe[df_non_europe['region_code']=='re_arabic_world']\n",
    "df_arabs = df_arabs[df_arabs['birthyear']>500]\n",
    "\n",
    "df_non_europe = df_non_europe[df_non_europe['region_code'] !='re_arabic_world']\n",
    "df_non_europe = pd.concat([df_non_europe, df_arabs])\n",
    "df_non_europe = df_non_europe.reset_index(drop=True)\n",
    "print(len(set(df_non_europe.wikidata_id)))\n",
    "\n",
    "df_non_europe.to_csv('data/non_europe.csv')\n",
    "\n"
   ]
  },
  {
   "cell_type": "code",
   "execution_count": 15,
   "metadata": {},
   "outputs": [
    {
     "name": "stdout",
     "output_type": "stream",
     "text": [
      "143\n"
     ]
    }
   ],
   "source": [
    "df_ind_regions_antiquity = df_ind_regions[df_ind_regions[\"region_code\"].isin(['re_greek_world', 're_latin'])]\n",
    "df_temporal_antiquity = df_temporal[df_temporal[\"birthyear\"] <= 500]\n",
    "\n",
    "df_antiquity = pd.merge(df_ind_regions_antiquity, df_temporal_antiquity, on = 'wikidata_id')\n",
    "df_antiquity = df_antiquity.drop_duplicates('wikidata_id', keep='first')\n",
    "df_antiquity = pd.merge(df_antiquity, df_occupation, on = 'wikidata_id')\n",
    "df_antiquity.to_csv('data/antiquity.csv')\n",
    "\n",
    "print(len(set(df_antiquity.wikidata_id)))"
   ]
  },
  {
   "cell_type": "code",
   "execution_count": 16,
   "metadata": {},
   "outputs": [
    {
     "name": "stdout",
     "output_type": "stream",
     "text": [
      "18077\n",
      "921\n"
     ]
    }
   ],
   "source": [
    "df_global = pd.concat([df_antiquity, df_europe, df_non_europe])\n",
    "print(len(set(df_global.wikidata_id)))\n",
    "df_global.to_csv('data/global.csv')\n",
    "\n",
    "df_global_before_1500 = df_global[df_global['birthyear']<=1500]\n",
    "print(len(set(df_global_before_1500.wikidata_id)))\n",
    "\n",
    "df_global_before_1500 = df_global_before_1500.drop_duplicates()\n",
    "df_global_before_1500.to_csv('data/global_before_1500.csv')"
   ]
  },
  {
   "cell_type": "code",
   "execution_count": null,
   "metadata": {},
   "outputs": [],
   "source": []
  },
  {
   "cell_type": "code",
   "execution_count": null,
   "metadata": {},
   "outputs": [],
   "source": []
  },
  {
   "cell_type": "code",
   "execution_count": 17,
   "metadata": {},
   "outputs": [
    {
     "name": "stdout",
     "output_type": "stream",
     "text": [
      "17156\n"
     ]
    }
   ],
   "source": [
    "\n",
    "\n",
    "\n",
    "df_global_after_1500 = df_global[df_global['birthyear']>1500]\n",
    "print(len(set(df_global_after_1500.wikidata_id)))\n",
    "df_global_after_1500.to_csv('data/global_after_1500.csv')\n"
   ]
  },
  {
   "cell_type": "code",
   "execution_count": 18,
   "metadata": {},
   "outputs": [
    {
     "name": "stdout",
     "output_type": "stream",
     "text": [
      "802\n"
     ]
    },
    {
     "data": {
      "text/plain": [
       "re_greek_world        100\n",
       "re_arabic_world       100\n",
       "re_indian_world       100\n",
       "re_chinese_world      100\n",
       "re_europe             100\n",
       "re_japan              100\n",
       "re_persian_world       86\n",
       "re_south_east_asia     53\n",
       "re_latin               32\n",
       "re_ottoman_turkey      22\n",
       "re_korea               10\n",
       "Name: region, dtype: int64"
      ]
     },
     "execution_count": 18,
     "metadata": {},
     "output_type": "execute_result"
    }
   ],
   "source": [
    "df_global['region'] = df_global['region_code']\n",
    "df_global['region'][df_global['region_code'].isin(regions_europe)] = 're_europe'\n",
    "\n",
    "final = []\n",
    "for region in list(set(df_global['region'])):\n",
    "    df_sample = df_global[df_global[\"region\"] == region]\n",
    "    individual_sample = 100\n",
    "\n",
    "    if len(df_sample) > individual_sample:\n",
    "        res = df_sample.sample(individual_sample, random_state=41)\n",
    "    else:\n",
    "        res = df_sample.copy()\n",
    "\n",
    "    final.append(res)\n",
    "\n",
    "df_fin = pd.concat([x for x in final])\n",
    "df_fin = df_fin.reset_index(drop=True)\n",
    "\n",
    "print(len(set(df_fin.wikidata_id)))\n",
    "df_fin.to_csv('data/global_weighted.csv')\n",
    "\n",
    "df_fin.region.value_counts()\n"
   ]
  },
  {
   "cell_type": "code",
   "execution_count": null,
   "metadata": {},
   "outputs": [],
   "source": []
  }
 ],
 "metadata": {
  "kernelspec": {
   "display_name": "market_use_cases-Q45SxFKl-py3.8",
   "language": "python",
   "name": "python3"
  },
  "language_info": {
   "codemirror_mode": {
    "name": "ipython",
    "version": 3
   },
   "file_extension": ".py",
   "mimetype": "text/x-python",
   "name": "python",
   "nbconvert_exporter": "python",
   "pygments_lexer": "ipython3",
   "version": "3.8.18"
  }
 },
 "nbformat": 4,
 "nbformat_minor": 2
}
