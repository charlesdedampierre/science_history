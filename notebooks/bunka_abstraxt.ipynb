{
 "cells": [
  {
   "cell_type": "code",
   "execution_count": 1,
   "id": "394b6cd8-c97a-4753-b9ab-9cb3467eb593",
   "metadata": {
    "tags": []
   },
   "outputs": [],
   "source": [
    "import sys\n",
    "\n",
    "sys.path.append('/Users/charlesdedampierre/Desktop/bunka_related_projects/BunkaTopics')"
   ]
  },
  {
   "cell_type": "code",
   "execution_count": 2,
   "id": "bd8c4337-b522-427b-82ec-1ee2e019c8e6",
   "metadata": {
    "tags": []
   },
   "outputs": [
    {
     "data": {
      "text/plain": [
       "True"
      ]
     },
     "execution_count": 2,
     "metadata": {},
     "output_type": "execute_result"
    }
   ],
   "source": [
    "from bunkatopics import Bunka\n",
    "from langchain.embeddings import HuggingFaceEmbeddings\n",
    "import random\n",
    "from datasets import load_dataset\n",
    "import os\n",
    "from dotenv import load_dotenv\n",
    "\n",
    "load_dotenv()"
   ]
  },
  {
   "cell_type": "code",
   "execution_count": 9,
   "id": "2f5ffc06-902f-4ff2-a95d-3c8dceba9f08",
   "metadata": {},
   "outputs": [],
   "source": [
    "import sys\n",
    "\n",
    "sys.path.append(\"../\")\n",
    "\n",
    "import sqlite3\n",
    "\n",
    "import os\n",
    "import pandas as pd\n",
    "\n",
    "from dotenv import load_dotenv\n",
    "\n",
    "# Load the environment variables from the .env file\n",
    "dotenv_path = os.path.join(\"../\", \".env\")\n",
    "load_dotenv(dotenv_path)\n",
    "\n",
    "\n",
    "conn = sqlite3.connect(os.getenv(\"DB_SCIENCE_PATH\"))\n",
    "\n",
    "df = pd.read_sql(\"SELECT * FROM wiki_abtract\", conn)\n",
    "df = df.drop_duplicates('wikidata_id', keep='first')"
   ]
  },
  {
   "cell_type": "code",
   "execution_count": 10,
   "id": "f9a02cf0-dab5-44f3-829b-b1d4a7a5f301",
   "metadata": {},
   "outputs": [],
   "source": [
    "texts = list(df.clean_abstract)\n",
    "ids =  list(df.wikidata_id)"
   ]
  },
  {
   "cell_type": "code",
   "execution_count": 15,
   "id": "dc496691-ba78-41d7-88f2-908d273ecfbf",
   "metadata": {},
   "outputs": [
    {
     "name": "stderr",
     "output_type": "stream",
     "text": [
      "\u001b[1mINFO      \u001b[0m|\u001b[33m2023-11-08 18:07:57\u001b[0m|\u001b[35m{}\u001b[0m|\u001b[34mfit\u001b[0m|\u001b[1mExtracting Terms\u001b[0m\n",
      "/Users/charlesdedampierre/Desktop/bunka_related_projects/BunkaTopics/.venv/lib/python3.10/site-packages/spacy/util.py:910: UserWarning: [W095] Model 'en_core_web_sm' (3.5.0) was trained with spaCy v3.5.0 and may not be 100% compatible with the current version (3.6.1). If you see errors or degraded performance, download a newer compatible model or retrain your custom model with the current spaCy version. For more details and available updates, run: python -m spacy validate\n",
      "  warnings.warn(warn_msg)\n",
      "100%|██████████████████████████████████████████████████| 12794/12794 [03:52<00:00, 54.99it/s]\n",
      "\u001b[1mINFO      \u001b[0m|\u001b[33m2023-11-08 18:11:52\u001b[0m|\u001b[35m{}\u001b[0m|\u001b[34mfit\u001b[0m|\u001b[1mEmbedding Documents, this may take few minutes\u001b[0m\n",
      "\u001b[1mINFO      \u001b[0m|\u001b[33m2023-11-08 18:22:21\u001b[0m|\u001b[35m{}\u001b[0m|\u001b[34mfit\u001b[0m|\u001b[1mReducing Dimensions\u001b[0m\n",
      "/Users/charlesdedampierre/Desktop/bunka_related_projects/BunkaTopics/.venv/lib/python3.10/site-packages/umap/umap_.py:1943: UserWarning: n_jobs value -1 overridden to 1 by setting random_state. Use no seed for parallelism.\n",
      "  warn(f\"n_jobs value {self.n_jobs} overridden to 1 by setting random_state. Use no seed for parallelism.\")\n",
      "OMP: Info #276: omp_set_nested routine deprecated, please use omp_set_max_active_levels instead.\n"
     ]
    }
   ],
   "source": [
    "embedding_model = HuggingFaceEmbeddings(model_name=\"all-MiniLM-L6-v2\")\n",
    "embedding_model = HuggingFaceEmbeddings(model_name=\"BAAI/bge-base-en-v1.5\")\n",
    "\n",
    "bunka = Bunka(embedding_model=embedding_model)\n",
    "bunka.fit(docs = texts, ids = ids)"
   ]
  },
  {
   "cell_type": "code",
   "execution_count": 48,
   "id": "46704634-d3ed-4d81-bdc5-fab30800fbd5",
   "metadata": {},
   "outputs": [],
   "source": [
    "# Topic Modeling\n",
    "df_topics = bunka.get_topics(n_clusters=20, name_lenght=4, min_count_terms = 50, top_terms_overall=3000)"
   ]
  },
  {
   "cell_type": "code",
   "execution_count": 49,
   "id": "96e55dbf-ff21-43e7-a518-b9135492c30d",
   "metadata": {},
   "outputs": [
    {
     "data": {
      "text/plain": [
       "['economist | economics | philosopher | economy',\n",
       " 'footballer | cricketer | player | politician',\n",
       " 'astronomer | philosopher | astrologer | mathematician',\n",
       " 'physicist | electricity | inventor | heat',\n",
       " 'mineralogist | geologist | paleontologist | mineralogy',\n",
       " 'naturalist | botanist | illustrator | plants',\n",
       " 'anatomist | anatomy | physiologist | physiology',\n",
       " 'polymath | astronomy | commentary | astronomers',\n",
       " 'archaeologist | excavations | archaeology | naturalist',\n",
       " 'entomologist | entomology | insects | ornithologist',\n",
       " 'astronomer | mathematician | mathematics | geometry',\n",
       " 'histoire | naturelle | entomologique | Muséum',\n",
       " 'archaeologist | geologist | geology | palaeontologist',\n",
       " 'cartographer | maps | sco | map',\n",
       " 'ethnographer | team | statesman | commander',\n",
       " 'botanist | genus | plant | botany',\n",
       " 'composer | music | theorist | composers',\n",
       " 'dynasty | period | official | calendar',\n",
       " 'chemist | chemistry | chemical | acid',\n",
       " 'cartographer | maps | geographer | archaeologist']"
      ]
     },
     "execution_count": 49,
     "metadata": {},
     "output_type": "execute_result"
    }
   ],
   "source": [
    "list(df_topics.name)"
   ]
  },
  {
   "cell_type": "code",
   "execution_count": null,
   "id": "62f74a2a-ec22-4999-b34e-d068b7dae469",
   "metadata": {},
   "outputs": [],
   "source": []
  },
  {
   "cell_type": "code",
   "execution_count": 44,
   "id": "3add3581-9213-4c45-aebc-bc7da63aee57",
   "metadata": {},
   "outputs": [
    {
     "data": {
      "text/plain": [
       "\u001b[0;31mSignature:\u001b[0m\n",
       "\u001b[0mbunka\u001b[0m\u001b[0;34m.\u001b[0m\u001b[0mget_topics\u001b[0m\u001b[0;34m(\u001b[0m\u001b[0;34m\u001b[0m\n",
       "\u001b[0;34m\u001b[0m    \u001b[0mn_clusters\u001b[0m\u001b[0;34m=\u001b[0m\u001b[0;36m5\u001b[0m\u001b[0;34m,\u001b[0m\u001b[0;34m\u001b[0m\n",
       "\u001b[0;34m\u001b[0m    \u001b[0mngrams\u001b[0m\u001b[0;34m=\u001b[0m\u001b[0;34m[\u001b[0m\u001b[0;36m1\u001b[0m\u001b[0;34m,\u001b[0m \u001b[0;36m2\u001b[0m\u001b[0;34m]\u001b[0m\u001b[0;34m,\u001b[0m\u001b[0;34m\u001b[0m\n",
       "\u001b[0;34m\u001b[0m    \u001b[0mname_lenght\u001b[0m\u001b[0;34m=\u001b[0m\u001b[0;36m15\u001b[0m\u001b[0;34m,\u001b[0m\u001b[0;34m\u001b[0m\n",
       "\u001b[0;34m\u001b[0m    \u001b[0mtop_terms_overall\u001b[0m\u001b[0;34m=\u001b[0m\u001b[0;36m2000\u001b[0m\u001b[0;34m,\u001b[0m\u001b[0;34m\u001b[0m\n",
       "\u001b[0;34m\u001b[0m    \u001b[0mmin_count_terms\u001b[0m\u001b[0;34m=\u001b[0m\u001b[0;36m20\u001b[0m\u001b[0;34m,\u001b[0m\u001b[0;34m\u001b[0m\n",
       "\u001b[0;34m\u001b[0m\u001b[0;34m)\u001b[0m \u001b[0;34m->\u001b[0m \u001b[0mpandas\u001b[0m\u001b[0;34m.\u001b[0m\u001b[0mcore\u001b[0m\u001b[0;34m.\u001b[0m\u001b[0mframe\u001b[0m\u001b[0;34m.\u001b[0m\u001b[0mDataFrame\u001b[0m\u001b[0;34m\u001b[0m\u001b[0;34m\u001b[0m\u001b[0m\n",
       "\u001b[0;31mDocstring:\u001b[0m <no docstring>\n",
       "\u001b[0;31mFile:\u001b[0m      ~/Desktop/bunka_related_projects/BunkaTopics/bunkatopics/bunkatopics.py\n",
       "\u001b[0;31mType:\u001b[0m      method"
      ]
     },
     "metadata": {},
     "output_type": "display_data"
    }
   ],
   "source": [
    "?bunka.get_topics"
   ]
  },
  {
   "cell_type": "code",
   "execution_count": 24,
   "id": "df31618d-db66-4416-b356-6d0ce39457e6",
   "metadata": {},
   "outputs": [],
   "source": [
    "df_docs = pd.DataFrame([x.dict() for x in bunka.docs])"
   ]
  },
  {
   "cell_type": "code",
   "execution_count": 27,
   "id": "a6515ac9-fd15-4217-a493-9fb5ce58c800",
   "metadata": {},
   "outputs": [],
   "source": [
    "df_topics = pd.DataFrame([x.dict() for x in bunka.topics])"
   ]
  },
  {
   "cell_type": "code",
   "execution_count": 29,
   "id": "47d43864-b117-432d-94a6-a201d785fc9b",
   "metadata": {},
   "outputs": [],
   "source": [
    "df_bunka = pd.merge(df_docs, df_topics, on = 'topic_id')"
   ]
  },
  {
   "cell_type": "code",
   "execution_count": 31,
   "id": "f90ad2a5-dce1-4011-aba4-4514d8160e17",
   "metadata": {},
   "outputs": [],
   "source": [
    "df_bunka = df_bunka[['doc_id', 'content', 'topic_id', 'name']]"
   ]
  },
  {
   "cell_type": "code",
   "execution_count": 35,
   "id": "4da4f640-a2de-4ca1-a5de-b40942a40c43",
   "metadata": {},
   "outputs": [],
   "source": [
    "df_bunka = df_bunka[~df_bunka['content'].str.contains('may refer to')]\n",
    "df_bunka = df_bunka[~df_bunka['content'].str.contains('could refer')]"
   ]
  },
  {
   "cell_type": "code",
   "execution_count": null,
   "id": "9cc0ebb0-b20f-4768-9085-fec0ac84b48b",
   "metadata": {},
   "outputs": [],
   "source": []
  },
  {
   "cell_type": "code",
   "execution_count": 43,
   "id": "5748539d-6a3f-4ec4-9fac-a66e3ef815d2",
   "metadata": {},
   "outputs": [
    {
     "data": {
      "text/plain": [
       "['astronomer | asteroid | observatory | crater | comets | asteroids | comet | Moon | planet | astronomy',\n",
       " 'footballer | player | cricketer | driver | union | John | politician | producer | antiquary | actor',\n",
       " 'team | medal | bronze | event | ethnographer | Imperial | ice | commander | hockey | chairman',\n",
       " 'entomologist | insects | ornithologist | entomology | species | insect | für | collection | birds | Diptera',\n",
       " 'cartographer | chart | conquest | cartographers | navigator | charts | maps | islands | map | atlases',\n",
       " 'Carl Linnaeus | botanist | Uppsala University | plants | abbreviation | zoologist | reptiles | Java | genus | plant',\n",
       " 'pharmacist | medicine | zoologist | physician | biologist | pharmacy | doctorate | zoology | professor | physiologist',\n",
       " 'astronomer | mathematician | Royal Society | Isaac Newton | telescope | fellow | clergyman | astronomy | equation | Oxford',\n",
       " 'cricketer | footballer | football | politician | coach | judge | basketball | player | actor | sailor',\n",
       " 'cartographer | maps | map | geographer | hydrographer | surveyor | engraver | atlases | county | topographer',\n",
       " 'chemist | chemistry | chemical | compounds | reaction | acid | element | compound | acids | elements',\n",
       " 'physicist | inventor | electricity | heat | thermodynamics | gases | current | steam | magnetism | invention',\n",
       " 'explorer | botanist | naturalist | zoologist | paleontologist | physician | Copenhagen | fossils | plants | Uppsala University',\n",
       " 'composer | music | theorist | composers | compositions | operas | piano | pianist | musicologist | opera',\n",
       " 'archaeologist | archaeology | excavations | ologist | monuments | ruins | excavation | antiquarian | historian | antiquities',\n",
       " 'entomologist | entomologique | entomology | insects | beetles | butterflies | entomologists | Société | moths | insect',\n",
       " 'sco | missionary | priest | humanist | Renaissance | antiquarian | architecture | antiquities | architect | Baroque',\n",
       " 'footballer | player | politician | football | actor | cyclist | basketball | film director | hockey | painter',\n",
       " 'economist | economics | economy | economists | market | socialism | liberalism | trade | advocate | thought',\n",
       " 'polymath | astronomy | l | ad | astronomers | scholar | logic | century | commentary | encyclopedia',\n",
       " 'paleontologist | geology | geologist | naturalist | Georges Cuvier | mineral | mining engineer | paleontology | d | mines',\n",
       " 'dynasty | courtesy | Edo | period | official | calendar | sphere | compilation | scholar | reign',\n",
       " 'cricketer | footballer | player | James | actor | baseball | politician | football | William | businessman',\n",
       " 'mathematician | geometry | number theory | mathematics | numbers | mathematicians | theorem | functions | calculus | surfaces',\n",
       " 'delle | dei | Pisa | degli | garden | naturalist | botanist | botany | excavations | archaeologist',\n",
       " 'archaeologist | philology | philologist | archaeology | inscriptions | Parliament | art historian | travel | scholar | politician',\n",
       " 'histoire | botanist | naturelle | botanique | genus | Muséum | species | plants | botany | herbarium',\n",
       " 'geologist | palaeontologist | fossils | geology | Owen | fossil | Charles Darwin | selection | survey | rocks',\n",
       " 'Plato | Alexandria | fragments | antiquity | philosopher | commentaries | AD | philosophers | astrologer | universe',\n",
       " 'botanist | naturalist | Linnean Society | plants | nursery | Botany | illustrator | nurseryman | specimens | plant',\n",
       " 'chemistry | physician | physiologist | chemist | pharmacologist | disease | bacteria | laboratory | acid | blood',\n",
       " 'anatomist | anatomy | physiology | brain | physiologist | surgeon | nerve | prosector | blood | surgery',\n",
       " 'philosopher | reformer | theologian | Renaissance | pastor | theology | humanist | pedagogue | philosophy | Benedictine',\n",
       " 'village | folklorist | dean | teachers | exile | reform | building | faculty | folklore | school',\n",
       " 'cartographer | engraver | maps | painter | economist | cartography | map | cartographers | publisher | globes',\n",
       " 'mathematician | astronomer | mathematics | hydraulics | Catholic Church | priest | Bologna | Giovanni Battista | sco | abbot',\n",
       " 'Slovene | activist | sociologist | ethnographer | statesman | politician | folk songs | Marx | leaders | n',\n",
       " 'botanist | genus | botany | plant | honor | flora | plants | herbarium | excursions | species',\n",
       " 'astronomer | crater | astrologer | Kepler | sunspots | Copernicus | astronomy | maker | Moon | Sun',\n",
       " 'mineralogist | geologist | mineralogy | geology | mining | mineral | mines | paleontologist | Copenhagen | philology']"
      ]
     },
     "execution_count": 43,
     "metadata": {},
     "output_type": "execute_result"
    }
   ],
   "source": [
    "list(set(df_bunka.name))"
   ]
  },
  {
   "cell_type": "code",
   "execution_count": null,
   "id": "59d5b4a1-8801-4057-9ca8-51fa35932393",
   "metadata": {},
   "outputs": [],
   "source": []
  },
  {
   "cell_type": "code",
   "execution_count": null,
   "id": "863ebe7c-c044-46e8-ac02-ba8344f4e22c",
   "metadata": {},
   "outputs": [],
   "source": []
  }
 ],
 "metadata": {
  "kernelspec": {
   "display_name": "Python 3 (ipykernel)",
   "language": "python",
   "name": "python3"
  },
  "language_info": {
   "codemirror_mode": {
    "name": "ipython",
    "version": 3
   },
   "file_extension": ".py",
   "mimetype": "text/x-python",
   "name": "python",
   "nbconvert_exporter": "python",
   "pygments_lexer": "ipython3",
   "version": "3.10.13"
  }
 },
 "nbformat": 4,
 "nbformat_minor": 5
}
