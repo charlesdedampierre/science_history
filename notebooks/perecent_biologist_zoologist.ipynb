{
 "cells": [
  {
   "cell_type": "code",
   "execution_count": 73,
   "id": "9ec69ebb-02af-420d-a7b1-9c52b3d8772d",
   "metadata": {
    "tags": []
   },
   "outputs": [],
   "source": [
    "import sys\n",
    "\n",
    "sys.path.append(\"../\")\n",
    "\n",
    "import sqlite3\n",
    "import typing as t\n",
    "\n",
    "import pandas as pd\n",
    "\n",
    "pd.options.mode.chained_assignment = None\n",
    "\n",
    "def clean_list_occupation(\n",
    "    clean_dict: t.List[dict], list_targeted: t.List[str]\n",
    ") -> t.List[str]:\n",
    "    for list_model in clean_dict:\n",
    "        occupation_pair = list_model[\"occupation_pair\"]\n",
    "        remove_occupation = list_model[\"remove_occupation\"]\n",
    "\n",
    "        if all(elem in list_targeted for elem in occupation_pair):\n",
    "            list_targeted.remove(remove_occupation)\n",
    "        else:\n",
    "            pass\n",
    "\n",
    "    return list_targeted\n",
    "\n",
    "\n",
    "def check(list_targeted):\n",
    "    if all(elem in list_targeted for elem in [\"botanist\", \"biologist\"]):\n",
    "        return 1\n",
    "    else:\n",
    "        return 0\n",
    "\n",
    "\n",
    "def check_if_contains(list, occupation: str):\n",
    "    if occupation in list:\n",
    "        return 1\n",
    "    else:\n",
    "        return 0\n",
    "\n",
    "\n",
    "def get_proportionned_occupations(\n",
    "    data_final, data_merge, occupation_select=\"biologist\"\n",
    "):\n",
    "    list_inds = list(\n",
    "        set(data_merge[data_merge[\"meta_occupation\"] == occupation_select].wikidata_id)\n",
    "    )\n",
    "    data_select = data_merge[data_merge[\"wikidata_id\"].isin(list_inds)]\n",
    "\n",
    "    def get_len_occupation(x=\"zoologist\"):\n",
    "        len_occ_1 = len(\n",
    "            set(data_select[data_select[\"meta_occupation\"] == x].wikidata_id)\n",
    "        )\n",
    "        res = round(len_occ_1 / len(list_inds), 1)\n",
    "        return res\n",
    "\n",
    "    len_zoologist = get_len_occupation(x=\"zoologist\")\n",
    "    len_botanist = get_len_occupation(x=\"botanist\")\n",
    "    len_anatomist = get_len_occupation(x=\"anatomist\")\n",
    "\n",
    "    data_final_without_bio = data_final[\n",
    "        data_final[\"meta_occupation\"] != occupation_select\n",
    "    ]\n",
    "    data_final_biologists = data_final[\n",
    "        data_final[\"meta_occupation\"] == occupation_select\n",
    "    ]\n",
    "\n",
    "    number_zoologists = int(len_zoologist * len(data_final_biologists))\n",
    "    number_botanists = int(len_botanist * len(data_final_biologists))\n",
    "    number_anatomists = int(len_anatomist * len(data_final_biologists))\n",
    "\n",
    "    data_final_biologists[\"meta_occupation\"][:number_zoologists] = \"zoologist\"\n",
    "    data_final_biologists[\"meta_occupation\"][\n",
    "        number_zoologists : number_zoologists + number_botanists\n",
    "    ] = \"botanist\"\n",
    "    data_final_biologists[\"meta_occupation\"][\n",
    "        number_zoologists + number_botanists :\n",
    "    ] = \"anatomist\"\n",
    "\n",
    "    df_final_new = pd.concat([data_final_without_bio, data_final_biologists])\n",
    "\n",
    "    return df_final_new"
   ]
  },
  {
   "cell_type": "code",
   "execution_count": 74,
   "id": "d118baaf-7590-47ac-b1ca-6e4cee7315d8",
   "metadata": {
    "tags": []
   },
   "outputs": [],
   "source": [
    "from functions.env import DATA_PATH, DB_SCIENCE_PATH"
   ]
  },
  {
   "cell_type": "code",
   "execution_count": 75,
   "id": "78886f1b-938c-412a-aaf5-b2826897e44c",
   "metadata": {
    "tags": []
   },
   "outputs": [],
   "source": [
    "data = pd.read_csv(DATA_PATH + \"/df_indi_occupations.csv\", index_col=[0])"
   ]
  },
  {
   "cell_type": "code",
   "execution_count": 76,
   "id": "6cc50de5-d741-4d5b-bd71-23dff55865e4",
   "metadata": {
    "tags": []
   },
   "outputs": [],
   "source": [
    "df_annotation = pd.read_excel(\n",
    "        DATA_PATH + \"/ENS - True Science.xlsx\", sheet_name=\"cleaning_top_occupations\"\n",
    "    )\n",
    "\n",
    "df_annotation = df_annotation[df_annotation[\"erase\"].isna()]\n",
    "df_annotation = df_annotation[df_annotation[\"count_occupation\"] >= 10]\n",
    "df_annotation = df_annotation[[\"occupation\", \"meta_occupation\"]].reset_index(\n",
    "    drop=True\n",
    ")"
   ]
  },
  {
   "cell_type": "code",
   "execution_count": 77,
   "id": "70a07e50-145d-4f07-97cc-edbc563d7ddc",
   "metadata": {
    "tags": []
   },
   "outputs": [],
   "source": [
    "clean_dict = pd.read_excel(\n",
    "    DATA_PATH + \"/ENS - True Science.xlsx\", sheet_name=\"co_occurence_occupation\"\n",
    ")\n",
    "\n",
    "clean_dict = (\n",
    "    clean_dict[[\"source\", \"target\", \"remove_occupation\"]]\n",
    "    .dropna()\n",
    "    .reset_index(drop=True)\n",
    ")\n",
    "clean_dict[\"occupation_pair\"] = clean_dict.apply(\n",
    "    lambda x: [x[\"source\"], x[\"target\"]], axis=1\n",
    ")\n",
    "\n",
    "clean_dict = clean_dict[[\"occupation_pair\", \"remove_occupation\"]].to_dict(\n",
    "    orient=\"records\"\n",
    ")\n",
    "\n",
    "\n",
    "data_merge = pd.merge(data, df_annotation, on=\"occupation\")\n",
    "data_merge = data_merge.drop(\"occupation\", axis=1).drop_duplicates()\n",
    "\n",
    "\n",
    "data_group = (\n",
    "        data_merge.groupby(\"wikidata_id\")[\"meta_occupation\"].apply(list).reset_index()\n",
    "    )\n",
    "\n",
    "data_group[\"meta_occupation\"] = data_group[\"meta_occupation\"].apply(\n",
    "        lambda x: list(set(x))\n",
    "    )\n",
    "\n",
    "data_group[\"meta_occupation\"] = data_group[\"meta_occupation\"].apply(\n",
    "        lambda x: clean_list_occupation(clean_dict, x)\n",
    "    )\n",
    "\n",
    "data_final = data_group.explode(\"meta_occupation\")"
   ]
  },
  {
   "cell_type": "code",
   "execution_count": null,
   "id": "51170ddb-9002-4bf6-ab2f-98838f202d6a",
   "metadata": {},
   "outputs": [],
   "source": []
  },
  {
   "cell_type": "code",
   "execution_count": 78,
   "id": "3ecfc317-5723-4505-afaa-7debdfd3cd3a",
   "metadata": {
    "tags": []
   },
   "outputs": [],
   "source": [
    "list_inds = list(\n",
    "    set(data_merge[data_merge[\"meta_occupation\"] == \"biologist\"].wikidata_id)\n",
    ")\n",
    "data_select = data_merge[data_merge[\"wikidata_id\"].isin(list_inds)]"
   ]
  },
  {
   "cell_type": "code",
   "execution_count": 79,
   "id": "f0b7d485-4859-4168-bdcb-3584e3f7d9eb",
   "metadata": {
    "tags": []
   },
   "outputs": [
    {
     "data": {
      "text/plain": [
       "biologist              433\n",
       "zoologist              203\n",
       "botanist               154\n",
       "naturalist              85\n",
       "anatomist               72\n",
       "geologist               28\n",
       "philosopher             28\n",
       "chemist                 26\n",
       "anthropologist          26\n",
       "physicist               22\n",
       "paleontologist          21\n",
       "historian               19\n",
       "archeologist            13\n",
       "mathematician           13\n",
       "geographer              12\n",
       "astronomer              11\n",
       "linguist                 8\n",
       "economist                5\n",
       "theologian               5\n",
       "geneticist               4\n",
       "meteorologist            4\n",
       "ecologist                2\n",
       "musicologist             2\n",
       "political scientist      1\n",
       "sociologist              1\n",
       "taxonomist               1\n",
       "pharmacologist           1\n",
       "art theorist             1\n",
       "epidemiologist           1\n",
       "Name: meta_occupation, dtype: int64"
      ]
     },
     "execution_count": 79,
     "metadata": {},
     "output_type": "execute_result"
    }
   ],
   "source": [
    "data_select.meta_occupation.value_counts()"
   ]
  },
  {
   "cell_type": "code",
   "execution_count": 80,
   "id": "7047a70d-e9ba-48c2-8b64-1c25892542cd",
   "metadata": {
    "tags": []
   },
   "outputs": [
    {
     "data": {
      "text/plain": [
       "0.46882217090069284"
      ]
     },
     "execution_count": 80,
     "metadata": {},
     "output_type": "execute_result"
    }
   ],
   "source": [
    "percent_zoologist = 203/433\n",
    "percent_zoologist"
   ]
  },
  {
   "cell_type": "code",
   "execution_count": null,
   "id": "10a2cb2f-3118-4fde-90d8-b573768977ed",
   "metadata": {},
   "outputs": [],
   "source": []
  },
  {
   "cell_type": "code",
   "execution_count": null,
   "id": "1931219c-a204-4725-97c5-0e7897fa7bfa",
   "metadata": {},
   "outputs": [],
   "source": []
  }
 ],
 "metadata": {
  "kernelspec": {
   "display_name": "Python 3 (ipykernel)",
   "language": "python",
   "name": "python3"
  },
  "language_info": {
   "codemirror_mode": {
    "name": "ipython",
    "version": 3
   },
   "file_extension": ".py",
   "mimetype": "text/x-python",
   "name": "python",
   "nbconvert_exporter": "python",
   "pygments_lexer": "ipython3",
   "version": "3.8.18"
  }
 },
 "nbformat": 4,
 "nbformat_minor": 5
}
