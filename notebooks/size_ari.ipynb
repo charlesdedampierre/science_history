{
 "cells": [
  {
   "cell_type": "code",
   "execution_count": 8,
   "id": "a398f95d-2e93-4607-b52c-368d02a954a3",
   "metadata": {
    "tags": []
   },
   "outputs": [],
   "source": [
    "import sqlite3\n",
    "import pandas as pd\n",
    "import numpy as np\n",
    "import os\n",
    "import polars as pl\n",
    "\n",
    "import random\n",
    "random.seed(42)\n",
    "\n",
    "import sys\n",
    "\n",
    "sys.path.append('../')\n",
    "from src.feat_network import get_edge_node_table, filter_edge_table\n",
    "from src.feat_visualization import sygma_graph\n",
    "from src.datamodel import OptimumParameter\n",
    "from tqdm import tqdm\n",
    "from sklearn.metrics import adjusted_rand_score\n"
   ]
  },
  {
   "cell_type": "code",
   "execution_count": 9,
   "id": "4e03829f-febf-402d-8724-f1ae1742b816",
   "metadata": {
    "tags": []
   },
   "outputs": [
    {
     "data": {
      "text/plain": [
       "True"
      ]
     },
     "execution_count": 9,
     "metadata": {},
     "output_type": "execute_result"
    }
   ],
   "source": [
    "from dotenv import load_dotenv\n",
    "\n",
    "load_dotenv()"
   ]
  },
  {
   "cell_type": "code",
   "execution_count": 10,
   "id": "3574f53e-b799-4b8f-920e-9f64761d09fe",
   "metadata": {
    "tags": []
   },
   "outputs": [],
   "source": [
    "conn_full_db = sqlite3.connect(os.getenv(\"FULL_DB_PATH\"))\n",
    "conn = sqlite3.connect(\"../database.db\")\n",
    "\n",
    "df_ind_regions = pd.read_sql_query(\n",
    "        \"SELECT * FROM individuals_regions\", conn_full_db\n",
    "    )\n",
    "df_ind_regions = df_ind_regions.rename(\n",
    "        columns={\"individual_wikidata_id\": \"wikidata_id\"}\n",
    "    )"
   ]
  },
  {
   "cell_type": "code",
   "execution_count": 11,
   "id": "5daebe42-2921-42dd-90ba-e8d8ab90a456",
   "metadata": {
    "tags": []
   },
   "outputs": [],
   "source": [
    "df_occupation = pd.read_sql(\"SELECT * FROM individual_id_cleaned_occupations\", conn)\n",
    "df_indi = pd.merge(df_ind_regions, df_occupation, on = 'wikidata_id')\n",
    "df_indi = df_indi[['wikidata_id', 'region_code']].drop_duplicates()\n",
    "df_region_count = df_indi.groupby('region_code')['wikidata_id'].count().rename('count_individuals').reset_index()"
   ]
  },
  {
   "cell_type": "code",
   "execution_count": null,
   "id": "8f967457-976d-4d72-a78b-8bb0c81183fd",
   "metadata": {
    "tags": []
   },
   "outputs": [],
   "source": []
  },
  {
   "cell_type": "code",
   "execution_count": 12,
   "id": "59087dae-be19-4023-9244-754aba2e93b7",
   "metadata": {
    "tags": []
   },
   "outputs": [],
   "source": [
    "df_baseline = pd.read_sql(\"SELECT * FROM optimal_partition\", conn)\n",
    "df_baseline = df_baseline.rename(columns = {'community':'community_baseline'})\n",
    "\n",
    "df_region_parition = pd.read_sql(\"SELECT * FROM region_optimized_partition\", conn)\n",
    "\n",
    "\n"
   ]
  },
  {
   "cell_type": "code",
   "execution_count": null,
   "id": "b0b2a0b0-8896-46a3-962d-06124bba3773",
   "metadata": {
    "tags": []
   },
   "outputs": [],
   "source": []
  },
  {
   "cell_type": "code",
   "execution_count": 70,
   "id": "bf9b2f7c-e3eb-4789-8660-1d852a716b75",
   "metadata": {
    "tags": []
   },
   "outputs": [],
   "source": [
    "pivot_df = df_region_parition.pivot_table(index='node', columns='region_code', values='community', fill_value=np.nan)\n",
    "#new_columns = ['community_' + region for region in pivot_df.columns]\n",
    "#pivot_df.columns = new_columns\n",
    "pivot_df = pivot_df.reset_index()\n",
    "df = pd.merge(df_baseline, pivot_df, on = 'node')\n",
    "df = df.set_index('node')\n",
    "\n",
    "baseline_community = list(df['community_baseline'])\n",
    "\n",
    "fina_list = []\n",
    "for col in df.columns:\n",
    "    \n",
    "    #new_df = df[['community_baseline', col]].dropna()\n",
    "    new_df = df[['community_baseline', col]].fillna(3)\n",
    "\n",
    "    ari = adjusted_rand_score(list(new_df[col]), list(new_df['community_baseline']))\n",
    "    fina_list.append({'region':col, 'ari_baseline':ari})\n",
    "    \n",
    "df_region_ari = pd.DataFrame(fina_list)\n",
    "df_region_ari = df_region_ari.sort_values('ari_baseline', ascending=False)\n",
    "df_region_ari = df_region_ari.reset_index(drop=True)"
   ]
  },
  {
   "cell_type": "code",
   "execution_count": 71,
   "id": "3029a32f-1941-4fdb-b0d2-70e68ac412af",
   "metadata": {
    "tags": []
   },
   "outputs": [],
   "source": [
    "pd.options.mode.chained_assignment = None"
   ]
  },
  {
   "cell_type": "code",
   "execution_count": 72,
   "id": "b731483e-49a8-4bcc-a5ec-c67ef9acdb44",
   "metadata": {
    "tags": []
   },
   "outputs": [],
   "source": [
    "\n",
    "regions = list(df_region_count['region_code'])\n",
    "count_individuals = list(df_region_count['count_individuals'])\n",
    "\n",
    "dict_regions_count = {x: y for x, y in zip(regions, count_individuals)}"
   ]
  },
  {
   "cell_type": "code",
   "execution_count": 73,
   "id": "ca091e53-af16-45ed-856d-c6b74c94deea",
   "metadata": {
    "tags": []
   },
   "outputs": [],
   "source": [
    "all_regions = list(df_region_count.region_code)\n",
    "all_individuals = list(set(df_occupation.wikidata_id))"
   ]
  },
  {
   "cell_type": "code",
   "execution_count": null,
   "id": "34a1b189-742f-4ff9-98bd-2ab2f14079d5",
   "metadata": {
    "tags": []
   },
   "outputs": [],
   "source": []
  },
  {
   "cell_type": "code",
   "execution_count": 74,
   "id": "ec21d8f3-55ed-4a0d-a4d1-1e105d59ac16",
   "metadata": {
    "tags": []
   },
   "outputs": [],
   "source": [
    "\n",
    "optimal_parameters = pd.read_sql(\"SELECT * FROM optimization\", conn)\n",
    "optimal_parameters = optimal_parameters.sort_values(\"mean\", ascending=False)\n",
    "\n",
    "dict_op = optimal_parameters.iloc[0].to_dict()\n",
    "dict_op = OptimumParameter(**dict_op)"
   ]
  },
  {
   "cell_type": "code",
   "execution_count": 75,
   "id": "10e30a4e-96a1-4c08-b076-a779538d4d32",
   "metadata": {
    "tags": []
   },
   "outputs": [],
   "source": [
    "directory = \"../cache\"\n",
    "if not os.path.exists(directory):\n",
    "    os.makedirs(directory)"
   ]
  },
  {
   "cell_type": "code",
   "execution_count": null,
   "id": "2dba7c6c-3579-42f0-9be1-6d62537dd9b3",
   "metadata": {
    "tags": []
   },
   "outputs": [],
   "source": []
  },
  {
   "cell_type": "code",
   "execution_count": 79,
   "id": "a265812f-96a9-4ed9-aec9-673f775bcced",
   "metadata": {
    "tags": []
   },
   "outputs": [
    {
     "name": "stderr",
     "output_type": "stream",
     "text": [
      "100%|██████████████████████████████████████████████████████████████████████████| 53/53 [01:44<00:00,  1.97s/it]\n"
     ]
    }
   ],
   "source": [
    "final_clustering= []\n",
    "all_regions = list(df_region_count.region_code)\n",
    "for region_code in tqdm(all_regions):\n",
    "    \n",
    "    random_clustering = []\n",
    "    for seed in np.arange(5):\n",
    "        random.seed(seed)    \n",
    "        try:\n",
    "\n",
    "            # take a sample of individuals as big as the region\n",
    "            sample_len = dict_regions_count.get(region_code)\n",
    "            sample_ids = random.sample(all_individuals, sample_len)\n",
    "            df_sample = df_occupation[df_occupation['wikidata_id'].isin(sample_ids)]\n",
    "            df_sample.columns = [\"source\", \"target\"]\n",
    "            df_sample[\"weight\"] = 1\n",
    "\n",
    "            # Draw the graph\n",
    "            df_sample = pl.from_pandas(df_sample)\n",
    "\n",
    "            df_edge, df_nodes = get_edge_node_table(df_sample)\n",
    "\n",
    "            df_edge_filter = filter_edge_table(\n",
    "                df_edge,\n",
    "                edge_rule=dict_op.edge_rule,\n",
    "                top_directed_neighbours=dict_op.n_neighbours,\n",
    "                normalize_on_top=False,\n",
    "                min_count_link=0,\n",
    "            )\n",
    "\n",
    "            df_partition = sygma_graph(\n",
    "                df_edge_filter,\n",
    "                df_nodes,\n",
    "                edge_bins=10,\n",
    "                node_bins=10,\n",
    "                resolution=dict_op.resolution,\n",
    "                filepath=\"../cache/cache_graph.html\",\n",
    "            )    \n",
    "\n",
    "            df_partition = df_partition.rename(columns = {'community':f'community_{seed}'})\n",
    "            random_clustering.append(df_partition)\n",
    "\n",
    "        except:\n",
    "            pass\n",
    "        \n",
    "    merged_df = random_clustering[0]\n",
    "    for table in random_clustering[1:]:\n",
    "        merged_df = pd.merge(merged_df, table, on=[\"node\"], how = 'outer')\n",
    "    merged_df = merged_df.set_index(\"node\")\n",
    "    merged_df['region_code'] = region_code\n",
    "    final_clustering.append(merged_df)\n"
   ]
  },
  {
   "cell_type": "code",
   "execution_count": 80,
   "id": "defbe19f-b874-4d1a-b7ea-c242760c2351",
   "metadata": {
    "tags": []
   },
   "outputs": [],
   "source": [
    "df_final_clustering = pd.concat([x for x in final_clustering])"
   ]
  },
  {
   "cell_type": "code",
   "execution_count": 85,
   "id": "4447324b-7c8d-4541-937b-857161c20d58",
   "metadata": {
    "tags": []
   },
   "outputs": [
    {
     "data": {
      "text/html": [
       "<div>\n",
       "<style scoped>\n",
       "    .dataframe tbody tr th:only-of-type {\n",
       "        vertical-align: middle;\n",
       "    }\n",
       "\n",
       "    .dataframe tbody tr th {\n",
       "        vertical-align: top;\n",
       "    }\n",
       "\n",
       "    .dataframe thead th {\n",
       "        text-align: right;\n",
       "    }\n",
       "</style>\n",
       "<table border=\"1\" class=\"dataframe\">\n",
       "  <thead>\n",
       "    <tr style=\"text-align: right;\">\n",
       "      <th></th>\n",
       "      <th>community_0</th>\n",
       "      <th>community_1</th>\n",
       "      <th>community_2</th>\n",
       "      <th>community_3</th>\n",
       "      <th>community_4</th>\n",
       "      <th>region_code</th>\n",
       "    </tr>\n",
       "    <tr>\n",
       "      <th>node</th>\n",
       "      <th></th>\n",
       "      <th></th>\n",
       "      <th></th>\n",
       "      <th></th>\n",
       "      <th></th>\n",
       "      <th></th>\n",
       "    </tr>\n",
       "  </thead>\n",
       "  <tbody>\n",
       "    <tr>\n",
       "      <th>zoologist</th>\n",
       "      <td>0.0</td>\n",
       "      <td>0.0</td>\n",
       "      <td>0.0</td>\n",
       "      <td>1.0</td>\n",
       "      <td>0.0</td>\n",
       "      <td>re_france</td>\n",
       "    </tr>\n",
       "    <tr>\n",
       "      <th>pharmacologist</th>\n",
       "      <td>0.0</td>\n",
       "      <td>0.0</td>\n",
       "      <td>0.0</td>\n",
       "      <td>1.0</td>\n",
       "      <td>0.0</td>\n",
       "      <td>re_france</td>\n",
       "    </tr>\n",
       "    <tr>\n",
       "      <th>meteorologist</th>\n",
       "      <td>0.0</td>\n",
       "      <td>1.0</td>\n",
       "      <td>2.0</td>\n",
       "      <td>1.0</td>\n",
       "      <td>0.0</td>\n",
       "      <td>re_france</td>\n",
       "    </tr>\n",
       "    <tr>\n",
       "      <th>taxonomist</th>\n",
       "      <td>0.0</td>\n",
       "      <td>NaN</td>\n",
       "      <td>NaN</td>\n",
       "      <td>1.0</td>\n",
       "      <td>0.0</td>\n",
       "      <td>re_france</td>\n",
       "    </tr>\n",
       "    <tr>\n",
       "      <th>epidemiologist</th>\n",
       "      <td>0.0</td>\n",
       "      <td>NaN</td>\n",
       "      <td>2.0</td>\n",
       "      <td>0.0</td>\n",
       "      <td>NaN</td>\n",
       "      <td>re_france</td>\n",
       "    </tr>\n",
       "    <tr>\n",
       "      <th>physicist</th>\n",
       "      <td>0.0</td>\n",
       "      <td>1.0</td>\n",
       "      <td>2.0</td>\n",
       "      <td>0.0</td>\n",
       "      <td>0.0</td>\n",
       "      <td>re_france</td>\n",
       "    </tr>\n",
       "    <tr>\n",
       "      <th>chemist</th>\n",
       "      <td>0.0</td>\n",
       "      <td>0.0</td>\n",
       "      <td>0.0</td>\n",
       "      <td>1.0</td>\n",
       "      <td>0.0</td>\n",
       "      <td>re_france</td>\n",
       "    </tr>\n",
       "    <tr>\n",
       "      <th>ecologist</th>\n",
       "      <td>0.0</td>\n",
       "      <td>0.0</td>\n",
       "      <td>NaN</td>\n",
       "      <td>1.0</td>\n",
       "      <td>0.0</td>\n",
       "      <td>re_france</td>\n",
       "    </tr>\n",
       "    <tr>\n",
       "      <th>botanist</th>\n",
       "      <td>0.0</td>\n",
       "      <td>0.0</td>\n",
       "      <td>0.0</td>\n",
       "      <td>1.0</td>\n",
       "      <td>0.0</td>\n",
       "      <td>re_france</td>\n",
       "    </tr>\n",
       "    <tr>\n",
       "      <th>geologist</th>\n",
       "      <td>0.0</td>\n",
       "      <td>0.0</td>\n",
       "      <td>0.0</td>\n",
       "      <td>1.0</td>\n",
       "      <td>0.0</td>\n",
       "      <td>re_france</td>\n",
       "    </tr>\n",
       "    <tr>\n",
       "      <th>anatomist</th>\n",
       "      <td>0.0</td>\n",
       "      <td>0.0</td>\n",
       "      <td>0.0</td>\n",
       "      <td>1.0</td>\n",
       "      <td>0.0</td>\n",
       "      <td>re_france</td>\n",
       "    </tr>\n",
       "    <tr>\n",
       "      <th>paleontologist</th>\n",
       "      <td>0.0</td>\n",
       "      <td>0.0</td>\n",
       "      <td>0.0</td>\n",
       "      <td>1.0</td>\n",
       "      <td>0.0</td>\n",
       "      <td>re_france</td>\n",
       "    </tr>\n",
       "    <tr>\n",
       "      <th>historian</th>\n",
       "      <td>1.0</td>\n",
       "      <td>2.0</td>\n",
       "      <td>1.0</td>\n",
       "      <td>2.0</td>\n",
       "      <td>1.0</td>\n",
       "      <td>re_france</td>\n",
       "    </tr>\n",
       "    <tr>\n",
       "      <th>logician</th>\n",
       "      <td>1.0</td>\n",
       "      <td>1.0</td>\n",
       "      <td>1.0</td>\n",
       "      <td>0.0</td>\n",
       "      <td>2.0</td>\n",
       "      <td>re_france</td>\n",
       "    </tr>\n",
       "    <tr>\n",
       "      <th>art theorist</th>\n",
       "      <td>1.0</td>\n",
       "      <td>2.0</td>\n",
       "      <td>1.0</td>\n",
       "      <td>0.0</td>\n",
       "      <td>1.0</td>\n",
       "      <td>re_france</td>\n",
       "    </tr>\n",
       "    <tr>\n",
       "      <th>political scientist</th>\n",
       "      <td>1.0</td>\n",
       "      <td>2.0</td>\n",
       "      <td>1.0</td>\n",
       "      <td>2.0</td>\n",
       "      <td>1.0</td>\n",
       "      <td>re_france</td>\n",
       "    </tr>\n",
       "    <tr>\n",
       "      <th>economist</th>\n",
       "      <td>1.0</td>\n",
       "      <td>2.0</td>\n",
       "      <td>1.0</td>\n",
       "      <td>0.0</td>\n",
       "      <td>1.0</td>\n",
       "      <td>re_france</td>\n",
       "    </tr>\n",
       "    <tr>\n",
       "      <th>musicologist</th>\n",
       "      <td>1.0</td>\n",
       "      <td>1.0</td>\n",
       "      <td>1.0</td>\n",
       "      <td>0.0</td>\n",
       "      <td>1.0</td>\n",
       "      <td>re_france</td>\n",
       "    </tr>\n",
       "    <tr>\n",
       "      <th>astronomer</th>\n",
       "      <td>1.0</td>\n",
       "      <td>1.0</td>\n",
       "      <td>2.0</td>\n",
       "      <td>0.0</td>\n",
       "      <td>1.0</td>\n",
       "      <td>re_france</td>\n",
       "    </tr>\n",
       "    <tr>\n",
       "      <th>philosopher</th>\n",
       "      <td>1.0</td>\n",
       "      <td>1.0</td>\n",
       "      <td>1.0</td>\n",
       "      <td>0.0</td>\n",
       "      <td>1.0</td>\n",
       "      <td>re_france</td>\n",
       "    </tr>\n",
       "    <tr>\n",
       "      <th>mathematician</th>\n",
       "      <td>1.0</td>\n",
       "      <td>1.0</td>\n",
       "      <td>2.0</td>\n",
       "      <td>0.0</td>\n",
       "      <td>1.0</td>\n",
       "      <td>re_france</td>\n",
       "    </tr>\n",
       "    <tr>\n",
       "      <th>theologian</th>\n",
       "      <td>1.0</td>\n",
       "      <td>1.0</td>\n",
       "      <td>1.0</td>\n",
       "      <td>0.0</td>\n",
       "      <td>1.0</td>\n",
       "      <td>re_france</td>\n",
       "    </tr>\n",
       "    <tr>\n",
       "      <th>sociologist</th>\n",
       "      <td>1.0</td>\n",
       "      <td>2.0</td>\n",
       "      <td>1.0</td>\n",
       "      <td>2.0</td>\n",
       "      <td>1.0</td>\n",
       "      <td>re_france</td>\n",
       "    </tr>\n",
       "    <tr>\n",
       "      <th>geographer</th>\n",
       "      <td>1.0</td>\n",
       "      <td>1.0</td>\n",
       "      <td>2.0</td>\n",
       "      <td>2.0</td>\n",
       "      <td>1.0</td>\n",
       "      <td>re_france</td>\n",
       "    </tr>\n",
       "    <tr>\n",
       "      <th>anthropologist</th>\n",
       "      <td>2.0</td>\n",
       "      <td>2.0</td>\n",
       "      <td>1.0</td>\n",
       "      <td>2.0</td>\n",
       "      <td>2.0</td>\n",
       "      <td>re_france</td>\n",
       "    </tr>\n",
       "    <tr>\n",
       "      <th>archeologist</th>\n",
       "      <td>2.0</td>\n",
       "      <td>2.0</td>\n",
       "      <td>1.0</td>\n",
       "      <td>2.0</td>\n",
       "      <td>2.0</td>\n",
       "      <td>re_france</td>\n",
       "    </tr>\n",
       "    <tr>\n",
       "      <th>linguist</th>\n",
       "      <td>2.0</td>\n",
       "      <td>2.0</td>\n",
       "      <td>1.0</td>\n",
       "      <td>2.0</td>\n",
       "      <td>2.0</td>\n",
       "      <td>re_france</td>\n",
       "    </tr>\n",
       "    <tr>\n",
       "      <th>geneticist</th>\n",
       "      <td>NaN</td>\n",
       "      <td>0.0</td>\n",
       "      <td>0.0</td>\n",
       "      <td>1.0</td>\n",
       "      <td>0.0</td>\n",
       "      <td>re_france</td>\n",
       "    </tr>\n",
       "  </tbody>\n",
       "</table>\n",
       "</div>"
      ],
      "text/plain": [
       "                     community_0  community_1  community_2  community_3  \\\n",
       "node                                                                      \n",
       "zoologist                    0.0          0.0          0.0          1.0   \n",
       "pharmacologist               0.0          0.0          0.0          1.0   \n",
       "meteorologist                0.0          1.0          2.0          1.0   \n",
       "taxonomist                   0.0          NaN          NaN          1.0   \n",
       "epidemiologist               0.0          NaN          2.0          0.0   \n",
       "physicist                    0.0          1.0          2.0          0.0   \n",
       "chemist                      0.0          0.0          0.0          1.0   \n",
       "ecologist                    0.0          0.0          NaN          1.0   \n",
       "botanist                     0.0          0.0          0.0          1.0   \n",
       "geologist                    0.0          0.0          0.0          1.0   \n",
       "anatomist                    0.0          0.0          0.0          1.0   \n",
       "paleontologist               0.0          0.0          0.0          1.0   \n",
       "historian                    1.0          2.0          1.0          2.0   \n",
       "logician                     1.0          1.0          1.0          0.0   \n",
       "art theorist                 1.0          2.0          1.0          0.0   \n",
       "political scientist          1.0          2.0          1.0          2.0   \n",
       "economist                    1.0          2.0          1.0          0.0   \n",
       "musicologist                 1.0          1.0          1.0          0.0   \n",
       "astronomer                   1.0          1.0          2.0          0.0   \n",
       "philosopher                  1.0          1.0          1.0          0.0   \n",
       "mathematician                1.0          1.0          2.0          0.0   \n",
       "theologian                   1.0          1.0          1.0          0.0   \n",
       "sociologist                  1.0          2.0          1.0          2.0   \n",
       "geographer                   1.0          1.0          2.0          2.0   \n",
       "anthropologist               2.0          2.0          1.0          2.0   \n",
       "archeologist                 2.0          2.0          1.0          2.0   \n",
       "linguist                     2.0          2.0          1.0          2.0   \n",
       "geneticist                   NaN          0.0          0.0          1.0   \n",
       "\n",
       "                     community_4 region_code  \n",
       "node                                          \n",
       "zoologist                    0.0   re_france  \n",
       "pharmacologist               0.0   re_france  \n",
       "meteorologist                0.0   re_france  \n",
       "taxonomist                   0.0   re_france  \n",
       "epidemiologist               NaN   re_france  \n",
       "physicist                    0.0   re_france  \n",
       "chemist                      0.0   re_france  \n",
       "ecologist                    0.0   re_france  \n",
       "botanist                     0.0   re_france  \n",
       "geologist                    0.0   re_france  \n",
       "anatomist                    0.0   re_france  \n",
       "paleontologist               0.0   re_france  \n",
       "historian                    1.0   re_france  \n",
       "logician                     2.0   re_france  \n",
       "art theorist                 1.0   re_france  \n",
       "political scientist          1.0   re_france  \n",
       "economist                    1.0   re_france  \n",
       "musicologist                 1.0   re_france  \n",
       "astronomer                   1.0   re_france  \n",
       "philosopher                  1.0   re_france  \n",
       "mathematician                1.0   re_france  \n",
       "theologian                   1.0   re_france  \n",
       "sociologist                  1.0   re_france  \n",
       "geographer                   1.0   re_france  \n",
       "anthropologist               2.0   re_france  \n",
       "archeologist                 2.0   re_france  \n",
       "linguist                     2.0   re_france  \n",
       "geneticist                   0.0   re_france  "
      ]
     },
     "execution_count": 85,
     "metadata": {},
     "output_type": "execute_result"
    }
   ],
   "source": [
    "df_final_clustering[df_final_clustering['region_code']=='re_france']"
   ]
  },
  {
   "cell_type": "code",
   "execution_count": null,
   "id": "24f8de96-f004-4904-b0f1-b5d7c45962da",
   "metadata": {},
   "outputs": [],
   "source": []
  },
  {
   "cell_type": "code",
   "execution_count": null,
   "id": "a0c16398-4f41-4c0c-89c9-c7819123393c",
   "metadata": {
    "tags": []
   },
   "outputs": [],
   "source": []
  },
  {
   "cell_type": "code",
   "execution_count": 82,
   "id": "efcdbce0-96db-4323-a20a-8a6b92928526",
   "metadata": {
    "tags": []
   },
   "outputs": [],
   "source": [
    "# Merge the different clustering of the different samples together"
   ]
  },
  {
   "cell_type": "code",
   "execution_count": null,
   "id": "bf3f0635-9531-447e-a82c-c067b4ff68b3",
   "metadata": {
    "tags": []
   },
   "outputs": [],
   "source": []
  },
  {
   "cell_type": "code",
   "execution_count": null,
   "id": "809c88be-3efa-4c47-b79a-381b59e83220",
   "metadata": {
    "tags": []
   },
   "outputs": [],
   "source": []
  },
  {
   "cell_type": "code",
   "execution_count": null,
   "id": "61defc23-bd53-4aa0-b75b-43986366c1cc",
   "metadata": {},
   "outputs": [],
   "source": []
  },
  {
   "cell_type": "code",
   "execution_count": 266,
   "id": "5647b13c-7b59-4cc1-bcf7-5f9994a1e3b5",
   "metadata": {
    "tags": []
   },
   "outputs": [],
   "source": [
    "pivot_sample = df_res.pivot_table(index='node', columns='region_code', values='community', fill_value=np.nan)\n",
    "pivot_sample = pivot_sample.reset_index()\n",
    "\n",
    "df_sample_ari = pd.merge(df_baseline, pivot_sample, on = 'node')"
   ]
  },
  {
   "cell_type": "code",
   "execution_count": null,
   "id": "28d62c9f-91e1-4447-89a2-85a5aa11e75d",
   "metadata": {
    "tags": []
   },
   "outputs": [],
   "source": []
  },
  {
   "cell_type": "code",
   "execution_count": 267,
   "id": "f269715b-232a-424e-bbb8-a0779cc81fb3",
   "metadata": {
    "tags": []
   },
   "outputs": [],
   "source": [
    "baseline_community = list(df_sample_ari['community_baseline'])\n",
    "\n",
    "final_list = []\n",
    "for col in df_sample_ari.columns:\n",
    "    \n",
    "    #new_df = df_sample_ari[['community_baseline', col]].dropna()\n",
    "    new_df = df_sample_ari[['community_baseline', col]].fillna(3)\n",
    "    ari = adjusted_rand_score(list(new_df[col]), list(new_df['community_baseline']))\n",
    "    final_list.append({'region':col, 'ari_baseline_random':ari})\n",
    "    \n",
    "df_region_ari_sample = pd.DataFrame(final_list)\n",
    "df_region_ari_sample = df_region_ari_sample.sort_values('ari_baseline_random', ascending=False)\n",
    "df_region_ari_sample = df_region_ari_sample.reset_index(drop=True)"
   ]
  },
  {
   "cell_type": "code",
   "execution_count": 277,
   "id": "c80fb7b0-90c1-4fb7-824e-c261695c108a",
   "metadata": {
    "tags": []
   },
   "outputs": [],
   "source": [
    "final = pd.merge(df_region_ari, df_region_ari_sample, on = 'region')\n",
    "final['diff'] = final['ari_baseline'].abs() - final['ari_baseline_random'].abs()\n",
    "final= final.sort_values('diff', ascending=False)"
   ]
  },
  {
   "cell_type": "code",
   "execution_count": null,
   "id": "349b96d6-397a-4b97-8154-32ab472095e5",
   "metadata": {
    "tags": []
   },
   "outputs": [],
   "source": []
  },
  {
   "cell_type": "code",
   "execution_count": 280,
   "id": "8a5eb5c2-df31-4dc6-89e3-f6c1df522fde",
   "metadata": {
    "tags": []
   },
   "outputs": [],
   "source": [
    "import pandas as pd\n",
    "import scipy.stats as stats\n",
    "\n",
    "# Create a DataFrame with the given data\n",
    "data = {\n",
    "    'region': ['re_netherlands', 're_greece', 're_balkans', 're_low_countries', 're_italy'],\n",
    "    'ari_baseline': [0.597622, 0.318832, 0.583738, 0.783382, 0.783382],\n",
    "    'ari_baseline_random1': [0.283342, 0.061242, 0.334777, 0.551266, 0.584625],\n",
    "    'ari_baseline_random2': [0.285211, 0.064823, 0.339426, 0.552378, 0.589475],\n",
    "    'ari_baseline_random3': [0.286567, 0.067751, 0.341977, 0.553731, 0.594327],\n",
    "    'ari_baseline_random4': [0.281912, 0.060123, 0.332045, 0.548859, 0.581312],\n",
    "    'ari_baseline_random5': [0.275824, 0.058891, 0.324100, 0.542982, 0.577685],\n",
    "    'ari_baseline_random6': [0.276913, 0.059792, 0.326660, 0.546105, 0.581919],\n",
    "    'ari_baseline_random7': [0.280104, 0.062382, 0.330170, 0.550226, 0.587156],\n",
    "    'ari_baseline_random8': [0.273156, 0.057910, 0.321339, 0.537025, 0.573972],\n",
    "    'ari_baseline_random9': [0.269899, 0.054901, 0.317730, 0.530938, 0.569556],\n",
    "    'ari_baseline_random10': [0.272436, 0.057354, 0.320753, 0.534206, 0.573189]\n",
    "}\n",
    "df = pd.DataFrame(data)"
   ]
  },
  {
   "cell_type": "code",
   "execution_count": null,
   "id": "52050aa8-6dec-4d1b-99dd-d107ea5bc971",
   "metadata": {
    "tags": []
   },
   "outputs": [],
   "source": []
  },
  {
   "cell_type": "code",
   "execution_count": null,
   "id": "613119f1-202f-4aa6-8b03-97f2ffbd5b78",
   "metadata": {},
   "outputs": [],
   "source": []
  },
  {
   "cell_type": "code",
   "execution_count": null,
   "id": "c2717bf4-2f5e-4872-a27b-0b047f5e2f30",
   "metadata": {},
   "outputs": [],
   "source": []
  },
  {
   "cell_type": "code",
   "execution_count": null,
   "id": "f4e6f56e-3ca4-4399-9638-9b3651547658",
   "metadata": {
    "tags": []
   },
   "outputs": [],
   "source": [
    "# # Perform paired t-test for each region\n",
    "for region in df['region']:\n",
    "    ari_baseline = df.loc[df['region'] == region, 'ari_baseline']\n",
    "    ari_baseline_random = df.loc[df['region'] == region, [f'ari_baseline_random{i}' for i in range(1, 11)]]\n",
    "    t_statistic, p_value = stats.ttest_rel(ari_baseline_random.values.flatten(), ari_baseline.values)"
   ]
  },
  {
   "cell_type": "code",
   "execution_count": null,
   "id": "af6265cb-30a7-477b-b2f4-e86f37030697",
   "metadata": {
    "tags": []
   },
   "outputs": [],
   "source": []
  },
  {
   "cell_type": "code",
   "execution_count": 291,
   "id": "8dba7051-6f7f-4408-85f1-681c50503979",
   "metadata": {
    "tags": []
   },
   "outputs": [
    {
     "name": "stdout",
     "output_type": "stream",
     "text": [
      "p-value: 0.00018729795354910595\n"
     ]
    }
   ],
   "source": [
    "import numpy as np\n",
    "import scipy.stats as stats\n",
    "\n",
    "# Define the differences between ari_baseline and ari_random\n",
    "differences = np.array([0.314280, 0.257590, 0.248961, 0.232116, 0.198757])\n",
    "\n",
    "# Perform one-sample t-test\n",
    "t_statistic, p_value = stats.ttest_1samp(differences, 0)\n",
    "\n",
    "# Print the p-value\n",
    "print(\"p-value:\", p_value)\n"
   ]
  },
  {
   "cell_type": "code",
   "execution_count": null,
   "id": "789f488c-d127-4ed4-890b-f103a7529f70",
   "metadata": {
    "tags": []
   },
   "outputs": [],
   "source": []
  },
  {
   "cell_type": "code",
   "execution_count": 18,
   "id": "c65a7633-ae3d-424c-afb8-49ac77d67fb1",
   "metadata": {
    "tags": []
   },
   "outputs": [],
   "source": [
    "# Region | ARI region vs baseline | ARI sample same size region vs baseline\n"
   ]
  },
  {
   "cell_type": "code",
   "execution_count": 26,
   "id": "815d2bf8-184e-48a4-b3af-3434b1bf20f5",
   "metadata": {
    "tags": []
   },
   "outputs": [],
   "source": [
    "\n",
    "\n"
   ]
  },
  {
   "cell_type": "code",
   "execution_count": null,
   "id": "7d3ea8e7-6f7f-4f3e-82e6-2e2f034b6628",
   "metadata": {
    "tags": []
   },
   "outputs": [],
   "source": []
  },
  {
   "cell_type": "code",
   "execution_count": 11,
   "id": "fa094002-ad23-4055-9596-c8502d29eb81",
   "metadata": {
    "tags": []
   },
   "outputs": [],
   "source": [
    "from sklearn.metrics import adjusted_rand_score\n"
   ]
  },
  {
   "cell_type": "code",
   "execution_count": null,
   "id": "75f42a9b-5eeb-488a-b654-f77bbc03564d",
   "metadata": {},
   "outputs": [],
   "source": []
  },
  {
   "cell_type": "code",
   "execution_count": null,
   "id": "8fb1c049-485e-43bd-8697-204562ddcac0",
   "metadata": {
    "tags": []
   },
   "outputs": [],
   "source": []
  },
  {
   "cell_type": "code",
   "execution_count": null,
   "id": "1347f230-f55d-42e7-9414-bcb750d95b8a",
   "metadata": {},
   "outputs": [],
   "source": []
  },
  {
   "cell_type": "code",
   "execution_count": null,
   "id": "aa619a83-5d9f-4ca1-aa4d-8358f35914a7",
   "metadata": {},
   "outputs": [],
   "source": []
  }
 ],
 "metadata": {
  "kernelspec": {
   "display_name": "Python 3 (ipykernel)",
   "language": "python",
   "name": "python3"
  },
  "language_info": {
   "codemirror_mode": {
    "name": "ipython",
    "version": 3
   },
   "file_extension": ".py",
   "mimetype": "text/x-python",
   "name": "python",
   "nbconvert_exporter": "python",
   "pygments_lexer": "ipython3",
   "version": "3.8.17"
  }
 },
 "nbformat": 4,
 "nbformat_minor": 5
}
