{
 "cells": [
  {
   "cell_type": "code",
   "execution_count": 1,
   "id": "a398f95d-2e93-4607-b52c-368d02a954a3",
   "metadata": {
    "tags": []
   },
   "outputs": [],
   "source": [
    "import sqlite3\n",
    "import pandas as pd\n",
    "import numpy as np\n",
    "import os\n",
    "import polars as pl\n",
    "\n",
    "import random\n",
    "random.seed(42)\n",
    "\n",
    "import sys\n",
    "\n",
    "sys.path.append('../')\n",
    "from src.feat_network import get_edge_node_table, filter_edge_table\n",
    "from src.feat_visualization import sygma_graph\n",
    "from src.datamodel import OptimumParameter\n",
    "from tqdm import tqdm\n",
    "from sklearn.metrics import adjusted_rand_score\n",
    "from dotenv import load_dotenv\n",
    "import scipy.stats as stats\n"
   ]
  },
  {
   "cell_type": "code",
   "execution_count": 2,
   "id": "99611663-823f-46c2-aaf6-0370a060c177",
   "metadata": {
    "tags": []
   },
   "outputs": [
    {
     "data": {
      "text/plain": [
       "True"
      ]
     },
     "execution_count": 2,
     "metadata": {},
     "output_type": "execute_result"
    }
   ],
   "source": [
    "# Load the environment variables from the .env file\n",
    "dotenv_path = os.path.join('../', '.env')\n",
    "load_dotenv(dotenv_path)"
   ]
  },
  {
   "cell_type": "code",
   "execution_count": null,
   "id": "559bc567-3700-4bf1-93d2-0e57f98667a1",
   "metadata": {
    "tags": []
   },
   "outputs": [],
   "source": []
  },
  {
   "cell_type": "code",
   "execution_count": 3,
   "id": "3574f53e-b799-4b8f-920e-9f64761d09fe",
   "metadata": {
    "tags": []
   },
   "outputs": [],
   "source": [
    "conn_full_db = sqlite3.connect(os.getenv(\"FULL_DB_PATH\"))\n",
    "conn = sqlite3.connect(\"../database.db\")\n",
    "\n",
    "df_ind_regions = pd.read_sql_query(\n",
    "        \"SELECT * FROM individuals_regions\", conn_full_db\n",
    "    )\n",
    "df_ind_regions = df_ind_regions.rename(\n",
    "        columns={\"individual_wikidata_id\": \"wikidata_id\"}\n",
    "    )"
   ]
  },
  {
   "cell_type": "code",
   "execution_count": null,
   "id": "54793c9c-fd03-42e4-beea-21b2268dd68a",
   "metadata": {},
   "outputs": [],
   "source": []
  },
  {
   "cell_type": "code",
   "execution_count": 4,
   "id": "5daebe42-2921-42dd-90ba-e8d8ab90a456",
   "metadata": {
    "tags": []
   },
   "outputs": [],
   "source": [
    "df_occupation = pd.read_sql(\"SELECT * FROM individual_id_cleaned_occupations\", conn)\n",
    "df_indi = pd.merge(df_ind_regions, df_occupation, on = 'wikidata_id')\n",
    "df_indi = df_indi[['wikidata_id', 'region_code']].drop_duplicates()\n",
    "df_region_count = df_indi.groupby('region_code')['wikidata_id'].count().rename('count_individuals').reset_index()"
   ]
  },
  {
   "cell_type": "code",
   "execution_count": null,
   "id": "8f967457-976d-4d72-a78b-8bb0c81183fd",
   "metadata": {
    "tags": []
   },
   "outputs": [],
   "source": []
  },
  {
   "cell_type": "code",
   "execution_count": 5,
   "id": "59087dae-be19-4023-9244-754aba2e93b7",
   "metadata": {
    "tags": []
   },
   "outputs": [],
   "source": [
    "df_baseline = pd.read_sql(\"SELECT * FROM optimal_partition\", conn)\n",
    "df_baseline = df_baseline.rename(columns = {'community':'community_baseline'})\n",
    "\n",
    "df_region_parition = pd.read_sql(\"SELECT * FROM region_optimized_partition\", conn)\n",
    "\n",
    "\n"
   ]
  },
  {
   "cell_type": "code",
   "execution_count": null,
   "id": "b0b2a0b0-8896-46a3-962d-06124bba3773",
   "metadata": {
    "tags": []
   },
   "outputs": [],
   "source": []
  },
  {
   "cell_type": "code",
   "execution_count": 6,
   "id": "bf9b2f7c-e3eb-4789-8660-1d852a716b75",
   "metadata": {
    "tags": []
   },
   "outputs": [],
   "source": [
    "pivot_df = df_region_parition.pivot_table(index='node', columns='region_code', values='community', fill_value=np.nan)\n",
    "#new_columns = ['community_' + region for region in pivot_df.columns]\n",
    "#pivot_df.columns = new_columns\n",
    "pivot_df = pivot_df.reset_index()\n",
    "df = pd.merge(df_baseline, pivot_df, on = 'node')\n",
    "df = df.set_index('node')\n",
    "\n",
    "baseline_community = list(df['community_baseline'])\n",
    "\n",
    "fina_list = []\n",
    "for col in df.columns:\n",
    "    \n",
    "    #new_df = df[['community_baseline', col]].dropna()\n",
    "    new_df = df[['community_baseline', col]].fillna(3)\n",
    "\n",
    "    ari = adjusted_rand_score(list(new_df[col]), list(new_df['community_baseline']))\n",
    "    fina_list.append({'region':col, 'ari_baseline':ari})\n",
    "    \n",
    "df_region_ari = pd.DataFrame(fina_list)\n",
    "df_region_ari = df_region_ari.sort_values('ari_baseline', ascending=False)\n",
    "df_region_ari = df_region_ari.reset_index(drop=True)"
   ]
  },
  {
   "cell_type": "code",
   "execution_count": 7,
   "id": "3029a32f-1941-4fdb-b0d2-70e68ac412af",
   "metadata": {
    "tags": []
   },
   "outputs": [],
   "source": [
    "pd.options.mode.chained_assignment = None"
   ]
  },
  {
   "cell_type": "code",
   "execution_count": 8,
   "id": "b731483e-49a8-4bcc-a5ec-c67ef9acdb44",
   "metadata": {
    "tags": []
   },
   "outputs": [],
   "source": [
    "\n",
    "regions = list(df_region_count['region_code'])\n",
    "count_individuals = list(df_region_count['count_individuals'])\n",
    "\n",
    "dict_regions_count = {x: y for x, y in zip(regions, count_individuals)}"
   ]
  },
  {
   "cell_type": "code",
   "execution_count": 9,
   "id": "ca091e53-af16-45ed-856d-c6b74c94deea",
   "metadata": {
    "tags": []
   },
   "outputs": [],
   "source": [
    "all_regions = list(df_region_count.region_code)\n",
    "all_individuals = list(set(df_occupation.wikidata_id))"
   ]
  },
  {
   "cell_type": "code",
   "execution_count": null,
   "id": "34a1b189-742f-4ff9-98bd-2ab2f14079d5",
   "metadata": {
    "tags": []
   },
   "outputs": [],
   "source": []
  },
  {
   "cell_type": "code",
   "execution_count": 10,
   "id": "ec21d8f3-55ed-4a0d-a4d1-1e105d59ac16",
   "metadata": {
    "tags": []
   },
   "outputs": [],
   "source": [
    "\n",
    "optimal_parameters = pd.read_sql(\"SELECT * FROM optimization\", conn)\n",
    "optimal_parameters = optimal_parameters.sort_values(\"mean\", ascending=False)\n",
    "\n",
    "dict_op = optimal_parameters.iloc[0].to_dict()\n",
    "dict_op = OptimumParameter(**dict_op)"
   ]
  },
  {
   "cell_type": "code",
   "execution_count": 11,
   "id": "10e30a4e-96a1-4c08-b076-a779538d4d32",
   "metadata": {
    "tags": []
   },
   "outputs": [],
   "source": [
    "directory = \"../cache\"\n",
    "if not os.path.exists(directory):\n",
    "    os.makedirs(directory)"
   ]
  },
  {
   "cell_type": "code",
   "execution_count": null,
   "id": "2dba7c6c-3579-42f0-9be1-6d62537dd9b3",
   "metadata": {
    "tags": []
   },
   "outputs": [],
   "source": []
  },
  {
   "cell_type": "code",
   "execution_count": 12,
   "id": "a265812f-96a9-4ed9-aec9-673f775bcced",
   "metadata": {
    "tags": []
   },
   "outputs": [
    {
     "name": "stderr",
     "output_type": "stream",
     "text": [
      "100%|█████████████████████████████████████████████████████████████| 53/53 [08:44<00:00,  9.90s/it]\n"
     ]
    }
   ],
   "source": [
    "final_clustering= []\n",
    "all_regions = list(df_region_count.region_code)\n",
    "for region_code in tqdm(all_regions):\n",
    "    \n",
    "    random_clustering = []\n",
    "    for seed in np.arange(20):\n",
    "        random.seed(seed)    \n",
    "        try:\n",
    "\n",
    "            # take a sample of individuals as big as the region\n",
    "            sample_len = dict_regions_count.get(region_code)\n",
    "            sample_ids = random.sample(all_individuals, sample_len)\n",
    "            df_sample = df_occupation[df_occupation['wikidata_id'].isin(sample_ids)]\n",
    "            df_sample.columns = [\"source\", \"target\"]\n",
    "            df_sample[\"weight\"] = 1\n",
    "\n",
    "            # Draw the graph\n",
    "            df_sample = pl.from_pandas(df_sample)\n",
    "\n",
    "            df_edge, df_nodes = get_edge_node_table(df_sample)\n",
    "\n",
    "            df_edge_filter = filter_edge_table(\n",
    "                df_edge,\n",
    "                edge_rule=dict_op.edge_rule,\n",
    "                top_directed_neighbours=dict_op.n_neighbours,\n",
    "                normalize_on_top=False,\n",
    "                min_count_link=0,\n",
    "            )\n",
    "\n",
    "            df_partition = sygma_graph(\n",
    "                df_edge_filter,\n",
    "                df_nodes,\n",
    "                edge_bins=10,\n",
    "                node_bins=10,\n",
    "                resolution=dict_op.resolution,\n",
    "                filepath=\"../cache/cache_graph.html\",\n",
    "            )    \n",
    "\n",
    "            df_partition = df_partition.rename(columns = {'community':f'community_{seed}'})\n",
    "            random_clustering.append(df_partition)\n",
    "\n",
    "        except:\n",
    "            pass\n",
    "        \n",
    "    merged_df = random_clustering[0]\n",
    "    for table in random_clustering[1:]:\n",
    "        merged_df = pd.merge(merged_df, table, on=[\"node\"], how = 'outer')\n",
    "    merged_df = merged_df.set_index(\"node\")\n",
    "    merged_df['region_code'] = region_code\n",
    "    final_clustering.append(merged_df)\n"
   ]
  },
  {
   "cell_type": "code",
   "execution_count": 18,
   "id": "59876dd4-d94b-46a9-af94-892d07a0096e",
   "metadata": {
    "tags": []
   },
   "outputs": [],
   "source": [
    "df_final_clustering = pd.concat([x for x in final_clustering])"
   ]
  },
  {
   "cell_type": "code",
   "execution_count": null,
   "id": "12fab6a2-ab22-4098-b6fb-cc15cdbc557e",
   "metadata": {
    "tags": []
   },
   "outputs": [],
   "source": []
  },
  {
   "cell_type": "code",
   "execution_count": 113,
   "id": "4447324b-7c8d-4541-937b-857161c20d58",
   "metadata": {
    "tags": []
   },
   "outputs": [],
   "source": [
    "region_code = 're_france'\n",
    "\n",
    "final_sample = []\n",
    "for region_code in df_final_clustering.region_code.unique():\n",
    "\n",
    "    df_merge = df_final_clustering[df_final_clustering['region_code']==region_code]\n",
    "    df_merge = pd.merge(df_baseline, df_merge, on = 'node', how ='outer')\n",
    "    df_merge = df_merge.set_index('node')\n",
    "    df_merge = df_merge.drop('region_code', axis=1)\n",
    "\n",
    "    baseline_community = list(df_merge['community_baseline'])\n",
    "\n",
    "    final_list = []\n",
    "    for col in df_merge.columns:\n",
    "\n",
    "        #new_df = df_sample_ari[['community_baseline', col]].dropna()\n",
    "        new_df = df_merge[['community_baseline', col]].fillna(4)\n",
    "        ari = adjusted_rand_score(list(new_df[col]), list(new_df['community_baseline']))\n",
    "        final_list.append({'sample_type':col, 'ari_baseline_random':ari})\n",
    "\n",
    "    df_final_list = pd.DataFrame(final_list)\n",
    "    df_final_list['region'] = region_code\n",
    "    final_sample.append(df_final_list)\n",
    "    \n",
    "df_final_sample = pd.concat([x for x in final_sample])"
   ]
  },
  {
   "cell_type": "code",
   "execution_count": 114,
   "id": "d9ce8693-681d-4672-8efa-5c975fe054ed",
   "metadata": {
    "tags": []
   },
   "outputs": [],
   "source": [
    "# moyenne des différence entre la distance au hasard et la distance à la baseline"
   ]
  },
  {
   "cell_type": "code",
   "execution_count": 119,
   "id": "b62c282a-6c5f-4c24-ba26-a54ae8cac26c",
   "metadata": {
    "tags": []
   },
   "outputs": [
    {
     "name": "stdout",
     "output_type": "stream",
     "text": [
      "T-Statistic: 0.046346591671557726\n",
      "P-Value: 0.9633411549294573\n"
     ]
    }
   ],
   "source": [
    "columns_to_keep = [\n",
    "        \"re_arabic_world\",\n",
    "        \"re_central_europe\",\n",
    "        \"re_chinese_world\",\n",
    "        \"re_eastern_europe\",\n",
    "        \"re_france\",\n",
    "        \"re_german_world\",\n",
    "        \"re_greek_world\",\n",
    "        \"re_indian_world\",\n",
    "        \"re_italy\",\n",
    "        \"re_japan\",\n",
    "        \"re_low_countries\",\n",
    "        \"re_nordic_countries\",\n",
    "        \"re_persian_world\",\n",
    "        \"re_slav_world\",\n",
    "        \"re_spain\",\n",
    "        \"re_united_kingdom\",\n",
    "    ]\n",
    "\n",
    "df_t_test = df_diff.groupby(['region', 'ari_baseline'])['ari_baseline_random'].mean().rename('mean_ari_baseline_random').reset_index()\n",
    "df_t_test = df_t_test[df_t_test['region'].isin(columns_to_keep)]\n",
    "\n",
    "# faire le t-test: est-ce qu'il y a une différnece significative ? \n",
    "\n",
    "# Perform the t-test\n",
    "\n",
    "t_statistic, p_value = stats.ttest_ind(list(df_t_test['ari_baseline']), list(df_t_test['mean_ari_baseline_random']))\n",
    "\n",
    "# Print the results\n",
    "print(\"T-Statistic:\", t_statistic)\n",
    "print(\"P-Value:\", p_value)"
   ]
  },
  {
   "cell_type": "code",
   "execution_count": 120,
   "id": "cadb7b0e-f86c-4f9b-a152-bde82f269ce3",
   "metadata": {
    "tags": []
   },
   "outputs": [
    {
     "data": {
      "text/html": [
       "<div>\n",
       "<style scoped>\n",
       "    .dataframe tbody tr th:only-of-type {\n",
       "        vertical-align: middle;\n",
       "    }\n",
       "\n",
       "    .dataframe tbody tr th {\n",
       "        vertical-align: top;\n",
       "    }\n",
       "\n",
       "    .dataframe thead th {\n",
       "        text-align: right;\n",
       "    }\n",
       "</style>\n",
       "<table border=\"1\" class=\"dataframe\">\n",
       "  <thead>\n",
       "    <tr style=\"text-align: right;\">\n",
       "      <th></th>\n",
       "      <th>region</th>\n",
       "      <th>ari_baseline</th>\n",
       "      <th>mean_ari_baseline_random</th>\n",
       "    </tr>\n",
       "  </thead>\n",
       "  <tbody>\n",
       "    <tr>\n",
       "      <th>1</th>\n",
       "      <td>re_arabic_world</td>\n",
       "      <td>0.249374</td>\n",
       "      <td>0.375460</td>\n",
       "    </tr>\n",
       "    <tr>\n",
       "      <th>6</th>\n",
       "      <td>re_central_europe</td>\n",
       "      <td>0.437051</td>\n",
       "      <td>0.503382</td>\n",
       "    </tr>\n",
       "    <tr>\n",
       "      <th>7</th>\n",
       "      <td>re_chinese_world</td>\n",
       "      <td>0.041957</td>\n",
       "      <td>0.250053</td>\n",
       "    </tr>\n",
       "    <tr>\n",
       "      <th>9</th>\n",
       "      <td>re_eastern_europe</td>\n",
       "      <td>0.642383</td>\n",
       "      <td>0.514882</td>\n",
       "    </tr>\n",
       "    <tr>\n",
       "      <th>11</th>\n",
       "      <td>re_france</td>\n",
       "      <td>0.651577</td>\n",
       "      <td>0.483231</td>\n",
       "    </tr>\n",
       "  </tbody>\n",
       "</table>\n",
       "</div>"
      ],
      "text/plain": [
       "               region  ari_baseline  mean_ari_baseline_random\n",
       "1     re_arabic_world      0.249374                  0.375460\n",
       "6   re_central_europe      0.437051                  0.503382\n",
       "7    re_chinese_world      0.041957                  0.250053\n",
       "9   re_eastern_europe      0.642383                  0.514882\n",
       "11          re_france      0.651577                  0.483231"
      ]
     },
     "execution_count": 120,
     "metadata": {},
     "output_type": "execute_result"
    }
   ],
   "source": [
    "df_t_test.head(5)"
   ]
  },
  {
   "cell_type": "code",
   "execution_count": 121,
   "id": "3cdfce6c-13d0-436a-a9ca-866cd25229bc",
   "metadata": {
    "tags": []
   },
   "outputs": [
    {
     "data": {
      "text/plain": [
       "<AxesSubplot: >"
      ]
     },
     "execution_count": 121,
     "metadata": {},
     "output_type": "execute_result"
    },
    {
     "data": {
      "image/png": "[encoded data removed]",
      "text/plain": [
       "<Figure size 640x480 with 1 Axes>"
      ]
     },
     "metadata": {},
     "output_type": "display_data"
    }
   ],
   "source": [
    "df_diff = pd.merge(df_final_sample, df_region_ari, on = 'region')\n",
    "df_diff = df_diff[df_diff['sample_type']!= 'community_baseline']\n",
    "df_diff['diff'] = df_diff['ari_baseline_random'] - df_diff['ari_baseline']\n",
    "#df_diff['diff'] = df_diff['diff'].abs()\n",
    "df_diff_final = df_diff.groupby('region')['diff'].mean().rename('mean_diff').reset_index()\n",
    "df_diff_final = df_diff_final.sort_values('mean_diff', ascending=False).reset_index(drop=True)\n",
    "\n",
    "# difference positive: plus proche de la baseline que le hasard\n",
    "# forces négatives: c'est encore plus différent\n",
    "\n",
    "df_diff_final.mean_diff.hist(bins = 50)"
   ]
  },
  {
   "cell_type": "code",
   "execution_count": null,
   "id": "c90c0440-d0db-443d-a7c2-bd890f42c953",
   "metadata": {},
   "outputs": [],
   "source": []
  },
  {
   "cell_type": "markdown",
   "id": "8a79bafb-b2fd-4c7c-8e21-a7163f17c2fb",
   "metadata": {},
   "source": [
    "#### Correlation with Size"
   ]
  },
  {
   "cell_type": "code",
   "execution_count": 122,
   "id": "e36cb5b4-148f-4e37-bd8d-5f62bc698fbc",
   "metadata": {
    "tags": []
   },
   "outputs": [
    {
     "data": {
      "text/html": [
       "<div>\n",
       "<style scoped>\n",
       "    .dataframe tbody tr th:only-of-type {\n",
       "        vertical-align: middle;\n",
       "    }\n",
       "\n",
       "    .dataframe tbody tr th {\n",
       "        vertical-align: top;\n",
       "    }\n",
       "\n",
       "    .dataframe thead th {\n",
       "        text-align: right;\n",
       "    }\n",
       "</style>\n",
       "<table border=\"1\" class=\"dataframe\">\n",
       "  <thead>\n",
       "    <tr style=\"text-align: right;\">\n",
       "      <th></th>\n",
       "      <th>ari_baseline_random</th>\n",
       "      <th>region_size</th>\n",
       "    </tr>\n",
       "  </thead>\n",
       "  <tbody>\n",
       "    <tr>\n",
       "      <th>ari_baseline_random</th>\n",
       "      <td>1.000000</td>\n",
       "      <td>0.618471</td>\n",
       "    </tr>\n",
       "    <tr>\n",
       "      <th>region_size</th>\n",
       "      <td>0.618471</td>\n",
       "      <td>1.000000</td>\n",
       "    </tr>\n",
       "  </tbody>\n",
       "</table>\n",
       "</div>"
      ],
      "text/plain": [
       "                     ari_baseline_random  region_size\n",
       "ari_baseline_random             1.000000     0.618471\n",
       "region_size                     0.618471     1.000000"
      ]
     },
     "execution_count": 122,
     "metadata": {},
     "output_type": "execute_result"
    }
   ],
   "source": [
    "df_diff_size = df_diff.copy()\n",
    "df_diff_size['ari_baseline_random'] = df_diff_size['ari_baseline_random'].abs()\n",
    "df_diff_size = df_diff_size.groupby(['region'])['ari_baseline_random'].mean().reset_index()\n",
    "df_diff_size = df_diff_size.rename(columns = {'region':'region_code'})\n",
    "\n",
    "df_region_size = df_ind_regions[['wikidata_id', 'region_code']].drop_duplicates()\n",
    "df_region_size = df_region_size.groupby('region_code')['wikidata_id'].count().rename('region_size').reset_index()\n",
    "\n",
    "\n",
    "df_size = pd.merge(df_diff_size, df_region_size, on = 'region_code')\n",
    "df_size = df_size[df_size['region_code'].isin(columns_to_keep)]\n",
    "df_size = df_size.set_index('region_code')\n",
    "df_size = df_size.sort_values('region_size')\n",
    "df_size.corr()\n",
    "\n",
    "# plus c'est grand, plus c'est similaire à la structure globale"
   ]
  },
  {
   "cell_type": "code",
   "execution_count": null,
   "id": "7abacc9c-4dee-42c9-81f8-43fd7692754d",
   "metadata": {},
   "outputs": [],
   "source": []
  },
  {
   "cell_type": "code",
   "execution_count": null,
   "id": "8cca49ba-3c33-4dca-b41e-870835463a28",
   "metadata": {
    "tags": []
   },
   "outputs": [],
   "source": []
  },
  {
   "cell_type": "code",
   "execution_count": null,
   "id": "a32bc3b4-0622-4f8b-a59c-c7e648599d64",
   "metadata": {},
   "outputs": [],
   "source": []
  }
 ],
 "metadata": {
  "kernelspec": {
   "display_name": "Python 3 (ipykernel)",
   "language": "python",
   "name": "python3"
  },
  "language_info": {
   "codemirror_mode": {
    "name": "ipython",
    "version": 3
   },
   "file_extension": ".py",
   "mimetype": "text/x-python",
   "name": "python",
   "nbconvert_exporter": "python",
   "pygments_lexer": "ipython3",
   "version": "3.8.17"
  }
 },
 "nbformat": 4,
 "nbformat_minor": 5
}
