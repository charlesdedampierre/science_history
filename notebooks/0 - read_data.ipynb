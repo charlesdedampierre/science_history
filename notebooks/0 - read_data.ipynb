{
 "cells": [
  {
   "cell_type": "code",
   "execution_count": 8,
   "metadata": {},
   "outputs": [
    {
     "data": {
      "text/html": [
       "<div>\n",
       "<style scoped>\n",
       "    .dataframe tbody tr th:only-of-type {\n",
       "        vertical-align: middle;\n",
       "    }\n",
       "\n",
       "    .dataframe tbody tr th {\n",
       "        vertical-align: top;\n",
       "    }\n",
       "\n",
       "    .dataframe thead th {\n",
       "        text-align: right;\n",
       "    }\n",
       "</style>\n",
       "<table border=\"1\" class=\"dataframe\">\n",
       "  <thead>\n",
       "    <tr style=\"text-align: right;\">\n",
       "      <th></th>\n",
       "      <th>wikidata_id</th>\n",
       "      <th>individual_name</th>\n",
       "      <th>region_code</th>\n",
       "      <th>region_name</th>\n",
       "      <th>birthyear</th>\n",
       "      <th>meta_occupation</th>\n",
       "      <th>meta_region</th>\n",
       "    </tr>\n",
       "  </thead>\n",
       "  <tbody>\n",
       "    <tr>\n",
       "      <th>42068</th>\n",
       "      <td>Q619</td>\n",
       "      <td>Nicolaus Copernicus</td>\n",
       "      <td>re_central_europe</td>\n",
       "      <td>Central Europe</td>\n",
       "      <td>1473.0</td>\n",
       "      <td>philosopher | physicist | astronomer | mathema...</td>\n",
       "      <td>europe</td>\n",
       "    </tr>\n",
       "  </tbody>\n",
       "</table>\n",
       "</div>"
      ],
      "text/plain": [
       "      wikidata_id      individual_name        region_code     region_name  \\\n",
       "42068        Q619  Nicolaus Copernicus  re_central_europe  Central Europe   \n",
       "\n",
       "       birthyear                                    meta_occupation  \\\n",
       "42068     1473.0  philosopher | physicist | astronomer | mathema...   \n",
       "\n",
       "      meta_region  \n",
       "42068      europe  "
      ]
     },
     "execution_count": 8,
     "metadata": {},
     "output_type": "execute_result"
    }
   ],
   "source": [
    "import pandas as pd\n",
    "\n",
    "data = pd.read_csv('../networks/data/global_before_1700.csv', index_col=[0])\n",
    "data[data['region_name']=='Latin World'].sort_values('birthyear', ascending=True)\n",
    "\n",
    "\n",
    "data[data['individual_name'].str.contains('Coper')]"
   ]
  },
  {
   "cell_type": "markdown",
   "metadata": {},
   "source": []
  }
 ],
 "metadata": {
  "kernelspec": {
   "display_name": "market_use_cases-Q45SxFKl-py3.8",
   "language": "python",
   "name": "python3"
  },
  "language_info": {
   "codemirror_mode": {
    "name": "ipython",
    "version": 3
   },
   "file_extension": ".py",
   "mimetype": "text/x-python",
   "name": "python",
   "nbconvert_exporter": "python",
   "pygments_lexer": "ipython3",
   "version": "3.8.18"
  }
 },
 "nbformat": 4,
 "nbformat_minor": 2
}
