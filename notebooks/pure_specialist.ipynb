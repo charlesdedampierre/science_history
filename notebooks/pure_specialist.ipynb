{
 "cells": [
  {
   "cell_type": "markdown",
   "id": "e627cad8-341e-4f17-8820-ebe43355e0a4",
   "metadata": {},
   "source": [
    "- Find the number of people thta re pure specialist versus the people that have different occupations\n",
    "- Show if the association is random or not"
   ]
  },
  {
   "cell_type": "code",
   "execution_count": 1,
   "id": "b191db18-b131-4d31-958f-7c41e09ffb7b",
   "metadata": {
    "tags": []
   },
   "outputs": [],
   "source": [
    "import pandas as pd\n",
    "import sys\n",
    "import os\n",
    "import sqlite3\n",
    "from dotenv import load_dotenv"
   ]
  },
  {
   "cell_type": "code",
   "execution_count": 2,
   "id": "28f86140-6fc9-4881-b16a-7f9e8cc164b0",
   "metadata": {
    "tags": []
   },
   "outputs": [],
   "source": [
    "sys.path.append('../')\n",
    "sys.path.append('../src')"
   ]
  },
  {
   "cell_type": "code",
   "execution_count": 3,
   "id": "c21d3e17-da2a-4f52-adb9-6a41185ea89e",
   "metadata": {
    "tags": []
   },
   "outputs": [
    {
     "data": {
      "text/plain": [
       "True"
      ]
     },
     "execution_count": 3,
     "metadata": {},
     "output_type": "execute_result"
    }
   ],
   "source": [
    "# Load the environment variables from the .env file\n",
    "dotenv_path = os.path.join('../', '.env')\n",
    "load_dotenv(dotenv_path)"
   ]
  },
  {
   "cell_type": "code",
   "execution_count": 4,
   "id": "e4a1c2fe-ea72-4240-9ba8-497796082927",
   "metadata": {},
   "outputs": [],
   "source": [
    "conn_full_db = sqlite3.connect(os.getenv(\"FULL_DB_PATH\"))\n",
    "conn = sqlite3.connect(\"../database.db\")"
   ]
  },
  {
   "cell_type": "code",
   "execution_count": 5,
   "id": "8e2db49a-3063-4af3-951d-01232a968407",
   "metadata": {
    "tags": []
   },
   "outputs": [],
   "source": [
    "df_occupation = pd.read_sql(\"SELECT * FROM individual_id_cleaned_occupations\", conn)"
   ]
  },
  {
   "cell_type": "code",
   "execution_count": null,
   "id": "e6539b02-d24d-4a4e-ae95-699fa5dee21c",
   "metadata": {
    "tags": []
   },
   "outputs": [],
   "source": []
  },
  {
   "cell_type": "code",
   "execution_count": 6,
   "id": "086b3390-8a45-4a1c-90e9-67eaeda0036a",
   "metadata": {
    "tags": []
   },
   "outputs": [],
   "source": [
    "df_occupation_count = df_occupation.groupby('wikidata_id')['meta_occupation'].count().rename('count_occupation').reset_index()\n",
    "df_occupation_count = df_occupation_count.sort_values('count_occupation', ascending=False)"
   ]
  },
  {
   "cell_type": "markdown",
   "id": "2ddfffe0-dba2-439a-b57f-b38e7d7df3ba",
   "metadata": {},
   "source": [
    "Mean of occupation per individual"
   ]
  },
  {
   "cell_type": "code",
   "execution_count": 7,
   "id": "a878ff92-d405-4379-b584-112d0edd9c77",
   "metadata": {
    "tags": []
   },
   "outputs": [
    {
     "data": {
      "text/plain": [
       "1.416003616636528"
      ]
     },
     "execution_count": 7,
     "metadata": {},
     "output_type": "execute_result"
    }
   ],
   "source": [
    "df_occupation_count.count_occupation.mean()"
   ]
  },
  {
   "cell_type": "markdown",
   "id": "1cad573e-eff9-4cb5-adbf-4bab1794b922",
   "metadata": {},
   "source": [
    "Number of specialist before 1600"
   ]
  },
  {
   "cell_type": "code",
   "execution_count": 17,
   "id": "bccf3438-5b8e-44ba-8dda-25bc03c57072",
   "metadata": {
    "tags": []
   },
   "outputs": [],
   "source": [
    "df_temporal = pd.read_sql(\"SELECT * FROM temporal_data\", conn)\n",
    "df_temporal = df_temporal[['wikidata_id', 'birthyear']].drop_duplicates()\n",
    "df_temporal = df_temporal[df_temporal['birthyear']<=1600]"
   ]
  },
  {
   "cell_type": "code",
   "execution_count": null,
   "id": "12a503c5-1451-4f1d-bda8-807f0fb03122",
   "metadata": {
    "tags": []
   },
   "outputs": [],
   "source": []
  },
  {
   "cell_type": "code",
   "execution_count": 23,
   "id": "2c8c6744-df36-4e69-9f1d-3fb2e27be87d",
   "metadata": {
    "tags": []
   },
   "outputs": [
    {
     "data": {
      "text/plain": [
       "0.5741733690795353"
      ]
     },
     "execution_count": 23,
     "metadata": {},
     "output_type": "execute_result"
    }
   ],
   "source": [
    "df_occupation_count_temporal = pd.merge(df_occupation_count, df_temporal, on = 'wikidata_id')\n",
    "len(df_occupation_count_temporal[df_occupation_count_temporal['count_occupation']==1])/len(df_occupation_count_temporal)"
   ]
  },
  {
   "cell_type": "markdown",
   "id": "0d0ba789-538b-4c76-9fb9-d94a58c4cfed",
   "metadata": {},
   "source": [
    "Number of pure specialist"
   ]
  },
  {
   "cell_type": "code",
   "execution_count": 8,
   "id": "687ec1ea-781b-40ee-afc5-3fdf137269e3",
   "metadata": {
    "tags": []
   },
   "outputs": [
    {
     "data": {
      "image/png": "[encoded data removed]",
      "text/plain": [
       "<Figure size 800x400 with 1 Axes>"
      ]
     },
     "metadata": {},
     "output_type": "display_data"
    }
   ],
   "source": [
    "import pandas as pd\n",
    "import matplotlib.pyplot as plt\n",
    "\n",
    "# Sort the DataFrame by count in descending order for a better visualization\n",
    "df_sorted = df_occupation_count.sort_values(by='count_occupation', ascending=False)\n",
    "# Create a histogram using Matplotlib\n",
    "plt.figure(figsize=(8, 4))\n",
    "plt.hist(df_sorted['count_occupation'], bins=10, color='skyblue', edgecolor='black')\n",
    "plt.xlabel('Occupation Count')\n",
    "plt.ylabel('Frequency')\n",
    "plt.title('Histogram of Occupation Counts')\n",
    "plt.grid(axis='y', alpha=0.75)\n",
    "\n",
    "# Display the plot\n",
    "plt.tight_layout()\n",
    "plt.show()"
   ]
  },
  {
   "cell_type": "markdown",
   "id": "e8c25636-1729-49f8-80bb-8436db8cf54b",
   "metadata": {},
   "source": [
    "Calculate the likelihood ratio and compare the chances of a mathematician being a philosopher versus a botanist. "
   ]
  },
  {
   "cell_type": "code",
   "execution_count": 9,
   "id": "dc469a71-7690-473b-adda-ed2c22de2f6c",
   "metadata": {
    "tags": []
   },
   "outputs": [],
   "source": [
    "individual_more_than_1 = list(set(df_sorted.wikidata_id))"
   ]
  },
  {
   "cell_type": "markdown",
   "id": "45f37e42-eff4-4c92-967e-4eea0485565d",
   "metadata": {},
   "source": [
    "compute co-occurence and the likelyhood of being mathematician and botanist"
   ]
  },
  {
   "cell_type": "code",
   "execution_count": null,
   "id": "039e6189-d360-4783-8a11-93dabb644c5b",
   "metadata": {},
   "outputs": [],
   "source": []
  },
  {
   "cell_type": "markdown",
   "id": "935a9d63-bcc8-4ba3-b10f-70a9962b2b33",
   "metadata": {},
   "source": [
    "Only get individuals with more than 1 occupation"
   ]
  },
  {
   "cell_type": "code",
   "execution_count": 10,
   "id": "98c7fb4b-949c-4161-b5dd-ad4e0cff7909",
   "metadata": {
    "tags": []
   },
   "outputs": [],
   "source": [
    "df_occupation_more = df_occupation[df_occupation['wikidata_id'].isin(individual_more_than_1)]\n",
    "import polars as pl\n",
    "matrix = df_occupation_more.copy()\n",
    "matrix.columns = ['source', 'target']\n",
    "matrix['weight'] = 1\n",
    "matrix = pl.from_pandas(matrix)\n",
    "matrix = matrix.pivot(index=\"source\", columns=\"target\", values=\"weight\")\n",
    "matrix = matrix.fill_null(0)\n",
    "matrix = matrix.to_pandas()\n",
    "matrix = matrix.set_index(\"source\")\n",
    "cooc = matrix.T.dot(matrix)\n",
    "\n",
    "co_occurrence = cooc.unstack().reset_index()\n",
    "co_occurrence.columns = [\"source\", \"target\", \"weight\"]\n",
    "co_occurrence = co_occurrence[co_occurrence[\"source\"] != co_occurrence[\"target\"]].reset_index(drop=True)\n",
    "co_occurrence = co_occurrence[co_occurrence['weight']>0]\n",
    "co_occurrence['likelihood'] = co_occurrence['weight']/len(set(df_occupation.wikidata_id))*100\n",
    "co_occurrence = co_occurrence.sort_values('likelihood', ascending=False)"
   ]
  },
  {
   "cell_type": "markdown",
   "id": "208d1754-e109-498a-9fee-91ad1e2e1a14",
   "metadata": {},
   "source": [
    "Make a test to show that the association between occupaiton (the co-occupation pattern) are not random.\n",
    "\n",
    "In other words, the null hypothesis is the following:\n",
    "\n",
    "occupation have all the same chances to cluster together."
   ]
  },
  {
   "cell_type": "code",
   "execution_count": 11,
   "id": "79a40932-bd9f-4c5d-91e3-c8966511e94a",
   "metadata": {
    "tags": []
   },
   "outputs": [],
   "source": [
    "from scipy.stats import chi2_contingency\n",
    "chi2, p, _, _ = chi2_contingency(cooc)"
   ]
  },
  {
   "cell_type": "code",
   "execution_count": 12,
   "id": "e94b3c7a-f88b-4724-bb2f-3f71001ebc36",
   "metadata": {
    "tags": []
   },
   "outputs": [
    {
     "data": {
      "text/plain": [
       "415609.244025762"
      ]
     },
     "execution_count": 12,
     "metadata": {},
     "output_type": "execute_result"
    }
   ],
   "source": [
    "chi2"
   ]
  },
  {
   "cell_type": "code",
   "execution_count": null,
   "id": "f4369549-ecd9-42ad-ba82-4393f9ab1bca",
   "metadata": {
    "tags": []
   },
   "outputs": [],
   "source": []
  },
  {
   "cell_type": "code",
   "execution_count": null,
   "id": "4057792e-0a99-4744-815b-cd5b3252d422",
   "metadata": {
    "tags": []
   },
   "outputs": [],
   "source": []
  },
  {
   "cell_type": "code",
   "execution_count": null,
   "id": "94b5756e-5125-4d08-9248-c488f17cbc9e",
   "metadata": {},
   "outputs": [],
   "source": []
  },
  {
   "cell_type": "code",
   "execution_count": null,
   "id": "21c8bf10-86ba-4cb6-afaa-c90da1374a63",
   "metadata": {},
   "outputs": [],
   "source": []
  }
 ],
 "metadata": {
  "kernelspec": {
   "display_name": "Python 3 (ipykernel)",
   "language": "python",
   "name": "python3"
  },
  "language_info": {
   "codemirror_mode": {
    "name": "ipython",
    "version": 3
   },
   "file_extension": ".py",
   "mimetype": "text/x-python",
   "name": "python",
   "nbconvert_exporter": "python",
   "pygments_lexer": "ipython3",
   "version": "3.8.18"
  }
 },
 "nbformat": 4,
 "nbformat_minor": 5
}
