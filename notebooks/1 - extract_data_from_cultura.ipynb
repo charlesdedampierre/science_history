{
 "cells": [
  {
   "cell_type": "code",
   "execution_count": 1,
   "metadata": {},
   "outputs": [],
   "source": [
    "import sys\n",
    "\n",
    "sys.path.append(\"../\")\n",
    "\n",
    "import sqlite3\n",
    "import pandas as pd\n",
    "from functions.env import DB_SCIENCE_PATH_NEW\n",
    "\n",
    "data_path = \"/Users/charlesdedampierre/Desktop/cultura_project/cultura.db\"\n",
    "\n",
    "conn = sqlite3.connect(data_path)\n",
    "new_conn = sqlite3.connect(DB_SCIENCE_PATH_NEW)\n",
    "df_ind_birth = pd.read_sql(\"SELECT * FROM individuals_main_information\", conn)"
   ]
  },
  {
   "cell_type": "code",
   "execution_count": 2,
   "metadata": {},
   "outputs": [
    {
     "data": {
      "text/plain": [
       "71331"
      ]
     },
     "execution_count": 2,
     "metadata": {},
     "output_type": "execute_result"
    }
   ],
   "source": [
    "df_ind = pd.read_sql(\"SELECT * FROM individual_occupations\", conn)\n",
    "\n",
    "only_writers = ['philosopher', 'theologian', 'historian', 'musicologist', 'linguist']\n",
    "df_ind_writers = df_ind[df_ind[\"occupations_name\"].isin(only_writers)]\n",
    "\n",
    "df_ind_science = df_ind[df_ind[\"occupations_category\"].str.contains(\"science\")]\n",
    "list_individuals = list(set(df_ind_science.individual_wikidata_id))\n",
    "\n",
    "df_ind_science = df_ind_science[df_ind_science['individual_wikidata_id'].isin(list_individuals)]\n",
    "\n",
    "df_ind = pd.concat([df_ind_science, df_ind_writers])\n",
    "#df_ind = df_ind.drop_duplicates()\n",
    "len(set(df_ind.individual_wikidata_id))"
   ]
  },
  {
   "cell_type": "code",
   "execution_count": 3,
   "metadata": {},
   "outputs": [
    {
     "name": "stdout",
     "output_type": "stream",
     "text": [
      "52919\n"
     ]
    },
    {
     "data": {
      "text/plain": [
       "186524"
      ]
     },
     "execution_count": 3,
     "metadata": {},
     "output_type": "execute_result"
    }
   ],
   "source": [
    "df_ind_regions = pd.read_sql(\"SELECT * FROM individuals_regions\", conn)\n",
    "df_ind_regions = df_ind_regions.drop(\"individual_name\", axis=1)\n",
    "\n",
    "df_ind_regions = pd.merge(df_ind_regions, df_ind, on = 'individual_wikidata_id')\n",
    "df_ind_regions = df_ind_regions[\n",
    "    [\"individual_wikidata_id\", \"individual_name\", \"region_code\", \"region_name\"]\n",
    "].drop_duplicates()\n",
    "\n",
    "print(len(set(df_ind_regions.individual_wikidata_id)))\n",
    "\n",
    "df_ind_regions.to_sql(\"individuals_regions\", new_conn, if_exists=\"replace\", index=False)"
   ]
  },
  {
   "cell_type": "code",
   "execution_count": 4,
   "metadata": {},
   "outputs": [
    {
     "name": "stdout",
     "output_type": "stream",
     "text": [
      "71331\n"
     ]
    },
    {
     "data": {
      "text/plain": [
       "91185"
      ]
     },
     "execution_count": 4,
     "metadata": {},
     "output_type": "execute_result"
    }
   ],
   "source": [
    "\n",
    "df_ind_birth = df_ind_birth[[\"individual_wikidata_id\", \"birthyear\"]]\n",
    "df_ind_birth[\"productive_year\"] = df_ind_birth[\"birthyear\"] + 35\n",
    "\n",
    "df_ind_final = pd.merge(df_ind, df_ind_birth, on=\"individual_wikidata_id\")\n",
    "\n",
    "print(len(set(df_ind_final.individual_wikidata_id)))\n",
    "\n",
    "df_ind_final.to_sql(\n",
    "    \"individuals_occupation_information\", new_conn, if_exists=\"replace\", index=False\n",
    ")\n"
   ]
  },
  {
   "cell_type": "code",
   "execution_count": 5,
   "metadata": {},
   "outputs": [
    {
     "data": {
      "text/plain": [
       "theologian       6305\n",
       "historian        4400\n",
       "philosopher      3155\n",
       "mathematician    1742\n",
       "explorer         1200\n",
       "                 ... \n",
       "muwaqqit            1\n",
       "embryologist        1\n",
       "phycologist         1\n",
       "gold miner          1\n",
       "herpetologist       1\n",
       "Name: occupations_name, Length: 130, dtype: int64"
      ]
     },
     "execution_count": 5,
     "metadata": {},
     "output_type": "execute_result"
    }
   ],
   "source": [
    "df_ind_final[df_ind_final['birthyear']<=1700].occupations_name.value_counts()"
   ]
  }
 ],
 "metadata": {
  "kernelspec": {
   "display_name": "market_use_cases-Q45SxFKl-py3.8",
   "language": "python",
   "name": "python3"
  },
  "language_info": {
   "codemirror_mode": {
    "name": "ipython",
    "version": 3
   },
   "file_extension": ".py",
   "mimetype": "text/x-python",
   "name": "python",
   "nbconvert_exporter": "python",
   "pygments_lexer": "ipython3",
   "version": "3.8.18"
  }
 },
 "nbformat": 4,
 "nbformat_minor": 2
}
