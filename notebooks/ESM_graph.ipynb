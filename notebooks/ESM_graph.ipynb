{
 "cells": [
  {
   "cell_type": "code",
   "execution_count": 1,
   "id": "4837d6a1",
   "metadata": {},
   "outputs": [],
   "source": [
    "import sys\n",
    "\n",
    "sys.path.append(\"../networks\")\n",
    "sys.path.append(\"../\")\n",
    "\n",
    "import sqlite3\n",
    "\n",
    "import pandas as pd\n",
    "import polars as pl\n",
    "import numpy as np\n",
    "\n",
    "import seaborn as sns\n",
    "import matplotlib.pyplot as plt\n",
    "from sklearn.preprocessing import normalize\n",
    "\n",
    "from functions.datamodel import OptimumParameter\n",
    "from functions.env import DB_SCIENCE_PATH, GRAPH_RESULTS, DB_SCIENCE_PATH_NEW\n",
    "from functions.feat_network import get_edge_node_table\n",
    "from functions.feat_visualization import sygma_graph_leiden\n",
    "\n",
    "pd.options.mode.chained_assignment = None\n",
    "\n",
    "conn = sqlite3.connect(DB_SCIENCE_PATH_NEW)\n",
    "\n",
    "from optimal_clustering import optimal_clustering\n",
    "\n",
    "dict_op = optimal_clustering\n",
    "dict_op = OptimumParameter(**dict_op)\n",
    "\n",
    "from sklearn.metrics.pairwise import euclidean_distances\n",
    "\n",
    "\n",
    "def cosine_similarity(vector1, vector2):\n",
    "    dot_product = np.dot(vector1, vector2)\n",
    "    norm1 = np.linalg.norm(vector1)\n",
    "    norm2 = np.linalg.norm(vector2)\n",
    "    return dot_product / (norm1 * norm2)\n"
   ]
  },
  {
   "cell_type": "code",
   "execution_count": 5,
   "id": "1d0a712f",
   "metadata": {},
   "outputs": [
    {
     "name": "stdout",
     "output_type": "stream",
     "text": [
      "global_before_1600\n",
      "global_1600_1700\n",
      "chinese_world\n",
      "arabic_world\n",
      "indian_world\n",
      "japan_world\n",
      "latin_world\n",
      "greek_world\n"
     ]
    }
   ],
   "source": [
    "## Load Data\n",
    "\n",
    "\n",
    "paths = ['global_before_1600', 'global_1600_1700', 'chinese_world', 'arabic_world', 'indian_world', 'japan_world', 'latin_world', 'greek_world']\n",
    "\n",
    "\n",
    "for path in paths:\n",
    "    print(path)\n",
    "\n",
    "    df = pd.read_csv(f\"../networks/data/{path}.csv\",index_col=[0])\n",
    "    df[\"meta_occupation\"] = df[\"meta_occupation\"].apply(lambda x: x.split(\" | \"))\n",
    "    df = df.explode(\"meta_occupation\")\n",
    "    df = df[[\"wikidata_id\", \"meta_occupation\"]]\n",
    "    df = df.drop_duplicates()\n",
    "    df = df.reset_index(drop=True)\n",
    "    df.columns = [\"source\", \"target\"]\n",
    "    df[\"weight\"] = 1\n",
    "\n",
    "    ## get co-occurence table\n",
    "    df = pl.from_pandas(df)\n",
    "    df_edge, df_nodes = get_edge_node_table(df)\n",
    "\n",
    "\n",
    "    df_edge_filter = df_edge[\n",
    "        df_edge[\"rank_count\"] <= 3\n",
    "    ]\n",
    "\n",
    "    df_edge_filter.to_csv(f'edges_list_filtered/{path}.csv')\n",
    "\n",
    "    # visualization\n",
    "    df_partition, g = sygma_graph_leiden(\n",
    "    df_edge_filter,\n",
    "    df_nodes,\n",
    "    edge_bins=10,\n",
    "    node_bins=10,\n",
    "    filepath=f'final_graph/{path}.html')"
   ]
  }
 ],
 "metadata": {
  "kernelspec": {
   "display_name": "Python 3 (ipykernel)",
   "language": "python",
   "name": "python3"
  },
  "language_info": {
   "codemirror_mode": {
    "name": "ipython",
    "version": 3
   },
   "file_extension": ".py",
   "mimetype": "text/x-python",
   "name": "python",
   "nbconvert_exporter": "python",
   "pygments_lexer": "ipython3",
   "version": "3.8.18"
  }
 },
 "nbformat": 4,
 "nbformat_minor": 5
}
