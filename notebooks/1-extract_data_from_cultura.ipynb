{
 "cells": [
  {
   "cell_type": "code",
   "execution_count": 43,
   "metadata": {},
   "outputs": [],
   "source": [
    "import sys\n",
    "\n",
    "sys.path.append(\"../\")\n",
    "\n",
    "import sqlite3\n",
    "import pandas as pd\n",
    "from functions.env import DB_SCIENCE_PATH_NEW\n",
    "\n",
    "data_path = \"/Users/charlesdedampierre/Desktop/cultura_project/cultura.db\"\n",
    "\n",
    "conn = sqlite3.connect(data_path)\n",
    "new_conn = sqlite3.connect(DB_SCIENCE_PATH_NEW)\n"
   ]
  },
  {
   "cell_type": "code",
   "execution_count": 48,
   "metadata": {},
   "outputs": [
    {
     "name": "stdout",
     "output_type": "stream",
     "text": [
      "42668\n"
     ]
    },
    {
     "data": {
      "text/html": [
       "<div>\n",
       "<style scoped>\n",
       "    .dataframe tbody tr th:only-of-type {\n",
       "        vertical-align: middle;\n",
       "    }\n",
       "\n",
       "    .dataframe tbody tr th {\n",
       "        vertical-align: top;\n",
       "    }\n",
       "\n",
       "    .dataframe thead th {\n",
       "        text-align: right;\n",
       "    }\n",
       "</style>\n",
       "<table border=\"1\" class=\"dataframe\">\n",
       "  <thead>\n",
       "    <tr style=\"text-align: right;\">\n",
       "      <th></th>\n",
       "      <th>individual_wikidata_id</th>\n",
       "      <th>individual_name</th>\n",
       "      <th>occupations_wikidata_id</th>\n",
       "      <th>occupations_name</th>\n",
       "      <th>occupations_category</th>\n",
       "    </tr>\n",
       "  </thead>\n",
       "  <tbody>\n",
       "    <tr>\n",
       "      <th>179</th>\n",
       "      <td>Q675</td>\n",
       "      <td>André-Marie Ampère</td>\n",
       "      <td>Q4964182</td>\n",
       "      <td>philosopher</td>\n",
       "      <td>writer</td>\n",
       "    </tr>\n",
       "    <tr>\n",
       "      <th>1674</th>\n",
       "      <td>Q201221</td>\n",
       "      <td>Alexander Ivanovich Herzen</td>\n",
       "      <td>Q4964182</td>\n",
       "      <td>philosopher</td>\n",
       "      <td>writer</td>\n",
       "    </tr>\n",
       "    <tr>\n",
       "      <th>1819</th>\n",
       "      <td>Q947485</td>\n",
       "      <td>Victor de Riqueti, marquis de Mirabeau</td>\n",
       "      <td>Q4964182</td>\n",
       "      <td>philosopher</td>\n",
       "      <td>writer</td>\n",
       "    </tr>\n",
       "    <tr>\n",
       "      <th>2162</th>\n",
       "      <td>Q298860</td>\n",
       "      <td>Hippasus</td>\n",
       "      <td>Q4964182</td>\n",
       "      <td>philosopher</td>\n",
       "      <td>writer</td>\n",
       "    </tr>\n",
       "    <tr>\n",
       "      <th>2166</th>\n",
       "      <td>Q94840288</td>\n",
       "      <td>David Asher</td>\n",
       "      <td>Q4964182</td>\n",
       "      <td>philosopher</td>\n",
       "      <td>writer</td>\n",
       "    </tr>\n",
       "    <tr>\n",
       "      <th>...</th>\n",
       "      <td>...</td>\n",
       "      <td>...</td>\n",
       "      <td>...</td>\n",
       "      <td>...</td>\n",
       "      <td>...</td>\n",
       "    </tr>\n",
       "    <tr>\n",
       "      <th>318643</th>\n",
       "      <td>Q166876</td>\n",
       "      <td>Isidore of Seville</td>\n",
       "      <td>Q4964182</td>\n",
       "      <td>philosopher</td>\n",
       "      <td>writer</td>\n",
       "    </tr>\n",
       "    <tr>\n",
       "      <th>318691</th>\n",
       "      <td>Q1685927</td>\n",
       "      <td>Jean-Guillaume-César-Alexandre-Hippolyte Colins</td>\n",
       "      <td>Q4964182</td>\n",
       "      <td>philosopher</td>\n",
       "      <td>writer</td>\n",
       "    </tr>\n",
       "    <tr>\n",
       "      <th>318853</th>\n",
       "      <td>Q15970301</td>\n",
       "      <td>Julie Favre</td>\n",
       "      <td>Q4964182</td>\n",
       "      <td>philosopher</td>\n",
       "      <td>writer</td>\n",
       "    </tr>\n",
       "    <tr>\n",
       "      <th>319225</th>\n",
       "      <td>Q6934061</td>\n",
       "      <td>Mulla Mahmud Jaunpuri</td>\n",
       "      <td>Q4964182</td>\n",
       "      <td>philosopher</td>\n",
       "      <td>writer</td>\n",
       "    </tr>\n",
       "    <tr>\n",
       "      <th>319227</th>\n",
       "      <td>Q203445</td>\n",
       "      <td>Porphyry</td>\n",
       "      <td>Q4964182</td>\n",
       "      <td>philosopher</td>\n",
       "      <td>writer</td>\n",
       "    </tr>\n",
       "  </tbody>\n",
       "</table>\n",
       "<p>1090 rows × 5 columns</p>\n",
       "</div>"
      ],
      "text/plain": [
       "       individual_wikidata_id  \\\n",
       "179                      Q675   \n",
       "1674                  Q201221   \n",
       "1819                  Q947485   \n",
       "2162                  Q298860   \n",
       "2166                Q94840288   \n",
       "...                       ...   \n",
       "318643                Q166876   \n",
       "318691               Q1685927   \n",
       "318853              Q15970301   \n",
       "319225               Q6934061   \n",
       "319227                Q203445   \n",
       "\n",
       "                                        individual_name  \\\n",
       "179                                  André-Marie Ampère   \n",
       "1674                         Alexander Ivanovich Herzen   \n",
       "1819             Victor de Riqueti, marquis de Mirabeau   \n",
       "2162                                           Hippasus   \n",
       "2166                                        David Asher   \n",
       "...                                                 ...   \n",
       "318643                               Isidore of Seville   \n",
       "318691  Jean-Guillaume-César-Alexandre-Hippolyte Colins   \n",
       "318853                                      Julie Favre   \n",
       "319225                            Mulla Mahmud Jaunpuri   \n",
       "319227                                         Porphyry   \n",
       "\n",
       "       occupations_wikidata_id occupations_name occupations_category  \n",
       "179                   Q4964182      philosopher               writer  \n",
       "1674                  Q4964182      philosopher               writer  \n",
       "1819                  Q4964182      philosopher               writer  \n",
       "2162                  Q4964182      philosopher               writer  \n",
       "2166                  Q4964182      philosopher               writer  \n",
       "...                        ...              ...                  ...  \n",
       "318643                Q4964182      philosopher               writer  \n",
       "318691                Q4964182      philosopher               writer  \n",
       "318853                Q4964182      philosopher               writer  \n",
       "319225                Q4964182      philosopher               writer  \n",
       "319227                Q4964182      philosopher               writer  \n",
       "\n",
       "[1090 rows x 5 columns]"
      ]
     },
     "execution_count": 48,
     "metadata": {},
     "output_type": "execute_result"
    }
   ],
   "source": [
    "df_ind = pd.read_sql(\"SELECT * FROM individual_occupations\", conn)\n",
    "\n",
    "df_ind_science = df_ind[df_ind[\"occupations_category\"].str.contains(\"science\")]\n",
    "list_individuals = list(set(df_ind_science.individual_wikidata_id))\n",
    "\n",
    "df_ind = df_ind[df_ind['individual_wikidata_id'].isin(list_individuals)]\n",
    "\n",
    "print(len(set(df_ind.individual_wikidata_id)))\n",
    "\n",
    "df_ind[df_ind['occupations_name']=='philosopher']\n"
   ]
  },
  {
   "cell_type": "code",
   "execution_count": 45,
   "metadata": {},
   "outputs": [
    {
     "name": "stdout",
     "output_type": "stream",
     "text": [
      "31089\n"
     ]
    },
    {
     "data": {
      "text/plain": [
       "109580"
      ]
     },
     "execution_count": 45,
     "metadata": {},
     "output_type": "execute_result"
    }
   ],
   "source": [
    "df_ind_regions = pd.read_sql(\"SELECT * FROM individuals_regions\", conn)\n",
    "df_ind_regions = df_ind_regions.drop(\"individual_name\", axis=1)\n",
    "df_ind_regions = pd.merge(df_ind_regions, df_ind, on=\"individual_wikidata_id\")\n",
    "df_ind_regions = df_ind_regions[\n",
    "    [\"individual_wikidata_id\", \"individual_name\", \"region_code\", \"region_name\"]\n",
    "].drop_duplicates()\n",
    "\n",
    "print(len(set(df_ind_regions.individual_wikidata_id)))\n",
    "\n",
    "df_ind_regions.to_sql(\"individuals_regions\", new_conn, if_exists=\"replace\", index=False)"
   ]
  },
  {
   "cell_type": "code",
   "execution_count": 46,
   "metadata": {},
   "outputs": [
    {
     "name": "stdout",
     "output_type": "stream",
     "text": [
      "42668\n"
     ]
    },
    {
     "data": {
      "text/plain": [
       "76865"
      ]
     },
     "execution_count": 46,
     "metadata": {},
     "output_type": "execute_result"
    }
   ],
   "source": [
    "df_ind_birth = pd.read_sql(\"SELECT * FROM individuals_main_information\", conn)\n",
    "df_ind_birth = df_ind_birth[[\"individual_wikidata_id\", \"birthyear\"]]\n",
    "df_ind_birth[\"productive_year\"] = df_ind_birth[\"birthyear\"] + 35\n",
    "\n",
    "df_ind_final = pd.merge(df_ind, df_ind_birth, on=\"individual_wikidata_id\")\n",
    "\n",
    "print(len(set(df_ind_final.individual_wikidata_id)))\n",
    "\n",
    "df_ind_final.to_sql(\n",
    "    \"individuals_occupation_information\", new_conn, if_exists=\"replace\", index=False\n",
    ")\n"
   ]
  }
 ],
 "metadata": {
  "kernelspec": {
   "display_name": "market_use_cases-Q45SxFKl-py3.8",
   "language": "python",
   "name": "python3"
  },
  "language_info": {
   "codemirror_mode": {
    "name": "ipython",
    "version": 3
   },
   "file_extension": ".py",
   "mimetype": "text/x-python",
   "name": "python",
   "nbconvert_exporter": "python",
   "pygments_lexer": "ipython3",
   "version": "3.8.18"
  }
 },
 "nbformat": 4,
 "nbformat_minor": 2
}
