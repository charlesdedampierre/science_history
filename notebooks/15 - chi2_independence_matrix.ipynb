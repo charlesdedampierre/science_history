{
 "cells": [
  {
   "cell_type": "code",
   "execution_count": 9,
   "metadata": {},
   "outputs": [
    {
     "name": "stdout",
     "output_type": "stream",
     "text": [
      "Chi-squared = 5627.198728955837, p-value = 0.0\n",
      "The associations between scholars' occupations are not random.\n"
     ]
    }
   ],
   "source": [
    "from scipy.stats import chi2_contingency\n",
    "import pandas as pd\n",
    "\n",
    "import polars as pl\n",
    "from functions.feat_network import get_edge_node_table\n",
    "\n",
    "import sys\n",
    "sys.path.append('../')\n",
    "\n",
    "path = 'global_before_1700'\n",
    "\n",
    "df = pd.read_csv(f\"../networks/data/{path}.csv\",index_col=[0])\n",
    "df[\"meta_occupation\"] = df[\"meta_occupation\"].apply(lambda x: x.split(\" | \"))\n",
    "df = df.explode(\"meta_occupation\")\n",
    "df = df[[\"wikidata_id\", \"meta_occupation\"]]\n",
    "df = df.drop_duplicates()\n",
    "df = df.reset_index(drop=True)\n",
    "df.columns = [\"source\", \"target\"]\n",
    "df[\"weight\"] = 1\n",
    "\n",
    "## get co-occurence table\n",
    "res = pl.from_pandas(df)\n",
    "df_edge, df_nodes = get_edge_node_table(res)\n",
    "df_pivot = df_edge.pivot(index='source', columns='target', values='weight').fillna(0)\n",
    "\n",
    "# Perform the chi-squared test\n",
    "chi2, p, _, _ = chi2_contingency(df_pivot)\n",
    "\n",
    "# Output the result\n",
    "print(f\"Chi-squared = {chi2}, p-value = {p}\")\n",
    "if p < 0.001:\n",
    "    print(\"The associations between scholars' occupations are not random.\")\n",
    "else:\n",
    "    print(\"The associations between scholars' occupations may be random.\")\n"
   ]
  }
 ],
 "metadata": {
  "kernelspec": {
   "display_name": "market_use_cases-Q45SxFKl-py3.8",
   "language": "python",
   "name": "python3"
  },
  "language_info": {
   "codemirror_mode": {
    "name": "ipython",
    "version": 3
   },
   "file_extension": ".py",
   "mimetype": "text/x-python",
   "name": "python",
   "nbconvert_exporter": "python",
   "pygments_lexer": "ipython3",
   "version": "3.8.18"
  }
 },
 "nbformat": 4,
 "nbformat_minor": 2
}
