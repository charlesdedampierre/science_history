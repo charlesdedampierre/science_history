{
 "cells": [
  {
   "cell_type": "code",
   "execution_count": 1,
   "id": "3d21ba1e-4804-4354-8adf-c835ac89fe0d",
   "metadata": {
    "tags": []
   },
   "outputs": [
    {
     "data": {
      "text/plain": [
       "True"
      ]
     },
     "execution_count": 1,
     "metadata": {},
     "output_type": "execute_result"
    }
   ],
   "source": [
    "import sqlite3\n",
    "import pandas as pd\n",
    "import numpy as np\n",
    "import os\n",
    "import polars as pl\n",
    "\n",
    "import random\n",
    "random.seed(42)\n",
    "\n",
    "import sys\n",
    "\n",
    "sys.path.append('../')\n",
    "sys.path.append('../networks')\n",
    "from dotenv import load_dotenv\n",
    "\n",
    "import plotly.express as px\n",
    "\n",
    "# Load the environment variables from the .env file\n",
    "dotenv_path = os.path.join('../', '.env')\n",
    "load_dotenv(dotenv_path)"
   ]
  },
  {
   "cell_type": "code",
   "execution_count": 2,
   "id": "844baef3-dfae-43e7-be6f-f4f6eb52651b",
   "metadata": {
    "tags": []
   },
   "outputs": [],
   "source": [
    "from functions.env import DB_SCIENCE_PATH\n",
    "\n",
    "conn = sqlite3.connect(DB_SCIENCE_PATH)\n",
    "conn_full_db = sqlite3.connect(os.getenv(\"FULL_DB_PATH\"))\n",
    "\n",
    "columns_to_keep = [\n",
    "        \"re_arabic_world\",\n",
    "        \"re_central_europe\",\n",
    "        \"re_chinese_world\",\n",
    "        \"re_eastern_europe\",\n",
    "        \"re_france\",\n",
    "        \"re_german_world\",\n",
    "        \"re_greek_world\",\n",
    "        \"re_indian_world\",\n",
    "        \"re_italy\",\n",
    "        \"re_japan\",\n",
    "        \"re_low_countries\",\n",
    "        \"re_nordic_countries\",\n",
    "        \"re_persian_world\",\n",
    "        \"re_slav_world\",\n",
    "        \"re_spain\",\n",
    "        \"re_united_kingdom\",\n",
    "    ]\n",
    "\n",
    "\n",
    "df_occupation = pd.read_sql(\"SELECT * FROM individual_id_cleaned_occupations\", conn)\n"
   ]
  },
  {
   "cell_type": "code",
   "execution_count": 29,
   "id": "41c868d8-9b7d-4d65-8cf7-25999d46ccac",
   "metadata": {
    "tags": []
   },
   "outputs": [
    {
     "data": {
      "text/plain": [
       "21430"
      ]
     },
     "execution_count": 29,
     "metadata": {},
     "output_type": "execute_result"
    }
   ],
   "source": [
    "df_meta = pd.read_sql(\"SELECT * FROM temporal_data\", conn)\n",
    "df_meta = df_meta[df_meta['region_code'].isin(columns_to_keep)]\n",
    "len(set(df_meta.wikidata_id))"
   ]
  },
  {
   "cell_type": "code",
   "execution_count": 19,
   "id": "098d9ad6-bcfa-45f8-8939-75fa62bfa128",
   "metadata": {
    "tags": []
   },
   "outputs": [
    {
     "data": {
      "text/plain": [
       "array(['re_arabic_world', 're_central_europe', 're_chinese_world',\n",
       "       're_eastern_europe', 're_france', 're_german_world',\n",
       "       're_greek_world', 're_indian_world', 're_italy', 're_japan',\n",
       "       're_low_countries', 're_nordic_countries', 're_persian_world',\n",
       "       're_slav_world', 're_spain', 're_united_kingdom'], dtype=object)"
      ]
     },
     "execution_count": 19,
     "metadata": {},
     "output_type": "execute_result"
    }
   ],
   "source": [
    "pd.DataFrame(columns_to_keep).drop_duplicates()[0].values"
   ]
  },
  {
   "cell_type": "code",
   "execution_count": 14,
   "id": "28819c57-7887-4363-93eb-9a2202fb4a73",
   "metadata": {
    "tags": []
   },
   "outputs": [
    {
     "data": {
      "text/plain": [
       "['re_arabic_world',\n",
       " 're_central_europe',\n",
       " 're_chinese_world',\n",
       " 're_eastern_europe',\n",
       " 're_france',\n",
       " 're_german_world',\n",
       " 're_greek_world',\n",
       " 're_indian_world',\n",
       " 're_italy',\n",
       " 're_japan',\n",
       " 're_low_countries',\n",
       " 're_nordic_countries',\n",
       " 're_persian_world',\n",
       " 're_slav_world',\n",
       " 're_spain',\n",
       " 're_united_kingdom']"
      ]
     },
     "execution_count": 14,
     "metadata": {},
     "output_type": "execute_result"
    }
   ],
   "source": [
    "list(pd.DataFrame(columns_to_keep)[0].values)"
   ]
  },
  {
   "cell_type": "code",
   "execution_count": 37,
   "id": "6ab7f856-19d9-44d2-9593-ca8d9acc0c27",
   "metadata": {
    "tags": []
   },
   "outputs": [],
   "source": [
    "columns_non_eu = [\n",
    "    \"re_arabic_world\",\n",
    "    \"re_central_europe\",\n",
    "    \"re_chinese_world\",\n",
    "    \"re_eastern_europe\",\n",
    "    \"re_indian_world\",\n",
    "    \"re_japan\",\n",
    "    \"re_muslim_world\",\n",
    "    \"re_persian_world\",\n",
    "    \"re_slav_world\",\n",
    "]"
   ]
  },
  {
   "cell_type": "code",
   "execution_count": 38,
   "id": "a7331ebe-8f5c-4038-ae3a-a2bd1aa9b236",
   "metadata": {
    "tags": []
   },
   "outputs": [
    {
     "data": {
      "text/plain": [
       "4164"
      ]
     },
     "execution_count": 38,
     "metadata": {},
     "output_type": "execute_result"
    }
   ],
   "source": [
    "df_non_eu = df_meta[df_meta['region_code'].isin(columns_non_eu)]\n",
    "len(set(df_non_eu.wikidata_id))"
   ]
  },
  {
   "cell_type": "code",
   "execution_count": 39,
   "id": "3693c10b-d4c6-4c71-b027-980fe9110ab7",
   "metadata": {
    "tags": []
   },
   "outputs": [],
   "source": [
    "list_inds = list(set(df_meta.wikidata_id))\n",
    "df_occupation_fil = df_occupation[df_occupation['wikidata_id'].isin(list_inds)]"
   ]
  },
  {
   "cell_type": "code",
   "execution_count": 43,
   "id": "1167a7dd-2c0f-484b-9826-ace2ed4e2de0",
   "metadata": {
    "tags": []
   },
   "outputs": [],
   "source": [
    "df_occupation_fil.meta_occupation.value_counts().to_clipboard()"
   ]
  },
  {
   "cell_type": "code",
   "execution_count": null,
   "id": "cc80844d-6437-4bd4-b7f2-2104a26cdfdc",
   "metadata": {},
   "outputs": [],
   "source": []
  }
 ],
 "metadata": {
  "kernelspec": {
   "display_name": "Python 3 (ipykernel)",
   "language": "python",
   "name": "python3"
  },
  "language_info": {
   "codemirror_mode": {
    "name": "ipython",
    "version": 3
   },
   "file_extension": ".py",
   "mimetype": "text/x-python",
   "name": "python",
   "nbconvert_exporter": "python",
   "pygments_lexer": "ipython3",
   "version": "3.8.18"
  }
 },
 "nbformat": 4,
 "nbformat_minor": 5
}
