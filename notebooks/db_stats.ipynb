{
 "cells": [
  {
   "cell_type": "code",
   "execution_count": 2,
   "id": "3d21ba1e-4804-4354-8adf-c835ac89fe0d",
   "metadata": {
    "tags": []
   },
   "outputs": [
    {
     "data": {
      "text/plain": [
       "True"
      ]
     },
     "execution_count": 2,
     "metadata": {},
     "output_type": "execute_result"
    }
   ],
   "source": [
    "import sqlite3\n",
    "import pandas as pd\n",
    "import numpy as np\n",
    "import os\n",
    "import polars as pl\n",
    "\n",
    "import random\n",
    "random.seed(42)\n",
    "\n",
    "import sys\n",
    "\n",
    "sys.path.append('../')\n",
    "sys.path.append('../networks')\n",
    "from dotenv import load_dotenv\n",
    "\n",
    "import plotly.express as px\n",
    "\n",
    "# Load the environment variables from the .env file\n",
    "dotenv_path = os.path.join('../', '.env')\n",
    "load_dotenv(dotenv_path)"
   ]
  },
  {
   "cell_type": "code",
   "execution_count": 3,
   "id": "844baef3-dfae-43e7-be6f-f4f6eb52651b",
   "metadata": {
    "tags": []
   },
   "outputs": [],
   "source": [
    "from functions.env import DB_SCIENCE_PATH\n",
    "\n",
    "conn = sqlite3.connect(DB_SCIENCE_PATH)\n",
    "conn_full_db = sqlite3.connect(os.getenv(\"FULL_DB_PATH\"))\n",
    "\n",
    "columns_to_keep = [\n",
    "        \"re_arabic_world\",\n",
    "        \"re_central_europe\",\n",
    "        \"re_chinese_world\",\n",
    "        \"re_eastern_europe\",\n",
    "        \"re_france\",\n",
    "        \"re_german_world\",\n",
    "        \"re_greek_world\",\n",
    "        \"re_indian_world\",\n",
    "        \"re_italy\",\n",
    "        \"re_japan\",\n",
    "        \"re_low_countries\",\n",
    "        \"re_nordic_countries\",\n",
    "        \"re_persian_world\",\n",
    "        \"re_slav_world\",\n",
    "        \"re_spain\",\n",
    "        \"re_united_kingdom\",\n",
    "    ]\n",
    "\n",
    "\n",
    "df_occupation = pd.read_sql(\"SELECT * FROM individual_id_cleaned_occupations\", conn)\n"
   ]
  },
  {
   "cell_type": "code",
   "execution_count": 15,
   "id": "41c868d8-9b7d-4d65-8cf7-25999d46ccac",
   "metadata": {
    "tags": []
   },
   "outputs": [
    {
     "data": {
      "text/plain": [
       "21430"
      ]
     },
     "execution_count": 15,
     "metadata": {},
     "output_type": "execute_result"
    }
   ],
   "source": [
    "df_meta = pd.read_sql(\"SELECT * FROM temporal_data\", conn)\n",
    "df_meta = df_meta[df_meta['region_code'].isin(columns_to_keep)]\n",
    "len(set(df_meta.wikidata_id))"
   ]
  },
  {
   "cell_type": "code",
   "execution_count": null,
   "id": "3e01c16a-b297-4be6-8642-a7fc4b1c3c5f",
   "metadata": {
    "tags": []
   },
   "outputs": [],
   "source": []
  },
  {
   "cell_type": "code",
   "execution_count": 25,
   "id": "f8646b85-af38-49a3-b05e-54143644a076",
   "metadata": {
    "tags": []
   },
   "outputs": [
    {
     "data": {
      "text/html": [
       "<div>\n",
       "<style scoped>\n",
       "    .dataframe tbody tr th:only-of-type {\n",
       "        vertical-align: middle;\n",
       "    }\n",
       "\n",
       "    .dataframe tbody tr th {\n",
       "        vertical-align: top;\n",
       "    }\n",
       "\n",
       "    .dataframe thead th {\n",
       "        text-align: right;\n",
       "    }\n",
       "</style>\n",
       "<table border=\"1\" class=\"dataframe\">\n",
       "  <thead>\n",
       "    <tr style=\"text-align: right;\">\n",
       "      <th></th>\n",
       "      <th>wikidata_id</th>\n",
       "      <th>region_code</th>\n",
       "      <th>birthyear</th>\n",
       "      <th>interest</th>\n",
       "      <th>decade</th>\n",
       "      <th>fifty</th>\n",
       "      <th>century</th>\n",
       "    </tr>\n",
       "  </thead>\n",
       "  <tbody>\n",
       "    <tr>\n",
       "      <th>2</th>\n",
       "      <td>Q3136004</td>\n",
       "      <td>re_france</td>\n",
       "      <td>1802.0</td>\n",
       "      <td>nature</td>\n",
       "      <td>1800</td>\n",
       "      <td>1800</td>\n",
       "      <td>1800</td>\n",
       "    </tr>\n",
       "    <tr>\n",
       "      <th>6</th>\n",
       "      <td>Q85194</td>\n",
       "      <td>re_german_world</td>\n",
       "      <td>1827.0</td>\n",
       "      <td>nature</td>\n",
       "      <td>1830</td>\n",
       "      <td>1850</td>\n",
       "      <td>1800</td>\n",
       "    </tr>\n",
       "    <tr>\n",
       "      <th>10</th>\n",
       "      <td>Q123735</td>\n",
       "      <td>re_german_world</td>\n",
       "      <td>1760.0</td>\n",
       "      <td>abstract</td>\n",
       "      <td>1760</td>\n",
       "      <td>1750</td>\n",
       "      <td>1800</td>\n",
       "    </tr>\n",
       "    <tr>\n",
       "      <th>15</th>\n",
       "      <td>Q6288070</td>\n",
       "      <td>re_united_kingdom</td>\n",
       "      <td>1817.0</td>\n",
       "      <td>abstract</td>\n",
       "      <td>1820</td>\n",
       "      <td>1800</td>\n",
       "      <td>1800</td>\n",
       "    </tr>\n",
       "    <tr>\n",
       "      <th>18</th>\n",
       "      <td>Q75994</td>\n",
       "      <td>re_german_world</td>\n",
       "      <td>1817.0</td>\n",
       "      <td>nature</td>\n",
       "      <td>1820</td>\n",
       "      <td>1800</td>\n",
       "      <td>1800</td>\n",
       "    </tr>\n",
       "    <tr>\n",
       "      <th>...</th>\n",
       "      <td>...</td>\n",
       "      <td>...</td>\n",
       "      <td>...</td>\n",
       "      <td>...</td>\n",
       "      <td>...</td>\n",
       "      <td>...</td>\n",
       "      <td>...</td>\n",
       "    </tr>\n",
       "    <tr>\n",
       "      <th>85718</th>\n",
       "      <td>Q11671324</td>\n",
       "      <td>re_japan</td>\n",
       "      <td>1785.0</td>\n",
       "      <td>humans</td>\n",
       "      <td>1780</td>\n",
       "      <td>1800</td>\n",
       "      <td>1800</td>\n",
       "    </tr>\n",
       "    <tr>\n",
       "      <th>85720</th>\n",
       "      <td>Q3135437</td>\n",
       "      <td>re_japan</td>\n",
       "      <td>1714.0</td>\n",
       "      <td>abstract</td>\n",
       "      <td>1710</td>\n",
       "      <td>1700</td>\n",
       "      <td>1700</td>\n",
       "    </tr>\n",
       "    <tr>\n",
       "      <th>85721</th>\n",
       "      <td>Q6531189</td>\n",
       "      <td>re_japan</td>\n",
       "      <td>1810.0</td>\n",
       "      <td>nature</td>\n",
       "      <td>1810</td>\n",
       "      <td>1800</td>\n",
       "      <td>1800</td>\n",
       "    </tr>\n",
       "    <tr>\n",
       "      <th>85723</th>\n",
       "      <td>Q55050774</td>\n",
       "      <td>re_japan</td>\n",
       "      <td>1841.0</td>\n",
       "      <td>nature</td>\n",
       "      <td>1840</td>\n",
       "      <td>1850</td>\n",
       "      <td>1800</td>\n",
       "    </tr>\n",
       "    <tr>\n",
       "      <th>85724</th>\n",
       "      <td>Q11534346</td>\n",
       "      <td>re_japan</td>\n",
       "      <td>1832.0</td>\n",
       "      <td>abstract</td>\n",
       "      <td>1830</td>\n",
       "      <td>1850</td>\n",
       "      <td>1800</td>\n",
       "    </tr>\n",
       "  </tbody>\n",
       "</table>\n",
       "<p>27327 rows × 7 columns</p>\n",
       "</div>"
      ],
      "text/plain": [
       "      wikidata_id        region_code  birthyear  interest  decade  fifty  \\\n",
       "2        Q3136004          re_france     1802.0    nature    1800   1800   \n",
       "6          Q85194    re_german_world     1827.0    nature    1830   1850   \n",
       "10        Q123735    re_german_world     1760.0  abstract    1760   1750   \n",
       "15       Q6288070  re_united_kingdom     1817.0  abstract    1820   1800   \n",
       "18         Q75994    re_german_world     1817.0    nature    1820   1800   \n",
       "...           ...                ...        ...       ...     ...    ...   \n",
       "85718   Q11671324           re_japan     1785.0    humans    1780   1800   \n",
       "85720    Q3135437           re_japan     1714.0  abstract    1710   1700   \n",
       "85721    Q6531189           re_japan     1810.0    nature    1810   1800   \n",
       "85723   Q55050774           re_japan     1841.0    nature    1840   1850   \n",
       "85724   Q11534346           re_japan     1832.0  abstract    1830   1850   \n",
       "\n",
       "       century  \n",
       "2         1800  \n",
       "6         1800  \n",
       "10        1800  \n",
       "15        1800  \n",
       "18        1800  \n",
       "...        ...  \n",
       "85718     1800  \n",
       "85720     1700  \n",
       "85721     1800  \n",
       "85723     1800  \n",
       "85724     1800  \n",
       "\n",
       "[27327 rows x 7 columns]"
      ]
     },
     "execution_count": 25,
     "metadata": {},
     "output_type": "execute_result"
    }
   ],
   "source": [
    "df_meta"
   ]
  },
  {
   "cell_type": "code",
   "execution_count": 20,
   "id": "6ab7f856-19d9-44d2-9593-ca8d9acc0c27",
   "metadata": {
    "tags": []
   },
   "outputs": [],
   "source": [
    "columns_non_eu = [\n",
    "    \"re_arabic_world\",\n",
    "    \"re_central_europe\",\n",
    "    \"re_chinese_world\",\n",
    "    \"re_eastern_europe\",\n",
    "    \"re_indian_world\",\n",
    "    \"re_japan\",\n",
    "    \"re_muslim_world\",\n",
    "    \"re_persian_world\",\n",
    "    \"re_slav_world\",\n",
    "]"
   ]
  },
  {
   "cell_type": "code",
   "execution_count": 22,
   "id": "a7331ebe-8f5c-4038-ae3a-a2bd1aa9b236",
   "metadata": {
    "tags": []
   },
   "outputs": [
    {
     "data": {
      "text/plain": [
       "4164"
      ]
     },
     "execution_count": 22,
     "metadata": {},
     "output_type": "execute_result"
    }
   ],
   "source": [
    "df_non_eu = df_meta[df_meta['region_code'].isin(columns_non_eu)]\n",
    "len(set(df_non_eu.wikidata_id))"
   ]
  },
  {
   "cell_type": "code",
   "execution_count": null,
   "id": "3693c10b-d4c6-4c71-b027-980fe9110ab7",
   "metadata": {
    "tags": []
   },
   "outputs": [],
   "source": []
  },
  {
   "cell_type": "code",
   "execution_count": null,
   "id": "1167a7dd-2c0f-484b-9826-ace2ed4e2de0",
   "metadata": {
    "tags": []
   },
   "outputs": [],
   "source": []
  },
  {
   "cell_type": "code",
   "execution_count": null,
   "id": "cc80844d-6437-4bd4-b7f2-2104a26cdfdc",
   "metadata": {},
   "outputs": [],
   "source": []
  }
 ],
 "metadata": {
  "kernelspec": {
   "display_name": "Python 3 (ipykernel)",
   "language": "python",
   "name": "python3"
  },
  "language_info": {
   "codemirror_mode": {
    "name": "ipython",
    "version": 3
   },
   "file_extension": ".py",
   "mimetype": "text/x-python",
   "name": "python",
   "nbconvert_exporter": "python",
   "pygments_lexer": "ipython3",
   "version": "3.8.18"
  }
 },
 "nbformat": 4,
 "nbformat_minor": 5
}
