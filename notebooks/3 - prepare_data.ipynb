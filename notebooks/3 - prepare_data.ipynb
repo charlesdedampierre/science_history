{
 "cells": [
  {
   "cell_type": "code",
   "execution_count": 1,
   "metadata": {},
   "outputs": [],
   "source": [
    "import sys\n",
    "\n",
    "sys.path.append(\"../\")\n",
    "\n",
    "import sqlite3\n",
    "import pandas as pd\n",
    "\n",
    "pd.options.mode.chained_assignment = None\n",
    "\n",
    "import os\n",
    "\n",
    "from dotenv import load_dotenv\n",
    "\n",
    "load_dotenv()\n",
    "\n",
    "DB_SCIENCE_PATH_NEW  = os.getenv(\"DB_SCIENCE_PATH_NEW\")\n",
    "\n",
    "conn = sqlite3.connect(DB_SCIENCE_PATH_NEW)\n"
   ]
  },
  {
   "cell_type": "code",
   "execution_count": 2,
   "metadata": {},
   "outputs": [],
   "source": [
    "df_occupation = pd.read_sql(\"SELECT * FROM cleaned_occupations_science\", conn)\n",
    "df_occupation = df_occupation.groupby(['wikidata_id'])['meta_occupation'].apply(lambda x : ' | '.join(x))\n",
    "df_occupation = df_occupation.reset_index()\n",
    "df_occupation = df_occupation.drop_duplicates()"
   ]
  },
  {
   "cell_type": "code",
   "execution_count": 3,
   "metadata": {},
   "outputs": [],
   "source": [
    "data_path = '../networks/data'"
   ]
  },
  {
   "cell_type": "code",
   "execution_count": 4,
   "metadata": {},
   "outputs": [
    {
     "data": {
      "text/plain": [
       "71331"
      ]
     },
     "execution_count": 4,
     "metadata": {},
     "output_type": "execute_result"
    }
   ],
   "source": [
    "df_ind_regions = pd.read_sql_query(\n",
    "    \"SELECT * FROM individuals_regions\", conn\n",
    ")\n",
    "df_ind_regions = df_ind_regions.rename(\n",
    "    columns={\"individual_wikidata_id\": \"wikidata_id\"}\n",
    ")\n",
    "\n",
    "\n",
    "df_temporal = pd.read_sql(\"SELECT * FROM individuals_occupation_information\", conn)\n",
    "df_temporal = df_temporal.rename(\n",
    "    columns={\"individual_wikidata_id\": \"wikidata_id\"}\n",
    ")\n",
    "df_temporal = df_temporal[['wikidata_id', 'birthyear']].drop_duplicates()\n",
    "len(set(df_temporal.wikidata_id))"
   ]
  },
  {
   "cell_type": "code",
   "execution_count": 5,
   "metadata": {},
   "outputs": [],
   "source": [
    "df_random = pd.merge(df_ind_regions, df_temporal, on = 'wikidata_id')\n",
    "df_random = pd.merge(df_random, df_occupation, on = 'wikidata_id')\n",
    "df_random = df_random[['wikidata_id', 'meta_occupation']].drop_duplicates()\n",
    "df_random_1 = df_random.sample(1000, random_state=42)\n",
    "df_random_2 = df_random.sample(1000, random_state=41)\n",
    "\n",
    "df_random_1.to_csv(data_path + '/random_1.csv')\n",
    "df_random_2.to_csv(data_path + '/random_2.csv')"
   ]
  },
  {
   "cell_type": "code",
   "execution_count": 6,
   "metadata": {},
   "outputs": [],
   "source": [
    "regions_europe = [\n",
    "'re_low_countries',\n",
    "'re_france',\n",
    "'re_spain',\n",
    "'re_portugal',\n",
    "'re_italy',\n",
    "'re_german_world',\n",
    "'re_central_europe',\n",
    "'re_slav_world',\n",
    "'re_balkans',\n",
    "'re_nordic_countries',\n",
    "'re_british_islands']\n",
    "\n",
    "df_ind_regions['region_code'] = df_ind_regions['region_code'].str.strip()\n",
    "df_ind_regions_europe = df_ind_regions[df_ind_regions[\"region_code\"].isin(regions_europe)]\n"
   ]
  },
  {
   "cell_type": "code",
   "execution_count": null,
   "metadata": {},
   "outputs": [],
   "source": []
  },
  {
   "cell_type": "code",
   "execution_count": 7,
   "metadata": {},
   "outputs": [
    {
     "data": {
      "text/plain": [
       "German world        15250\n",
       "France               7959\n",
       "British Islands      5727\n",
       "Italy                5189\n",
       "Central Europe       4825\n",
       "Nordic countries     2718\n",
       "Slav world           2431\n",
       "Low countries        2236\n",
       "Spain                1966\n",
       "Balkans               672\n",
       "Portugal              407\n",
       "Name: region_name, dtype: int64"
      ]
     },
     "execution_count": 7,
     "metadata": {},
     "output_type": "execute_result"
    }
   ],
   "source": [
    "df_ind_regions_europe.region_name.value_counts()"
   ]
  },
  {
   "cell_type": "code",
   "execution_count": 8,
   "metadata": {},
   "outputs": [
    {
     "data": {
      "text/plain": [
       "re_german_world        15250\n",
       "re_france               7959\n",
       "re_british_islands      5727\n",
       "re_italy                5189\n",
       "re_central_europe       4825\n",
       "re_nordic_countries     2718\n",
       "re_slav_world           2431\n",
       "re_low_countries        2236\n",
       "re_spain                1966\n",
       "re_balkans               672\n",
       "re_portugal              407\n",
       "Name: region_code, dtype: int64"
      ]
     },
     "execution_count": 8,
     "metadata": {},
     "output_type": "execute_result"
    }
   ],
   "source": [
    "df_ind_regions_europe.region_code.value_counts()"
   ]
  },
  {
   "cell_type": "code",
   "execution_count": null,
   "metadata": {},
   "outputs": [],
   "source": []
  },
  {
   "cell_type": "code",
   "execution_count": 9,
   "metadata": {},
   "outputs": [
    {
     "data": {
      "text/plain": [
       "{'re_balkans',\n",
       " 're_british_islands',\n",
       " 're_central_europe',\n",
       " 're_france',\n",
       " 're_german_world',\n",
       " 're_italy',\n",
       " 're_low_countries',\n",
       " 're_nordic_countries',\n",
       " 're_portugal',\n",
       " 're_slav_world',\n",
       " 're_spain'}"
      ]
     },
     "execution_count": 9,
     "metadata": {},
     "output_type": "execute_result"
    }
   ],
   "source": [
    "set(df_ind_regions_europe.region_code)"
   ]
  },
  {
   "cell_type": "code",
   "execution_count": 10,
   "metadata": {},
   "outputs": [
    {
     "data": {
      "text/html": [
       "<div>\n",
       "<style scoped>\n",
       "    .dataframe tbody tr th:only-of-type {\n",
       "        vertical-align: middle;\n",
       "    }\n",
       "\n",
       "    .dataframe tbody tr th {\n",
       "        vertical-align: top;\n",
       "    }\n",
       "\n",
       "    .dataframe thead th {\n",
       "        text-align: right;\n",
       "    }\n",
       "</style>\n",
       "<table border=\"1\" class=\"dataframe\">\n",
       "  <thead>\n",
       "    <tr style=\"text-align: right;\">\n",
       "      <th></th>\n",
       "      <th>wikidata_id</th>\n",
       "      <th>individual_name</th>\n",
       "      <th>region_code</th>\n",
       "      <th>region_name</th>\n",
       "    </tr>\n",
       "  </thead>\n",
       "  <tbody>\n",
       "    <tr>\n",
       "      <th>0</th>\n",
       "      <td>Q2822993</td>\n",
       "      <td>Achard of Saint-Victor</td>\n",
       "      <td>re_british_islands</td>\n",
       "      <td>British Islands</td>\n",
       "    </tr>\n",
       "    <tr>\n",
       "      <th>4</th>\n",
       "      <td>Q246595</td>\n",
       "      <td>Joseph Smit</td>\n",
       "      <td>re_british_islands</td>\n",
       "      <td>British Islands</td>\n",
       "    </tr>\n",
       "    <tr>\n",
       "      <th>8</th>\n",
       "      <td>Q742311</td>\n",
       "      <td>Chad of Mercia</td>\n",
       "      <td>re_british_islands</td>\n",
       "      <td>British Islands</td>\n",
       "    </tr>\n",
       "    <tr>\n",
       "      <th>12</th>\n",
       "      <td>Q6240116</td>\n",
       "      <td>John Howe</td>\n",
       "      <td>re_british_islands</td>\n",
       "      <td>British Islands</td>\n",
       "    </tr>\n",
       "    <tr>\n",
       "      <th>16</th>\n",
       "      <td>Q5738046</td>\n",
       "      <td>Thomas Douglas Forsyth</td>\n",
       "      <td>re_british_islands</td>\n",
       "      <td>British Islands</td>\n",
       "    </tr>\n",
       "    <tr>\n",
       "      <th>...</th>\n",
       "      <td>...</td>\n",
       "      <td>...</td>\n",
       "      <td>...</td>\n",
       "      <td>...</td>\n",
       "    </tr>\n",
       "    <tr>\n",
       "      <th>180824</th>\n",
       "      <td>Q12278401</td>\n",
       "      <td>Dimitrije Kantakouzenos</td>\n",
       "      <td>re_balkans</td>\n",
       "      <td>Balkans</td>\n",
       "    </tr>\n",
       "    <tr>\n",
       "      <th>180826</th>\n",
       "      <td>Q3148191</td>\n",
       "      <td>Ignác Szentmártonyi</td>\n",
       "      <td>re_balkans</td>\n",
       "      <td>Balkans</td>\n",
       "    </tr>\n",
       "    <tr>\n",
       "      <th>180828</th>\n",
       "      <td>Q2548769</td>\n",
       "      <td>Gregory Akindynos</td>\n",
       "      <td>re_balkans</td>\n",
       "      <td>Balkans</td>\n",
       "    </tr>\n",
       "    <tr>\n",
       "      <th>180829</th>\n",
       "      <td>Q3633198</td>\n",
       "      <td>Balagrus</td>\n",
       "      <td>re_balkans</td>\n",
       "      <td>Balkans</td>\n",
       "    </tr>\n",
       "    <tr>\n",
       "      <th>180830</th>\n",
       "      <td>Q6169108</td>\n",
       "      <td>Jean-Claude Faveyrial</td>\n",
       "      <td>re_balkans</td>\n",
       "      <td>Balkans</td>\n",
       "    </tr>\n",
       "  </tbody>\n",
       "</table>\n",
       "<p>49380 rows × 4 columns</p>\n",
       "</div>"
      ],
      "text/plain": [
       "       wikidata_id          individual_name         region_code  \\\n",
       "0         Q2822993   Achard of Saint-Victor  re_british_islands   \n",
       "4          Q246595              Joseph Smit  re_british_islands   \n",
       "8          Q742311           Chad of Mercia  re_british_islands   \n",
       "12        Q6240116                John Howe  re_british_islands   \n",
       "16        Q5738046   Thomas Douglas Forsyth  re_british_islands   \n",
       "...            ...                      ...                 ...   \n",
       "180824   Q12278401  Dimitrije Kantakouzenos          re_balkans   \n",
       "180826    Q3148191      Ignác Szentmártonyi          re_balkans   \n",
       "180828    Q2548769        Gregory Akindynos          re_balkans   \n",
       "180829    Q3633198                 Balagrus          re_balkans   \n",
       "180830    Q6169108    Jean-Claude Faveyrial          re_balkans   \n",
       "\n",
       "            region_name  \n",
       "0       British Islands  \n",
       "4       British Islands  \n",
       "8       British Islands  \n",
       "12      British Islands  \n",
       "16      British Islands  \n",
       "...                 ...  \n",
       "180824          Balkans  \n",
       "180826          Balkans  \n",
       "180828          Balkans  \n",
       "180829          Balkans  \n",
       "180830          Balkans  \n",
       "\n",
       "[49380 rows x 4 columns]"
      ]
     },
     "execution_count": 10,
     "metadata": {},
     "output_type": "execute_result"
    }
   ],
   "source": [
    "df_ind_regions[df_ind_regions[\"region_code\"].isin(regions_europe)]"
   ]
  },
  {
   "cell_type": "code",
   "execution_count": null,
   "metadata": {},
   "outputs": [],
   "source": []
  },
  {
   "cell_type": "code",
   "execution_count": 11,
   "metadata": {},
   "outputs": [
    {
     "name": "stdout",
     "output_type": "stream",
     "text": [
      "42489\n"
     ]
    }
   ],
   "source": [
    "# starting from 500\n",
    "df_temporal_europe = df_temporal[df_temporal[\"birthyear\"] > 500]\n",
    "\n",
    "df_europe = pd.merge(df_ind_regions_europe, df_temporal_europe, on = 'wikidata_id')\n",
    "df_europe = pd.merge(df_europe, df_occupation, on = 'wikidata_id')\n",
    "\n",
    "print(len(set(df_europe.wikidata_id)))\n",
    "\n",
    "df_europe.to_csv(data_path + '/europe.csv')"
   ]
  },
  {
   "cell_type": "code",
   "execution_count": 12,
   "metadata": {},
   "outputs": [
    {
     "data": {
      "text/plain": [
       "{'re_arabian_peninsula',\n",
       " 're_arabic_world',\n",
       " 're_austria',\n",
       " 're_balkans',\n",
       " 're_belgium',\n",
       " 're_british_islands',\n",
       " 're_central_europe',\n",
       " 're_chinese_world',\n",
       " 're_denmark',\n",
       " 're_eastern_europe',\n",
       " 're_finland',\n",
       " 're_france',\n",
       " 're_german_world',\n",
       " 're_germany',\n",
       " 're_greece',\n",
       " 're_greek_world',\n",
       " 're_iceland',\n",
       " 're_indian_world',\n",
       " 're_ireland',\n",
       " 're_italy',\n",
       " 're_japan',\n",
       " 're_korea',\n",
       " 're_latin',\n",
       " 're_low_countries',\n",
       " 're_mediterreanean',\n",
       " 're_muslim_world',\n",
       " 're_netherlands',\n",
       " 're_nordic_countries',\n",
       " 're_north_china',\n",
       " 're_north_france',\n",
       " 're_north_india',\n",
       " 're_north_italy',\n",
       " 're_north_japan',\n",
       " 're_northwestern_europe',\n",
       " 're_norway',\n",
       " 're_ottoman_turkey',\n",
       " 're_ottoman_world',\n",
       " 're_persian_world',\n",
       " 're_portugal',\n",
       " 're_slav_world',\n",
       " 're_south_china',\n",
       " 're_south_east_asia',\n",
       " 're_south_france',\n",
       " 're_south_india',\n",
       " 're_south_italy',\n",
       " 're_south_japan',\n",
       " 're_southwestern_europe',\n",
       " 're_spain',\n",
       " 're_sweden',\n",
       " 're_switzerland',\n",
       " 're_united_kingdom',\n",
       " 're_western_europe',\n",
       " 're_yangtze'}"
      ]
     },
     "execution_count": 12,
     "metadata": {},
     "output_type": "execute_result"
    }
   ],
   "source": [
    "set(df_ind_regions.region_code)"
   ]
  },
  {
   "cell_type": "code",
   "execution_count": 13,
   "metadata": {},
   "outputs": [
    {
     "name": "stdout",
     "output_type": "stream",
     "text": [
      "657\n"
     ]
    }
   ],
   "source": [
    "df_ind_regions_antiquity = df_ind_regions[df_ind_regions[\"region_code\"].isin(['re_greek_world', 're_latin'])]\n",
    "df_temporal_antiquity = df_temporal[df_temporal[\"birthyear\"] <= 500]\n",
    "\n",
    "df_antiquity = pd.merge(df_ind_regions_antiquity, df_temporal_antiquity, on = 'wikidata_id')\n",
    "df_antiquity = df_antiquity.drop_duplicates('wikidata_id', keep='first')\n",
    "df_antiquity = pd.merge(df_antiquity, df_occupation, on = 'wikidata_id')\n",
    "df_antiquity.to_csv(data_path + '/antiquity.csv')\n",
    "\n",
    "print(len(set(df_antiquity.wikidata_id)))"
   ]
  },
  {
   "cell_type": "code",
   "execution_count": 14,
   "metadata": {},
   "outputs": [
    {
     "name": "stdout",
     "output_type": "stream",
     "text": [
      "2370\n",
      "2916\n"
     ]
    }
   ],
   "source": [
    "regions_non_europe = ['re_ottoman_turkey',\n",
    "'re_arabic_world',\n",
    "'re_persian_world',\n",
    "'re_indian_world',\n",
    "'re_chinese_world',\n",
    "'re_korea',\n",
    "'re_japan',\n",
    "'re_south_east_asia']\n",
    "\n",
    "df_ind_regions_non_europe = df_ind_regions[df_ind_regions[\"region_code\"].isin(regions_non_europe)]\n",
    "\n",
    "# starting from 500\n",
    "#df_temporal_europe = df_temporal[df_temporal[\"birthyear\"] > 500]\n",
    "\n",
    "df_non_europe = pd.merge(df_ind_regions_non_europe, df_temporal, on = 'wikidata_id')\n",
    "df_non_europe = pd.merge(df_non_europe, df_occupation, on = 'wikidata_id')\n",
    "print(len(set(df_non_europe.wikidata_id)))\n",
    "\n",
    "df_arabs = df_non_europe[df_non_europe['region_code']=='re_arabic_world']\n",
    "df_arabs = df_arabs[df_arabs['birthyear']>500]\n",
    "\n",
    "df_non_europe = df_non_europe[df_non_europe['region_code'] !='re_arabic_world']\n",
    "df_non_europe = pd.concat([df_non_europe, df_arabs])\n",
    "df_non_europe = df_non_europe.reset_index(drop=True)\n",
    "\n",
    "\n",
    "df_non_europe = pd.concat([df_antiquity, df_non_europe])\n",
    "df_non_europe = df_non_europe.reset_index(drop=True)\n",
    "print(len(set(df_non_europe.wikidata_id)))\n",
    "\n",
    "df_non_europe.to_csv(data_path + '/non_europe.csv')"
   ]
  },
  {
   "cell_type": "code",
   "execution_count": 15,
   "metadata": {},
   "outputs": [],
   "source": [
    "df_antiquity['meta_region'] = 'antiquity'\n",
    "df_europe['meta_region'] = 'europe'\n",
    "df_non_europe['meta_region'] = 'non_europe'"
   ]
  },
  {
   "cell_type": "code",
   "execution_count": 16,
   "metadata": {},
   "outputs": [],
   "source": [
    "df_global = pd.concat([df_antiquity, df_europe, df_non_europe])\n",
    "df_global.to_csv('../networks/data/global.csv')\n",
    "\n",
    "df_global_before_1500 = df_global[df_global['birthyear']<=1500]\n",
    "df_global_before_1500 = df_global_before_1500.drop_duplicates()\n",
    "df_global_before_1500.to_csv(data_path + '/global_before_1500.csv')\n",
    "\n",
    "df_global_after_1500 = df_global[df_global['birthyear']>1500]\n",
    "df_global_after_1500.to_csv(data_path + '/global_after_1500.csv')\n",
    "\n",
    "df_global_before_1700 = df_global[df_global['birthyear']<=1700]\n",
    "df_global_before_1700 = df_global_before_1700.drop_duplicates()\n",
    "df_global_before_1700.to_csv(data_path + '/global_before_1700.csv')"
   ]
  },
  {
   "cell_type": "code",
   "execution_count": 18,
   "metadata": {},
   "outputs": [
    {
     "data": {
      "text/plain": [
       "13556"
      ]
     },
     "execution_count": 18,
     "metadata": {},
     "output_type": "execute_result"
    }
   ],
   "source": [
    "len(set(df_global_before_1700.wikidata_id))"
   ]
  },
  {
   "cell_type": "code",
   "execution_count": 19,
   "metadata": {},
   "outputs": [
    {
     "name": "stdout",
     "output_type": "stream",
     "text": [
      "1032\n"
     ]
    },
    {
     "data": {
      "text/plain": [
       "re_korea              100\n",
       "re_persian_world      100\n",
       "re_indian_world       100\n",
       "re_latin              100\n",
       "re_japan              100\n",
       "re_europe             100\n",
       "re_arabic_world       100\n",
       "re_greek_world        100\n",
       "re_chinese_world      100\n",
       "re_south_east_asia     94\n",
       "re_ottoman_turkey      53\n",
       "Name: region, dtype: int64"
      ]
     },
     "execution_count": 19,
     "metadata": {},
     "output_type": "execute_result"
    }
   ],
   "source": [
    "df_global['region'] = df_global['region_code']\n",
    "df_global['region'][df_global['region_code'].isin(regions_europe)] = 're_europe'\n",
    "\n",
    "final = []\n",
    "for region in list(set(df_global['region'])):\n",
    "    df_sample = df_global[df_global[\"region\"] == region]\n",
    "    individual_sample = 100\n",
    "\n",
    "    if len(df_sample) > individual_sample:\n",
    "        res = df_sample.sample(individual_sample, random_state=41)\n",
    "    else:\n",
    "        res = df_sample.copy()\n",
    "\n",
    "    final.append(res)\n",
    "\n",
    "df_fin = pd.concat([x for x in final])\n",
    "df_fin = df_fin.reset_index(drop=True)\n",
    "\n",
    "print(len(set(df_fin.wikidata_id)))\n",
    "df_fin.to_csv(data_path + '/global_weighted.csv')\n",
    "\n",
    "df_fin.region.value_counts()"
   ]
  },
  {
   "cell_type": "code",
   "execution_count": 20,
   "metadata": {},
   "outputs": [],
   "source": [
    "df_non_europe_before_1700 = df_non_europe[df_non_europe['birthyear']<=1700]\n",
    "df_non_europe_before_1700.to_csv(data_path + '/non_europe_before_1700.csv')\n",
    "\n",
    "df_europe_before_1700 = df_europe[df_europe['birthyear']<=1700]\n",
    "df_europe_before_1700.to_csv(data_path + '/europe_before_1700.csv')\n",
    "\n",
    "len_non_europe = len(df_non_europe_before_1700)"
   ]
  },
  {
   "cell_type": "markdown",
   "metadata": {},
   "source": [
    "### Weighted Data"
   ]
  },
  {
   "cell_type": "code",
   "execution_count": 21,
   "metadata": {},
   "outputs": [
    {
     "name": "stderr",
     "output_type": "stream",
     "text": [
      "  0%|          | 0/100 [00:00<?, ?it/s]"
     ]
    },
    {
     "name": "stderr",
     "output_type": "stream",
     "text": [
      "100%|██████████| 100/100 [00:01<00:00, 71.93it/s]\n"
     ]
    },
    {
     "data": {
      "text/html": [
       "<div>\n",
       "<style scoped>\n",
       "    .dataframe tbody tr th:only-of-type {\n",
       "        vertical-align: middle;\n",
       "    }\n",
       "\n",
       "    .dataframe tbody tr th {\n",
       "        vertical-align: top;\n",
       "    }\n",
       "\n",
       "    .dataframe thead th {\n",
       "        text-align: right;\n",
       "    }\n",
       "</style>\n",
       "<table border=\"1\" class=\"dataframe\">\n",
       "  <thead>\n",
       "    <tr style=\"text-align: right;\">\n",
       "      <th></th>\n",
       "      <th>wikidata_id</th>\n",
       "      <th>individual_name</th>\n",
       "      <th>region_code</th>\n",
       "      <th>region_name</th>\n",
       "      <th>birthyear</th>\n",
       "      <th>meta_occupation</th>\n",
       "      <th>meta_region</th>\n",
       "    </tr>\n",
       "  </thead>\n",
       "  <tbody>\n",
       "    <tr>\n",
       "      <th>0</th>\n",
       "      <td>Q316119</td>\n",
       "      <td>Gnaeus Pompeius Trogus</td>\n",
       "      <td>re_latin</td>\n",
       "      <td>Latin World</td>\n",
       "      <td>-100.0</td>\n",
       "      <td>historian</td>\n",
       "      <td>non_europe</td>\n",
       "    </tr>\n",
       "    <tr>\n",
       "      <th>1</th>\n",
       "      <td>Q782074</td>\n",
       "      <td>Claudianus Mamertus</td>\n",
       "      <td>re_latin</td>\n",
       "      <td>Latin World</td>\n",
       "      <td>420.0</td>\n",
       "      <td>theologian | philosopher</td>\n",
       "      <td>non_europe</td>\n",
       "    </tr>\n",
       "    <tr>\n",
       "      <th>2</th>\n",
       "      <td>Q182123</td>\n",
       "      <td>Irenaeus</td>\n",
       "      <td>re_latin</td>\n",
       "      <td>Latin World</td>\n",
       "      <td>130.0</td>\n",
       "      <td>theologian | philosopher</td>\n",
       "      <td>non_europe</td>\n",
       "    </tr>\n",
       "    <tr>\n",
       "      <th>3</th>\n",
       "      <td>Q44344</td>\n",
       "      <td>Hilary of Poitiers</td>\n",
       "      <td>re_latin</td>\n",
       "      <td>Latin World</td>\n",
       "      <td>315.0</td>\n",
       "      <td>theologian | philosopher</td>\n",
       "      <td>non_europe</td>\n",
       "    </tr>\n",
       "    <tr>\n",
       "      <th>4</th>\n",
       "      <td>Q1430</td>\n",
       "      <td>Marcus Aurelius</td>\n",
       "      <td>re_latin</td>\n",
       "      <td>Latin World</td>\n",
       "      <td>121.0</td>\n",
       "      <td>philosopher</td>\n",
       "      <td>non_europe</td>\n",
       "    </tr>\n",
       "    <tr>\n",
       "      <th>...</th>\n",
       "      <td>...</td>\n",
       "      <td>...</td>\n",
       "      <td>...</td>\n",
       "      <td>...</td>\n",
       "      <td>...</td>\n",
       "      <td>...</td>\n",
       "      <td>...</td>\n",
       "    </tr>\n",
       "    <tr>\n",
       "      <th>4339</th>\n",
       "      <td>Q2857161</td>\n",
       "      <td>Antonino Diana</td>\n",
       "      <td>re_italy</td>\n",
       "      <td>Italy</td>\n",
       "      <td>1586.0</td>\n",
       "      <td>theologian</td>\n",
       "      <td>europe</td>\n",
       "    </tr>\n",
       "    <tr>\n",
       "      <th>4340</th>\n",
       "      <td>Q247826</td>\n",
       "      <td>Abraham Heidanus</td>\n",
       "      <td>re_low_countries</td>\n",
       "      <td>Low countries</td>\n",
       "      <td>1597.0</td>\n",
       "      <td>theologian</td>\n",
       "      <td>europe</td>\n",
       "    </tr>\n",
       "    <tr>\n",
       "      <th>4341</th>\n",
       "      <td>Q347726</td>\n",
       "      <td>Hans Tausen</td>\n",
       "      <td>re_nordic_countries</td>\n",
       "      <td>Nordic countries</td>\n",
       "      <td>1494.0</td>\n",
       "      <td>theologian | linguist</td>\n",
       "      <td>europe</td>\n",
       "    </tr>\n",
       "    <tr>\n",
       "      <th>4342</th>\n",
       "      <td>Q1664515</td>\n",
       "      <td>Nikolaus Elgard</td>\n",
       "      <td>re_german_world</td>\n",
       "      <td>German world</td>\n",
       "      <td>1547.0</td>\n",
       "      <td>theologian</td>\n",
       "      <td>europe</td>\n",
       "    </tr>\n",
       "    <tr>\n",
       "      <th>4343</th>\n",
       "      <td>Q1782796</td>\n",
       "      <td>Constantin Ziegra</td>\n",
       "      <td>re_german_world</td>\n",
       "      <td>German world</td>\n",
       "      <td>1617.0</td>\n",
       "      <td>theologian</td>\n",
       "      <td>europe</td>\n",
       "    </tr>\n",
       "  </tbody>\n",
       "</table>\n",
       "<p>4344 rows × 7 columns</p>\n",
       "</div>"
      ],
      "text/plain": [
       "     wikidata_id         individual_name          region_code  \\\n",
       "0        Q316119  Gnaeus Pompeius Trogus             re_latin   \n",
       "1        Q782074     Claudianus Mamertus             re_latin   \n",
       "2        Q182123                Irenaeus             re_latin   \n",
       "3         Q44344      Hilary of Poitiers             re_latin   \n",
       "4          Q1430         Marcus Aurelius             re_latin   \n",
       "...          ...                     ...                  ...   \n",
       "4339    Q2857161          Antonino Diana             re_italy   \n",
       "4340     Q247826        Abraham Heidanus     re_low_countries   \n",
       "4341     Q347726             Hans Tausen  re_nordic_countries   \n",
       "4342    Q1664515         Nikolaus Elgard      re_german_world   \n",
       "4343    Q1782796       Constantin Ziegra      re_german_world   \n",
       "\n",
       "           region_name  birthyear           meta_occupation meta_region  \n",
       "0          Latin World     -100.0                 historian  non_europe  \n",
       "1          Latin World      420.0  theologian | philosopher  non_europe  \n",
       "2          Latin World      130.0  theologian | philosopher  non_europe  \n",
       "3          Latin World      315.0  theologian | philosopher  non_europe  \n",
       "4          Latin World      121.0               philosopher  non_europe  \n",
       "...                ...        ...                       ...         ...  \n",
       "4339             Italy     1586.0                theologian      europe  \n",
       "4340     Low countries     1597.0                theologian      europe  \n",
       "4341  Nordic countries     1494.0     theologian | linguist      europe  \n",
       "4342      German world     1547.0                theologian      europe  \n",
       "4343      German world     1617.0                theologian      europe  \n",
       "\n",
       "[4344 rows x 7 columns]"
      ]
     },
     "execution_count": 21,
     "metadata": {},
     "output_type": "execute_result"
    }
   ],
   "source": [
    "from tqdm import tqdm\n",
    "for x in tqdm(range(100)):\n",
    "    df_weighted = pd.concat([df_non_europe_before_1700, df_europe_before_1700.sample(len_non_europe, random_state=x)])\n",
    "    df_weighted = df_weighted.reset_index(drop=True)\n",
    "    df_weighted.to_csv(data_path + f'/weighted/df_{x}.csv')\n",
    "\n",
    "df_weighted\n"
   ]
  }
 ],
 "metadata": {
  "kernelspec": {
   "display_name": "market_use_cases-Q45SxFKl-py3.8",
   "language": "python",
   "name": "python3"
  },
  "language_info": {
   "codemirror_mode": {
    "name": "ipython",
    "version": 3
   },
   "file_extension": ".py",
   "mimetype": "text/x-python",
   "name": "python",
   "nbconvert_exporter": "python",
   "pygments_lexer": "ipython3",
   "version": "3.8.18"
  }
 },
 "nbformat": 4,
 "nbformat_minor": 2
}
