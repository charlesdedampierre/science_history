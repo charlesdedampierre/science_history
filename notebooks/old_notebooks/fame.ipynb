{
 "cells": [
  {
   "cell_type": "markdown",
   "id": "fe9c3bd6-cf41-4e4d-8734-d8d045969b99",
   "metadata": {},
   "source": [
    "FInd if individuals with only one occupations are less famous that individuials with a least two occupations"
   ]
  },
  {
   "cell_type": "code",
   "execution_count": 1,
   "id": "6b44fe64-19f0-4439-a410-61d16dad246f",
   "metadata": {
    "tags": []
   },
   "outputs": [],
   "source": [
    "import sys\n",
    "import sqlite3\n",
    "\n",
    "sys.path.append('../src')\n",
    "import pandas as pd"
   ]
  },
  {
   "cell_type": "code",
   "execution_count": 2,
   "id": "61f4ed9c-dd80-4330-b332-56c15a88dead",
   "metadata": {
    "tags": []
   },
   "outputs": [],
   "source": [
    "from functions.env import GRAPH_RESULTS, DB_SCIENCE_PATH\n",
    "\n",
    "conn = sqlite3.connect(DB_SCIENCE_PATH)\n",
    "\n",
    "df = pd.read_sql(\"SELECT * FROM individual_id_cleaned_occupations\", conn)"
   ]
  },
  {
   "cell_type": "code",
   "execution_count": 3,
   "id": "a2cf56d4-1368-45ce-acab-cf591cf88d9c",
   "metadata": {
    "tags": []
   },
   "outputs": [],
   "source": [
    "### Add the number of ids"
   ]
  },
  {
   "cell_type": "code",
   "execution_count": 4,
   "id": "c5493c81-f648-4efc-bbcd-f353868024a3",
   "metadata": {
    "tags": []
   },
   "outputs": [],
   "source": [
    "import os\n",
    "conn_full_db = sqlite3.connect(os.getenv(\"FULL_DB_PATH\"))"
   ]
  },
  {
   "cell_type": "code",
   "execution_count": 5,
   "id": "34483623-50aa-42ed-b836-eeb60e20d382",
   "metadata": {
    "tags": []
   },
   "outputs": [],
   "source": [
    "conn_2 = sqlite3.connect(DB_SCIENCE_PATH)"
   ]
  },
  {
   "cell_type": "code",
   "execution_count": 6,
   "id": "2e884713-03f6-47e5-8051-975c5a8020be",
   "metadata": {
    "tags": []
   },
   "outputs": [],
   "source": [
    "df_identifiers = pd.read_sql(\"SELECT * FROM individual_identifiers\", conn_full_db)\n",
    "df_identifiers = df_identifiers.groupby('individual_wikidata_id')['identifiers_wikidata_id'].count().reset_index()"
   ]
  },
  {
   "cell_type": "code",
   "execution_count": 7,
   "id": "ee61a3aa-4b0a-46c4-a44e-a47bd9c64bf9",
   "metadata": {
    "tags": []
   },
   "outputs": [],
   "source": [
    "df_identifiers.columns = ['wikidata_id', 'score']"
   ]
  },
  {
   "cell_type": "code",
   "execution_count": 8,
   "id": "8d77f43f-37a2-402c-9005-41058300f95d",
   "metadata": {
    "tags": []
   },
   "outputs": [],
   "source": [
    "df_final = pd.merge(df_identifiers, df, on = 'wikidata_id')\n",
    "df_final = df_final.groupby(['wikidata_id', 'score'])['meta_occupation'].count().reset_index()"
   ]
  },
  {
   "cell_type": "code",
   "execution_count": 9,
   "id": "0822e8c3-587f-41ad-a5be-6c8300543f9a",
   "metadata": {
    "tags": []
   },
   "outputs": [
    {
     "data": {
      "text/plain": [
       "31.635071090047393"
      ]
     },
     "execution_count": 9,
     "metadata": {},
     "output_type": "execute_result"
    }
   ],
   "source": [
    "df_final[df_final['meta_occupation']>1].score.mean()"
   ]
  },
  {
   "cell_type": "code",
   "execution_count": 10,
   "id": "9f20a8d9-f4a0-422e-82f7-8f99cd819561",
   "metadata": {
    "tags": []
   },
   "outputs": [
    {
     "data": {
      "text/plain": [
       "17.838905775075986"
      ]
     },
     "execution_count": 10,
     "metadata": {},
     "output_type": "execute_result"
    }
   ],
   "source": [
    "df_final[df_final['meta_occupation']==1].score.mean()"
   ]
  },
  {
   "cell_type": "code",
   "execution_count": 11,
   "id": "deff9861-814f-4509-976f-316b63cdd37d",
   "metadata": {
    "tags": []
   },
   "outputs": [
    {
     "data": {
      "text/plain": [
       "21675"
      ]
     },
     "execution_count": 11,
     "metadata": {},
     "output_type": "execute_result"
    }
   ],
   "source": [
    "df_final.to_sql(\"individual_score\", conn, if_exists=\"replace\", index=False)"
   ]
  },
  {
   "cell_type": "code",
   "execution_count": null,
   "id": "f902df4b-09fd-402e-9155-b630e6e8fe43",
   "metadata": {},
   "outputs": [],
   "source": []
  }
 ],
 "metadata": {
  "kernelspec": {
   "display_name": "Python 3 (ipykernel)",
   "language": "python",
   "name": "python3"
  },
  "language_info": {
   "codemirror_mode": {
    "name": "ipython",
    "version": 3
   },
   "file_extension": ".py",
   "mimetype": "text/x-python",
   "name": "python",
   "nbconvert_exporter": "python",
   "pygments_lexer": "ipython3",
   "version": "3.8.18"
  }
 },
 "nbformat": 4,
 "nbformat_minor": 5
}
