{
 "cells": [
  {
   "cell_type": "code",
   "execution_count": 50,
   "id": "3527c837-51be-4323-9df9-06df8cc38b02",
   "metadata": {
    "tags": []
   },
   "outputs": [],
   "source": [
    "import sys\n",
    "\n",
    "sys.path.append(\"../\")\n",
    "sys.path.append(\"../networks\")\n",
    "\n",
    "import sqlite3\n",
    "\n",
    "import pandas as pd\n",
    "import polars as pl\n",
    "\n",
    "from functions.datamodel import OptimumParameter\n",
    "from functions.env import DB_SCIENCE_PATH, FULL_DB_PATH, GRAPH_RESULTS\n",
    "from functions.feat_network import filter_edge_table, get_edge_node_table\n",
    "from functions.feat_visualization import sygma_graph, sygma_graph_2\n",
    "\n",
    "conn_full_db = sqlite3.connect(FULL_DB_PATH)\n",
    "conn = sqlite3.connect(DB_SCIENCE_PATH)\n",
    "\n",
    "# optimal_parameters = pd.read_sql(\"SELECT * FROM optimization_100\", conn)\n",
    "optimal_parameters = pd.read_sql(\"SELECT * FROM optimization_europe\", conn)\n",
    "\n",
    "optimal_parameters = optimal_parameters.sort_values(\"mean\", ascending=False)\n",
    "dict_op = optimal_parameters.iloc[0].to_dict()\n",
    "dict_op = OptimumParameter(**dict_op)\n",
    "\n",
    "\n",
    "from optimal_clustering import optimal_clustering\n",
    "\n",
    "dict_op = optimal_clustering\n",
    "dict_op = OptimumParameter(**dict_op)\n",
    "\n",
    "\n",
    "from region_filters import columns_eu"
   ]
  },
  {
   "cell_type": "code",
   "execution_count": 51,
   "id": "b5e4c552-2b47-46aa-a96a-3d0c1ebc5b65",
   "metadata": {
    "tags": []
   },
   "outputs": [
    {
     "name": "stdout",
     "output_type": "stream",
     "text": [
      "1099\n"
     ]
    }
   ],
   "source": [
    "from region_filters import columns_non_eu\n",
    "\n",
    "df_ind_regions = pd.read_sql_query(\n",
    "    \"SELECT * FROM individuals_regions\", conn_full_db\n",
    ")\n",
    "df_ind_regions = df_ind_regions.rename(\n",
    "    columns={\"individual_wikidata_id\": \"wikidata_id\"}\n",
    ")\n",
    "\n",
    "df_ind_regions = df_ind_regions[df_ind_regions[\"region_code\"].isin(columns_non_eu)]\n",
    "\n",
    "df_occupation = pd.read_sql(\"SELECT * FROM individual_id_cleaned_occupations\", conn)\n",
    "df_occupation.columns = [\"source\", \"target\"]\n",
    "df_occupation[\"weight\"] = 1\n",
    "\n",
    "wiki_ids = list(set(df_ind_regions[\"wikidata_id\"]))\n",
    "df = df_occupation[df_occupation[\"source\"].isin(wiki_ids)]\n",
    "df = df.drop_duplicates()\n",
    "print(len(df))"
   ]
  },
  {
   "cell_type": "code",
   "execution_count": 52,
   "id": "a658c703-d390-4be9-b08e-47330cfb6c0f",
   "metadata": {
    "tags": []
   },
   "outputs": [
    {
     "name": "stdout",
     "output_type": "stream",
     "text": [
      "3881\n"
     ]
    }
   ],
   "source": [
    "df_occupation = pd.read_sql(\"SELECT * FROM individual_id_cleaned_occupations\", conn)\n",
    "\n",
    "df_temporal = pd.read_sql(\"SELECT * FROM temporal_data\", conn)\n",
    "df_temporal = df_temporal[df_temporal[\"region_code\"].isin(columns_eu)]\n",
    "df_temporal = df_temporal[[\"wikidata_id\", \"birthyear\"]]\n",
    "df_temporal = df_temporal[df_temporal[\"birthyear\"] <= 1700]\n",
    "print(len(set(df_temporal.wikidata_id)))\n",
    "\n",
    "df = pd.merge(df_occupation, df_temporal, on=\"wikidata_id\")\n",
    "df = df.drop(\"birthyear\", axis=1)\n",
    "df = df.drop_duplicates()\n",
    "\n",
    "df.columns = [\"source\", \"target\"]\n",
    "df[\"weight\"] = 1\n"
   ]
  },
  {
   "cell_type": "code",
   "execution_count": null,
   "id": "78c3deb1-7fa2-4ba2-8e5a-4b7fdfc45e9c",
   "metadata": {},
   "outputs": [],
   "source": []
  },
  {
   "cell_type": "code",
   "execution_count": null,
   "id": "37404568-5a5f-4423-ba74-ab133cf07f1a",
   "metadata": {
    "tags": []
   },
   "outputs": [],
   "source": []
  },
  {
   "cell_type": "code",
   "execution_count": null,
   "id": "5439a1e7-32f7-4dd0-8584-db53002cc2af",
   "metadata": {},
   "outputs": [],
   "source": []
  },
  {
   "cell_type": "code",
   "execution_count": 53,
   "id": "34f54bc4-64c8-45f4-a635-604c9ce6e630",
   "metadata": {
    "tags": []
   },
   "outputs": [],
   "source": [
    "df = pl.from_pandas(df)\n",
    "df_edge, df_nodes = get_edge_node_table(df, sample = len(df))"
   ]
  },
  {
   "cell_type": "code",
   "execution_count": 54,
   "id": "8bff0c3c-173f-4ab3-8668-7808ca26acc3",
   "metadata": {
    "tags": []
   },
   "outputs": [],
   "source": [
    "dict_op.n_neighbours = 3"
   ]
  },
  {
   "cell_type": "code",
   "execution_count": 63,
   "id": "8b078a16-aeb3-49bd-8498-32a2c15d87b4",
   "metadata": {
    "tags": []
   },
   "outputs": [],
   "source": [
    "#df_edge[df_edge['source']=='epidemiologist']"
   ]
  },
  {
   "cell_type": "code",
   "execution_count": null,
   "id": "1add7690-c499-46df-86b8-a8cf079aa914",
   "metadata": {},
   "outputs": [],
   "source": []
  },
  {
   "cell_type": "code",
   "execution_count": null,
   "id": "6b2881be-2875-4d20-835e-dd7aba933888",
   "metadata": {},
   "outputs": [],
   "source": [
    "threshold_percentage = 10\n",
    "max_weight = df['weight'].max()\n",
    "threshold_value = (threshold_percentage / 100) * max_weight\n",
    "\n",
    "# Filter edges based on the threshold\n",
    "filtered_edges = df[df['weight'] > threshold_value]"
   ]
  },
  {
   "cell_type": "code",
   "execution_count": null,
   "id": "b63de3fe-b7e6-490b-8fd1-745a3188c2e1",
   "metadata": {},
   "outputs": [],
   "source": []
  },
  {
   "cell_type": "markdown",
   "id": "7f545df2-1b1f-4f76-855b-b1f3fc41bd3d",
   "metadata": {
    "tags": []
   },
   "source": [
    "df_edge_filter = filter_edge_table(\n",
    "    df_edge,\n",
    "    edge_rule='count',\n",
    "    top_directed_neighbours=dict_op.n_neighbours,\n",
    "    normalize_on_top=False,\n",
    "    min_count_link=dict_op.min_count_link,\n",
    ")"
   ]
  },
  {
   "cell_type": "code",
   "execution_count": null,
   "id": "c32cb92c-fe2e-4e97-aaa8-3584d0ebc14b",
   "metadata": {},
   "outputs": [],
   "source": []
  },
  {
   "cell_type": "code",
   "execution_count": null,
   "id": "1203fcfd-ffd3-4f5e-b768-975c28e94279",
   "metadata": {},
   "outputs": [],
   "source": []
  },
  {
   "cell_type": "raw",
   "id": "989e1780-701a-49d2-b467-5ca1f6ca5703",
   "metadata": {},
   "source": [
    "The 10% threshold strikes a balance between retaining a sufficient number of edges for a robust analysis and filtering out edges that may contribute less to the overall structure of the network. This decision is supported by the observation that edge weights in our dataset exhibit a right-skewed distribution, with a clear concentration of strong connections at the higher end. By applying a percentage-based threshold, we aim to capture the core relationships that are likely to be most informative for our specific research objectives."
   ]
  },
  {
   "cell_type": "raw",
   "id": "51798ea5-c3f1-4f96-91e6-63e685a043d4",
   "metadata": {},
   "source": [
    "Our research aims to investigate local interactions and their impact on the dynamics of the network. By considering only the 3 closest neighbors, we place emphasis on immediate connections, which are often more influential in local processes and information flow. This choice aligns with our objective of understanding the local structure of the network and how it contributes to overall network behavior."
   ]
  },
  {
   "cell_type": "raw",
   "id": "447a8bbe-b885-4b62-8c38-1a83d4ba8ee3",
   "metadata": {},
   "source": [
    "In many real-world networks, distant connections may introduce noise or less relevant information. Focusing on the 3 closest neighbors helps mitigate the impact of potentially noisy connections, ensuring that our analysis is driven by the most immediate and impactful interactions. This noise reduction enhances the interpretability of our findings."
   ]
  },
  {
   "cell_type": "code",
   "execution_count": null,
   "id": "6d260c79-472c-47ac-88ba-8ea252e48319",
   "metadata": {},
   "outputs": [],
   "source": []
  },
  {
   "cell_type": "code",
   "execution_count": null,
   "id": "d633267d-1ed2-44b3-aff2-740d9df00722",
   "metadata": {},
   "outputs": [],
   "source": []
  },
  {
   "cell_type": "code",
   "execution_count": null,
   "id": "5f0156d5-0bdf-4cff-a938-34e8c3c353e0",
   "metadata": {},
   "outputs": [],
   "source": [
    "max(df_edge.weight"
   ]
  },
  {
   "cell_type": "code",
   "execution_count": 58,
   "id": "18cfbbce-3151-44ce-afd4-313de99ca5ff",
   "metadata": {
    "tags": []
   },
   "outputs": [
    {
     "data": {
      "text/html": [
       "<div>\n",
       "<style scoped>\n",
       "    .dataframe tbody tr th:only-of-type {\n",
       "        vertical-align: middle;\n",
       "    }\n",
       "\n",
       "    .dataframe tbody tr th {\n",
       "        vertical-align: top;\n",
       "    }\n",
       "\n",
       "    .dataframe thead th {\n",
       "        text-align: right;\n",
       "    }\n",
       "</style>\n",
       "<table border=\"1\" class=\"dataframe\">\n",
       "  <thead>\n",
       "    <tr style=\"text-align: right;\">\n",
       "      <th></th>\n",
       "      <th>source</th>\n",
       "      <th>target</th>\n",
       "      <th>weight</th>\n",
       "    </tr>\n",
       "  </thead>\n",
       "  <tbody>\n",
       "    <tr>\n",
       "      <th>0</th>\n",
       "      <td>zoologist</td>\n",
       "      <td>botanist</td>\n",
       "      <td>53</td>\n",
       "    </tr>\n",
       "    <tr>\n",
       "      <th>1</th>\n",
       "      <td>zoologist</td>\n",
       "      <td>historian</td>\n",
       "      <td>23</td>\n",
       "    </tr>\n",
       "    <tr>\n",
       "      <th>2</th>\n",
       "      <td>zoologist</td>\n",
       "      <td>mathematician</td>\n",
       "      <td>22</td>\n",
       "    </tr>\n",
       "    <tr>\n",
       "      <th>3</th>\n",
       "      <td>zoologist</td>\n",
       "      <td>philosopher</td>\n",
       "      <td>20</td>\n",
       "    </tr>\n",
       "    <tr>\n",
       "      <th>4</th>\n",
       "      <td>zoologist</td>\n",
       "      <td>physicist</td>\n",
       "      <td>18</td>\n",
       "    </tr>\n",
       "    <tr>\n",
       "      <th>...</th>\n",
       "      <td>...</td>\n",
       "      <td>...</td>\n",
       "      <td>...</td>\n",
       "    </tr>\n",
       "    <tr>\n",
       "      <th>369</th>\n",
       "      <td>anatomist</td>\n",
       "      <td>archeologist</td>\n",
       "      <td>6</td>\n",
       "    </tr>\n",
       "    <tr>\n",
       "      <th>370</th>\n",
       "      <td>anatomist</td>\n",
       "      <td>geologist</td>\n",
       "      <td>6</td>\n",
       "    </tr>\n",
       "    <tr>\n",
       "      <th>371</th>\n",
       "      <td>anatomist</td>\n",
       "      <td>geographer</td>\n",
       "      <td>4</td>\n",
       "    </tr>\n",
       "    <tr>\n",
       "      <th>372</th>\n",
       "      <td>anatomist</td>\n",
       "      <td>musicologist</td>\n",
       "      <td>2</td>\n",
       "    </tr>\n",
       "    <tr>\n",
       "      <th>373</th>\n",
       "      <td>anatomist</td>\n",
       "      <td>linguist</td>\n",
       "      <td>2</td>\n",
       "    </tr>\n",
       "  </tbody>\n",
       "</table>\n",
       "<p>318 rows × 3 columns</p>\n",
       "</div>"
      ],
      "text/plain": [
       "        source         target  weight\n",
       "0    zoologist       botanist      53\n",
       "1    zoologist      historian      23\n",
       "2    zoologist  mathematician      22\n",
       "3    zoologist    philosopher      20\n",
       "4    zoologist      physicist      18\n",
       "..         ...            ...     ...\n",
       "369  anatomist   archeologist       6\n",
       "370  anatomist      geologist       6\n",
       "371  anatomist     geographer       4\n",
       "372  anatomist   musicologist       2\n",
       "373  anatomist       linguist       2\n",
       "\n",
       "[318 rows x 3 columns]"
      ]
     },
     "execution_count": 58,
     "metadata": {},
     "output_type": "execute_result"
    }
   ],
   "source": [
    "df_edge[df_edge['weight']>1][['source', 'target', 'weight']]"
   ]
  },
  {
   "cell_type": "code",
   "execution_count": null,
   "id": "ef413f15-e89f-448e-9b6e-dc188088e9e8",
   "metadata": {},
   "outputs": [],
   "source": []
  },
  {
   "cell_type": "code",
   "execution_count": null,
   "id": "0a1af48c-9055-44e1-8311-69e54e871d52",
   "metadata": {},
   "outputs": [],
   "source": [
    ", you might decide to keep edges with weights above 10% of the maximum weight."
   ]
  },
  {
   "cell_type": "code",
   "execution_count": null,
   "id": "ca63f55e-3c3f-47d9-a230-bd15085f432c",
   "metadata": {
    "tags": []
   },
   "outputs": [],
   "source": []
  },
  {
   "cell_type": "code",
   "execution_count": 7,
   "id": "58353c74-aeb2-4a69-b35b-43947fb1d812",
   "metadata": {
    "tags": []
   },
   "outputs": [],
   "source": [
    "import community.community_louvain as community\n",
    "import networkx as nx\n",
    "import numpy as np\n",
    "import pandas as pd\n",
    "from ipysigma import Sigma\n",
    "from sklearn.preprocessing import MinMaxScaler\n"
   ]
  },
  {
   "cell_type": "code",
   "execution_count": 8,
   "id": "2b3dba07-e61c-4645-bf70-2c07aa675a0b",
   "metadata": {
    "tags": []
   },
   "outputs": [],
   "source": [
    "edge_bins = 10\n",
    "node_bins = 10\n",
    "resolution = 1\n",
    "filepath=GRAPH_RESULTS + \"/non_europe.html\""
   ]
  },
  {
   "cell_type": "code",
   "execution_count": 9,
   "id": "372fbe46-52a8-4802-9f34-eff1c84b9ba0",
   "metadata": {
    "tags": []
   },
   "outputs": [],
   "source": [
    "df_edges = df_edge_filter.copy()\n",
    "\n",
    "df_edges[\"weight\"] = pd.qcut(\n",
    "    df_edges[\"weight\"].rank(method=\"first\"), edge_bins, np.arange(1, edge_bins + 1)\n",
    ").astype(int)\n",
    "df_edges = df_edges[[\"source\", \"target\", \"weight\"]].reset_index(drop=True)\n",
    "\n",
    "# Create Graph Object\n",
    "g = nx.from_pandas_edgelist(\n",
    "    df_edges, source=\"source\", target=\"target\", edge_attr=\"weight\"\n",
    ")"
   ]
  },
  {
   "cell_type": "code",
   "execution_count": 14,
   "id": "7aaa4aac-6afe-4746-8f0f-572bd9246054",
   "metadata": {
    "tags": []
   },
   "outputs": [],
   "source": [
    "from igraph import Graph"
   ]
  },
  {
   "cell_type": "code",
   "execution_count": 15,
   "id": "a6240bc9-9a2c-499d-a274-fded6a67adff",
   "metadata": {
    "tags": []
   },
   "outputs": [],
   "source": [
    "import leidenalg as la"
   ]
  },
  {
   "cell_type": "code",
   "execution_count": 48,
   "id": "b5f64c0c-2c1b-42db-8b09-d22b7fdcc265",
   "metadata": {
    "tags": []
   },
   "outputs": [],
   "source": [
    "ig_graph = Graph(directed=False)\n",
    "g_ig = ig_graph.from_networkx(g)\n",
    "part = la.find_partition(g_ig, la.ModularityVertexPartition, n_iterations = 100)"
   ]
  },
  {
   "cell_type": "code",
   "execution_count": null,
   "id": "e441496d-3b7e-45c2-a27a-02ab36539737",
   "metadata": {
    "tags": []
   },
   "outputs": [],
   "source": []
  },
  {
   "cell_type": "code",
   "execution_count": 32,
   "id": "4adc6fd7-fcd3-49ed-b165-7dbeef5e3f4b",
   "metadata": {
    "tags": []
   },
   "outputs": [],
   "source": [
    "node_names = []\n",
    "indexes = []\n",
    "\n",
    "for element in g_ig.vs:\n",
    "    node_names.append(element['_nx_name'])\n",
    "    indexes.append(element.index)\n",
    "    \n",
    "df_elements = pd.DataFrame({'element_id':indexes, 'node':node_names})"
   ]
  },
  {
   "cell_type": "code",
   "execution_count": null,
   "id": "59eb19f3-eceb-4b53-8b56-3e0d489a2fd9",
   "metadata": {},
   "outputs": [],
   "source": []
  },
  {
   "cell_type": "code",
   "execution_count": 33,
   "id": "8cd3bb5d-1649-41f6-a4d3-7e0ca8368df6",
   "metadata": {
    "tags": []
   },
   "outputs": [],
   "source": [
    "# Accessing the nodes in each community (partition)\n",
    "communities = []\n",
    "for community_nodes in part:\n",
    "    community = set(community_nodes)\n",
    "    communities.append(community)"
   ]
  },
  {
   "cell_type": "code",
   "execution_count": null,
   "id": "ac4f7588-a0d1-4fae-9464-432bc0988da8",
   "metadata": {
    "tags": []
   },
   "outputs": [],
   "source": []
  },
  {
   "cell_type": "code",
   "execution_count": 38,
   "id": "a6849eae-3611-45c2-b8db-601975257c95",
   "metadata": {
    "tags": []
   },
   "outputs": [],
   "source": [
    "clusters_list = list(part)\n",
    "\n",
    "# Create a DataFrame with 'element_id' and 'cluster_id' columns\n",
    "df_partition = pd.DataFrame([(element_id, cluster_id) for cluster_id, elements in enumerate(clusters_list) for element_id in elements],\n",
    "                  columns=['element_id', 'community'])\n",
    "\n",
    "df_partition = pd.merge(df_partition, df_elements, on = 'element_id')\n",
    "df_partition = df_partition.drop('element_id', axis=1)\n",
    "\n",
    "df_partition = df_partition.reset_index(drop=True)"
   ]
  },
  {
   "cell_type": "code",
   "execution_count": null,
   "id": "4750ddd0-8c18-4fe4-9ef0-83b1f780eb73",
   "metadata": {
    "tags": []
   },
   "outputs": [],
   "source": [
    " "
   ]
  },
  {
   "cell_type": "code",
   "execution_count": 42,
   "id": "29ed1b06-f16c-4749-8f2a-c36dbc0f57c9",
   "metadata": {
    "tags": []
   },
   "outputs": [],
   "source": [
    "nodes = list(df_partition.node)\n",
    "communities = list(df_partition.community)"
   ]
  },
  {
   "cell_type": "code",
   "execution_count": 43,
   "id": "23a8cde4-74f0-4ad9-8e14-96bbe77fddd8",
   "metadata": {
    "tags": []
   },
   "outputs": [],
   "source": [
    "#optimiser = la.Optimiser()\n",
    "#diff = optimiser.optimise_partition(part)"
   ]
  },
  {
   "cell_type": "code",
   "execution_count": null,
   "id": "06fd9da4-1ceb-42a6-aab6-3c8d5a14f860",
   "metadata": {
    "tags": []
   },
   "outputs": [],
   "source": []
  },
  {
   "cell_type": "code",
   "execution_count": null,
   "id": "952e5d84-4010-404a-aa33-d3a7f8a9be5c",
   "metadata": {
    "tags": []
   },
   "outputs": [],
   "source": []
  },
  {
   "cell_type": "code",
   "execution_count": 46,
   "id": "4ec34b27-7489-4fe7-bf5e-ee5509148e5f",
   "metadata": {
    "tags": []
   },
   "outputs": [],
   "source": [
    "#get the clusters and add it to the graph object\n",
    "#partition = community.best_partition(g, resolution=resolution, random_state=42)\n",
    "\n",
    "# Randomy change the colors\n",
    "# from functions.feat_utils import shuffle_numbers_dict\n",
    "\n",
    "# shuffled_dict = shuffle_numbers_dict(list(set(partition.values())))\n",
    "# partition = {key: shuffled_dict[value] for key, value in partition.items()}\n",
    "\n",
    "\n",
    "for node, community_id in zip(nodes, communities):\n",
    "#for node, community_id in partition.items():\n",
    "    g.nodes[node][\"community\"] = community_id\n",
    "\n",
    "#df_partition = pd.DataFrame(partition, index=[0]).T.reset_index()\n",
    "#df_partition.columns = [\"node\", \"community\"]\n",
    "#df_partition = df_partition.sort_values(\"community\")\n",
    "#df_partition[\"community\"] = df_partition[\"community\"].astype(int)\n",
    "\n",
    "# Add the nodes\n",
    "df_nodes[\"size\"] = pd.qcut(\n",
    "    df_nodes[\"sum_weight\"].rank(method=\"first\"),\n",
    "    node_bins,\n",
    "    np.arange(1, node_bins + 1),\n",
    ").astype(int)\n",
    "\n",
    "scaler = MinMaxScaler(feature_range=(1, node_bins))\n",
    "df_nodes[\"size\"] = scaler.fit_transform(df_nodes[[\"size\"]])\n",
    "\n",
    "for _, row in df_nodes.iterrows():\n",
    "    node_id = row[\"node\"]\n",
    "    node_size = int(row[\"size\"])\n",
    "\n",
    "    if node_id in list(g.nodes):\n",
    "        g.add_node(node_id, node_size=node_size)\n",
    "\n",
    "# g = nx.DiGraph(g)\n",
    "\n",
    "Sigma.write_html(\n",
    "    g,\n",
    "    filepath,\n",
    "    # node_size=g.degree,\n",
    "    raw_node_size=\"node_size\",\n",
    "    node_size=\"node_size\",\n",
    "    fullscreen=True,\n",
    "    node_color=\"community\",\n",
    "    edge_size=\"weight\",\n",
    "    node_label_color=\"community\",\n",
    "    node_label_color_palette=\"Dark2\",\n",
    "    node_color_palette=\"Dark2\",\n",
    "    start_layout=True,\n",
    "    show_all_labels=True,\n",
    "    # edge_color_palette=\"Dark2\",\n",
    "    # edge_color=\"community\",\n",
    "    # edge_color_from=\"source\",\n",
    "    # default_node_halo_color = 'white',\n",
    "    # node_halo_color = 'white',\n",
    "    # raw_node_halo_color = 'white',\n",
    "    edge_size_range=(1, 5),\n",
    "    node_size_range=(3, 20),\n",
    "    max_categorical_colors=len(set(df_partition[\"community\"])),\n",
    "    default_edge_type=\"curve\",\n",
    "    node_border_color_from=\"node\",\n",
    "    default_node_label_size=25,\n",
    "    # node_label_size=g.degree,\n",
    "    # node_label_size=\"node_size\",\n",
    "    node_label_size_range=(7, 20),\n",
    ")"
   ]
  },
  {
   "cell_type": "code",
   "execution_count": null,
   "id": "a636b006-775e-4169-ba18-eb955303868f",
   "metadata": {
    "tags": []
   },
   "outputs": [],
   "source": []
  },
  {
   "cell_type": "code",
   "execution_count": null,
   "id": "72e9801c-5880-46d0-98ba-0c8b7c10b4f9",
   "metadata": {},
   "outputs": [],
   "source": []
  },
  {
   "cell_type": "code",
   "execution_count": null,
   "id": "d3131fa9-e603-47de-bd68-e1a793146035",
   "metadata": {
    "tags": []
   },
   "outputs": [],
   "source": []
  },
  {
   "cell_type": "code",
   "execution_count": null,
   "id": "938d95b7-18f7-4620-8056-cbbce137a09a",
   "metadata": {},
   "outputs": [],
   "source": []
  },
  {
   "cell_type": "code",
   "execution_count": null,
   "id": "df16703c-0306-43e6-808c-d9f402532d3c",
   "metadata": {},
   "outputs": [],
   "source": []
  },
  {
   "cell_type": "code",
   "execution_count": null,
   "id": "12d1bee4-e55c-42b1-bf14-2c47f1931de4",
   "metadata": {
    "tags": []
   },
   "outputs": [],
   "source": []
  }
 ],
 "metadata": {
  "kernelspec": {
   "display_name": "Python 3 (ipykernel)",
   "language": "python",
   "name": "python3"
  },
  "language_info": {
   "codemirror_mode": {
    "name": "ipython",
    "version": 3
   },
   "file_extension": ".py",
   "mimetype": "text/x-python",
   "name": "python",
   "nbconvert_exporter": "python",
   "pygments_lexer": "ipython3",
   "version": "3.8.18"
  }
 },
 "nbformat": 4,
 "nbformat_minor": 5
}
