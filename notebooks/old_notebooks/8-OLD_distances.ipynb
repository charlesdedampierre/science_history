{
 "cells": [
  {
   "cell_type": "code",
   "execution_count": 117,
   "metadata": {},
   "outputs": [],
   "source": [
    "import pandas as pd\n",
    "import numpy as np\n",
    "from sklearn.metrics import jaccard_score\n",
    "import warnings\n",
    "import seaborn as sns\n",
    "import matplotlib.pyplot as plt\n",
    "pd.set_option('mode.chained_assignment', None)\n",
    "\n",
    "# Disable future warnings\n",
    "warnings.simplefilter(action='ignore', category=FutureWarning)\n",
    "\n",
    "def weighted_jaccard_similarity(matrix1, matrix2):\n",
    "    \"\"\"\n",
    "    Compute the Weighted Jaccard Similarity between two adjacency matrices.\n",
    "    \"\"\"\n",
    "    # Ensure matrices are numpy arrays for element-wise operations\n",
    "    matrix1 = np.array(matrix1)\n",
    "    matrix2 = np.array(matrix2)\n",
    "\n",
    "    # Calculate the minimum (intersection) and maximum (union) for each element\n",
    "    min_matrix = np.minimum(matrix1, matrix2)\n",
    "    max_matrix = np.maximum(matrix1, matrix2)\n",
    "\n",
    "    # Sum the weights for intersection and union\n",
    "    intersection_weight_sum = np.sum(min_matrix)\n",
    "    union_weight_sum = np.sum(max_matrix)\n",
    "\n",
    "    # Compute the similarity\n",
    "    similarity = intersection_weight_sum / union_weight_sum if union_weight_sum != 0 else 0\n",
    "    return similarity\n",
    "\n",
    "\n",
    "def prepare_edge_list(edge1, edge2):\n",
    "\n",
    "    matrix1 = edge1.pivot(index ='source', columns='target', values='weight')\n",
    "    matrix1 = matrix1.fillna(0)\n",
    "\n",
    "    matrix2 = edge2.pivot(index ='source', columns='target', values='weight')\n",
    "    matrix2 = matrix2.fillna(0)\n",
    "\n",
    "    labels1 = list(matrix1.index)\n",
    "    labels2 = list(matrix2.index)\n",
    "    common_labels = set(labels1).intersection(set(labels2))\n",
    "\n",
    "    matrix1 = matrix1[common_labels]\n",
    "    matrix1 = matrix1.reset_index()\n",
    "    matrix1 = matrix1[matrix1['source'].isin(common_labels)]\n",
    "    matrix1 = matrix1.set_index('source')\n",
    "\n",
    "    matrix2 = matrix2[common_labels]\n",
    "    matrix2 = matrix2.reset_index()\n",
    "    matrix2 = matrix2[matrix2['source'].isin(common_labels)]\n",
    "    matrix2 = matrix2.set_index('source')\n",
    "\n",
    "    matrix1 = matrix1.loc[common_labels, common_labels]\n",
    "    matrix2 = matrix2.loc[common_labels, common_labels]\n",
    "\n",
    "    return matrix1, matrix2\n",
    "\n",
    "\n",
    "def compute_jaccar_simlarity(matrix1, matrix2):\n",
    "\n",
    "    def replace_with_one(x):\n",
    "        return 1 if x >= 1 else x\n",
    "\n",
    "    matrix1_1 = matrix1.applymap(replace_with_one)\n",
    "    matrix2_1 = matrix2.applymap(replace_with_one)\n",
    "\n",
    "    score = jaccard_score(matrix1_1.to_numpy(), matrix2_1.to_numpy(), average='weighted')\n",
    "    weighted_score = weighted_jaccard_similarity(matrix1, matrix2)\n",
    "\n",
    "    return score, weighted_score\n"
   ]
  },
  {
   "cell_type": "code",
   "execution_count": null,
   "metadata": {},
   "outputs": [],
   "source": []
  },
  {
   "cell_type": "code",
   "execution_count": 118,
   "metadata": {},
   "outputs": [
    {
     "data": {
      "text/plain": [
       "\"edge1 = pd.read_csv('../networks/matrix/global_weighted.csv', index_col=[0])\\nedge1 = edge1[['source', 'target', 'weight']]\\n\\nedge2 = pd.read_csv('../networks/matrix/non_europe_before_1700.csv', index_col=[0])\\nedge2 = edge2[['source', 'target', 'weight']]\\n\\n\\nmatrix1, matrix2 = prepare_edge_list(edge1, edge2)\\n\\n#score = jaccard_score(matrix1.to_numpy(), matrix2.to_numpy(), average='weighted')\\nmatrix1, matrix2  = matrix1.to_numpy(), matrix2.to_numpy()\\n\\n\\n# Compute distances\\neuclidean_distance = distance.euclidean(matrix1.flatten(), matrix2.flatten())\\nmanhattan_distance = distance.cityblock(matrix1.flatten(), matrix2.flatten())\\ncosine_distance = distance.cosine(matrix1.flatten(), matrix2.flatten())\\njaccard_distance = distance.jaccard(matrix1.flatten(), matrix2.flatten())\""
      ]
     },
     "execution_count": 118,
     "metadata": {},
     "output_type": "execute_result"
    }
   ],
   "source": [
    "from sklearn.metrics.pairwise import cosine_similarity, euclidean_distances, manhattan_distances\n",
    "import numpy as np\n",
    "from scipy.spatial import distance\n",
    "\n",
    "\"\"\"edge1 = pd.read_csv('../networks/matrix/global_weighted.csv', index_col=[0])\n",
    "edge1 = edge1[['source', 'target', 'weight']]\n",
    "\n",
    "edge2 = pd.read_csv('../networks/matrix/non_europe_before_1700.csv', index_col=[0])\n",
    "edge2 = edge2[['source', 'target', 'weight']]\n",
    "\n",
    "\n",
    "matrix1, matrix2 = prepare_edge_list(edge1, edge2)\n",
    "\n",
    "#score = jaccard_score(matrix1.to_numpy(), matrix2.to_numpy(), average='weighted')\n",
    "matrix1, matrix2  = matrix1.to_numpy(), matrix2.to_numpy()\n",
    "\n",
    "\n",
    "# Compute distances\n",
    "euclidean_distance = distance.euclidean(matrix1.flatten(), matrix2.flatten())\n",
    "manhattan_distance = distance.cityblock(matrix1.flatten(), matrix2.flatten())\n",
    "cosine_distance = distance.cosine(matrix1.flatten(), matrix2.flatten())\n",
    "jaccard_distance = distance.jaccard(matrix1.flatten(), matrix2.flatten())\"\"\"\n"
   ]
  },
  {
   "cell_type": "code",
   "execution_count": 119,
   "metadata": {},
   "outputs": [
    {
     "data": {
      "text/plain": [
       "\"import glob\\n\\n\\nmain_path = '../networks/matrix/'\\npaths = glob.glob(f'{main_path}*')\\n\\ndatasets ={}\\n\\nfor path in paths:\\n    try:\\n\\n        mat = pd.read_csv(path, index_col=[0])\\n        name = path.split(main_path)[1].split('.csv')[0]\\n\\n        if name in  ['europe_before_1700', 'non_europe_before_1700', 'weighted']:\\n            datasets[name] = mat\\n    except:\\n        pass\\n\\nprint(list(datasets.keys()))\""
      ]
     },
     "execution_count": 119,
     "metadata": {},
     "output_type": "execute_result"
    }
   ],
   "source": [
    "\"\"\"import glob\n",
    "\n",
    "\n",
    "main_path = '../networks/matrix/'\n",
    "paths = glob.glob(f'{main_path}*')\n",
    "\n",
    "datasets ={}\n",
    "\n",
    "for path in paths:\n",
    "    try:\n",
    "\n",
    "        mat = pd.read_csv(path, index_col=[0])\n",
    "        name = path.split(main_path)[1].split('.csv')[0]\n",
    "\n",
    "        if name in  ['europe_before_1700', 'non_europe_before_1700', 'weighted']:\n",
    "            datasets[name] = mat\n",
    "    except:\n",
    "        pass\n",
    "\n",
    "print(list(datasets.keys()))\"\"\""
   ]
  },
  {
   "cell_type": "code",
   "execution_count": null,
   "metadata": {},
   "outputs": [],
   "source": []
  },
  {
   "cell_type": "code",
   "execution_count": null,
   "metadata": {},
   "outputs": [],
   "source": []
  },
  {
   "cell_type": "code",
   "execution_count": 120,
   "metadata": {},
   "outputs": [],
   "source": [
    "# Load non_europe\n",
    "\n",
    "import networkx as nx\n",
    "\n",
    "import pickle\n",
    "\n",
    "\n",
    "def process_pickle_object(g):\n",
    "\n",
    "    pos = nx.spring_layout(g, seed = 41)\n",
    "    occupations = list(g.nodes())\n",
    "\n",
    "    similarity_matrix = np.zeros((len(occupations), len(occupations)))\n",
    "\n",
    "    for i, occupation_i in enumerate(occupations):\n",
    "        for j, occupation_j in enumerate(occupations):\n",
    "            pos_i = pos[occupation_i].reshape(1, -1)\n",
    "            pos_j = pos[occupation_j].reshape(1, -1)\n",
    "            similarity_matrix[i][j] = cosine_similarity(pos_i, pos_j)\n",
    "\n",
    "    # Create a DataFrame from the similarity matrix\n",
    "    similarity_df = pd.DataFrame(similarity_matrix, index=occupations, columns=occupations)\n",
    "    edge_list_distance = similarity_df.stack().reset_index()\n",
    "    edge_list_distance.columns = ['source', 'target', 'weight']\n",
    "\n",
    "    return edge_list_distance\n",
    "\n",
    "\n",
    "with open('../networks/g_objects/g_non_europe.pkl', 'rb') as file:\n",
    "    g_non_europe = pickle.load(file)\n",
    "\n",
    "with open('../networks/g_objects/g_europe.pkl', 'rb') as file:\n",
    "    g_europe = pickle.load(file)\n",
    "\n",
    "datasets = {}\n",
    "datasets['non_europe_before_1700'] = process_pickle_object(g_non_europe)\n",
    "datasets['europe_before_1700'] = process_pickle_object(g_europe)\n",
    "datasets['weighted'] = pd.read_csv('../networks/matrix/weighted.csv', index_col=[0])"
   ]
  },
  {
   "cell_type": "code",
   "execution_count": null,
   "metadata": {},
   "outputs": [],
   "source": []
  },
  {
   "cell_type": "code",
   "execution_count": 121,
   "metadata": {},
   "outputs": [
    {
     "data": {
      "text/plain": [
       "\"for element in datasets.keys():\\n    min_weight = datasets[element]['weight'].min()\\n    max_weight = datasets[element]['weight'].max()\\n    datasets[element]['weight'] = (datasets[element]['weight'] - min_weight) / (max_weight - min_weight)\\n# compute the distance\""
      ]
     },
     "execution_count": 121,
     "metadata": {},
     "output_type": "execute_result"
    }
   ],
   "source": [
    "\"\"\"for element in datasets.keys():\n",
    "    min_weight = datasets[element]['weight'].min()\n",
    "    max_weight = datasets[element]['weight'].max()\n",
    "    datasets[element]['weight'] = (datasets[element]['weight'] - min_weight) / (max_weight - min_weight)\n",
    "# compute the distance\"\"\""
   ]
  },
  {
   "cell_type": "code",
   "execution_count": 122,
   "metadata": {},
   "outputs": [
    {
     "data": {
      "text/plain": [
       "'edge_list_distance[\"rank_count\"] = edge_list_distance.groupby([\"source\"])[\"weight\"].rank(\\n        method=\"first\", ascending=False\\n    )\\n\\nmin_weight = edge_list_distance[\\'weight\\'].min()\\nmax_weight = edge_list_distance[\\'weight\\'].max()\\nedge_list_distance[\\'weight\\'] = (edge_list_distance[\\'weight\\'] - min_weight) / (max_weight - min_weight)\\nedge_list_distance = edge_list_distance[\\n        edge_list_distance[\"source\"] != edge_list_distance[\"target\"]]\\nedge_list_distance = edge_list_distance[edge_list_distance[\\'rank_count\\']<=15]\\n\\n#finla_matrix = edge_list_distance.pivot()'"
      ]
     },
     "execution_count": 122,
     "metadata": {},
     "output_type": "execute_result"
    }
   ],
   "source": [
    "\"\"\"edge_list_distance[\"rank_count\"] = edge_list_distance.groupby([\"source\"])[\"weight\"].rank(\n",
    "        method=\"first\", ascending=False\n",
    "    )\n",
    "\n",
    "min_weight = edge_list_distance['weight'].min()\n",
    "max_weight = edge_list_distance['weight'].max()\n",
    "edge_list_distance['weight'] = (edge_list_distance['weight'] - min_weight) / (max_weight - min_weight)\n",
    "edge_list_distance = edge_list_distance[\n",
    "        edge_list_distance[\"source\"] != edge_list_distance[\"target\"]]\n",
    "edge_list_distance = edge_list_distance[edge_list_distance['rank_count']<=15]\n",
    "\n",
    "#finla_matrix = edge_list_distance.pivot()\"\"\""
   ]
  },
  {
   "cell_type": "code",
   "execution_count": 123,
   "metadata": {},
   "outputs": [
    {
     "data": {
      "image/png": "[encoded data removed]",
      "text/plain": [
       "<Figure size 600x600 with 1 Axes>"
      ]
     },
     "metadata": {},
     "output_type": "display_data"
    }
   ],
   "source": [
    "# Create an empty DataFrame to store the ARI values\n",
    "ari_df = pd.DataFrame(columns=['Dataset 1', 'Dataset 2', 'metric'])\n",
    "\n",
    "# Iterate over pairs of datasets and compute the ARI\n",
    "for dataset1_name, dataset1 in datasets.items():\n",
    "    for dataset2_name, dataset2 in datasets.items():\n",
    "        # Get the common elements based on the 'node' column\n",
    "\n",
    "        dataset1 = dataset1[['source', 'target', 'weight']]\n",
    "        dataset1['weight'] = (dataset1['weight'] - dataset1['weight'].min()) / (dataset1['weight'].max() - dataset1['weight'].min())\n",
    "        dataset2 = dataset2[['source', 'target', 'weight']]\n",
    "        dataset2['weight'] = (dataset2['weight'] - dataset2['weight'].min()) / (dataset2['weight'].max() - dataset2['weight'].min())\n",
    "\n",
    "        matrix1, matrix2 = prepare_edge_list(dataset1, dataset2)\n",
    "        matrix1, matrix2 = matrix1.to_numpy(), matrix2.to_numpy()\n",
    "\n",
    "        score = weighted_jaccard_similarity(matrix1.flatten(), matrix2.flatten())\n",
    "        try:\n",
    "            score = round(score, 2)\n",
    "        except:\n",
    "            score = score\n",
    "        ari_df = ari_df.append({'Dataset 1': dataset1_name, 'Dataset 2': dataset2_name, 'metric': score}, ignore_index=True)\n",
    "\n",
    "# Print or analyze the ARI values as needed\n",
    "matrix_df = ari_df.pivot(index='Dataset 1', columns='Dataset 2', values='metric')\n",
    "plt.figure(figsize=(6, 6))\n",
    "sns.heatmap(matrix_df.astype(float), cmap='Blues', annot=True, fmt=\".2f\", cbar=False)\n",
    "plt.xlabel('')\n",
    "plt.ylabel('')\n",
    "plt.title('Normalized Weighted Jaccard Similarity')\n",
    "plt.show()"
   ]
  },
  {
   "cell_type": "code",
   "execution_count": 124,
   "metadata": {},
   "outputs": [
    {
     "data": {
      "text/plain": [
       "'# Create an empty DataFrame to store the ARI values\\nari_df = pd.DataFrame(columns=[\\'Dataset 1\\', \\'Dataset 2\\', \\'metric\\'])\\n\\n# Iterate over pairs of datasets and compute the ARI\\nfor dataset1_name, dataset1 in datasets.items():\\n    for dataset2_name, dataset2 in datasets.items():\\n        # Get the common elements based on the \\'node\\' column\\n\\n        dataset1 = dataset1[[\\'source\\', \\'target\\', \\'weight\\']]\\n        dataset2 = dataset2[[\\'source\\', \\'target\\', \\'weight\\']]\\n\\n        matrix1, matrix2 = prepare_edge_list(dataset1, dataset2)\\n        matrix1, matrix2 = matrix1.to_numpy(), matrix2.to_numpy()\\n\\n        score = distance.euclidean(matrix1.flatten(), matrix2.flatten())\\n        ari_df = ari_df.append({\\'Dataset 1\\': dataset1_name, \\'Dataset 2\\': dataset2_name, \\'metric\\': score}, ignore_index=True)\\n\\n# Print or analyze the ARI values as needed\\nmatrix_df = ari_df.pivot(index=\\'Dataset 1\\', columns=\\'Dataset 2\\', values=\\'metric\\')\\n# Scale the entire DataFrame\\nscaled_df = (matrix_df - matrix_df.min().min()) / (matrix_df.max().max() - matrix_df.min().min())\\nscaled_df = 1 - scaled_df\\nplt.figure(figsize=(6, 6))\\nsns.heatmap(scaled_df.astype(float), cmap=\\'Blues\\', annot=True, fmt=\".2f\", cbar=False)\\nplt.xlabel(\\'\\')\\nplt.ylabel(\\'\\')\\nplt.title(\\'Euclidean Similarity\\')\\nplt.show()'"
      ]
     },
     "execution_count": 124,
     "metadata": {},
     "output_type": "execute_result"
    }
   ],
   "source": [
    "\"\"\"# Create an empty DataFrame to store the ARI values\n",
    "ari_df = pd.DataFrame(columns=['Dataset 1', 'Dataset 2', 'metric'])\n",
    "\n",
    "# Iterate over pairs of datasets and compute the ARI\n",
    "for dataset1_name, dataset1 in datasets.items():\n",
    "    for dataset2_name, dataset2 in datasets.items():\n",
    "        # Get the common elements based on the 'node' column\n",
    "\n",
    "        dataset1 = dataset1[['source', 'target', 'weight']]\n",
    "        dataset2 = dataset2[['source', 'target', 'weight']]\n",
    "\n",
    "        matrix1, matrix2 = prepare_edge_list(dataset1, dataset2)\n",
    "        matrix1, matrix2 = matrix1.to_numpy(), matrix2.to_numpy()\n",
    "\n",
    "        score = distance.euclidean(matrix1.flatten(), matrix2.flatten())\n",
    "        ari_df = ari_df.append({'Dataset 1': dataset1_name, 'Dataset 2': dataset2_name, 'metric': score}, ignore_index=True)\n",
    "\n",
    "# Print or analyze the ARI values as needed\n",
    "matrix_df = ari_df.pivot(index='Dataset 1', columns='Dataset 2', values='metric')\n",
    "# Scale the entire DataFrame\n",
    "scaled_df = (matrix_df - matrix_df.min().min()) / (matrix_df.max().max() - matrix_df.min().min())\n",
    "scaled_df = 1 - scaled_df\n",
    "plt.figure(figsize=(6, 6))\n",
    "sns.heatmap(scaled_df.astype(float), cmap='Blues', annot=True, fmt=\".2f\", cbar=False)\n",
    "plt.xlabel('')\n",
    "plt.ylabel('')\n",
    "plt.title('Euclidean Similarity')\n",
    "plt.show()\"\"\""
   ]
  },
  {
   "cell_type": "markdown",
   "metadata": {},
   "source": []
  },
  {
   "cell_type": "code",
   "execution_count": 125,
   "metadata": {},
   "outputs": [
    {
     "data": {
      "text/plain": [
       "'# Create an empty DataFrame to store the ARI values\\nari_df = pd.DataFrame(columns=[\\'Dataset 1\\', \\'Dataset 2\\', \\'metric\\'])\\n\\n# Iterate over pairs of datasets and compute the ARI\\nfor dataset1_name, dataset1 in datasets.items():\\n    for dataset2_name, dataset2 in datasets.items():\\n        # Get the common elements based on the \\'node\\' column\\n\\n        dataset1 = dataset1[[\\'source\\', \\'target\\', \\'weight\\']]\\n        dataset2 = dataset2[[\\'source\\', \\'target\\', \\'weight\\']]\\n\\n        matrix1, matrix2 = prepare_edge_list(dataset1, dataset2)\\n        matrix1, matrix2 = matrix1.to_numpy(), matrix2.to_numpy()\\n\\n        score = distance.cityblock(matrix1.flatten(), matrix2.flatten())\\n        ari_df = ari_df.append({\\'Dataset 1\\': dataset1_name, \\'Dataset 2\\': dataset2_name, \\'metric\\': score}, ignore_index=True)\\n\\n# Print or analyze the ARI values as needed\\nmatrix_df = ari_df.pivot(index=\\'Dataset 1\\', columns=\\'Dataset 2\\', values=\\'metric\\')\\nscaled_df = (matrix_df - matrix_df.min().min()) / (matrix_df.max().max() - matrix_df.min().min())\\nscaled_df = 1 - scaled_df\\nplt.figure(figsize=(6, 6))\\nsns.heatmap(scaled_df.astype(float), cmap=\\'Blues\\', annot=True, fmt=\".2f\", cbar=False)\\nplt.xlabel(\\'\\')\\nplt.ylabel(\\'\\')\\nplt.title(\\'Manhattan Similarity\\')\\nplt.show()\\n            '"
      ]
     },
     "execution_count": 125,
     "metadata": {},
     "output_type": "execute_result"
    }
   ],
   "source": [
    "\"\"\"# Create an empty DataFrame to store the ARI values\n",
    "ari_df = pd.DataFrame(columns=['Dataset 1', 'Dataset 2', 'metric'])\n",
    "\n",
    "# Iterate over pairs of datasets and compute the ARI\n",
    "for dataset1_name, dataset1 in datasets.items():\n",
    "    for dataset2_name, dataset2 in datasets.items():\n",
    "        # Get the common elements based on the 'node' column\n",
    "\n",
    "        dataset1 = dataset1[['source', 'target', 'weight']]\n",
    "        dataset2 = dataset2[['source', 'target', 'weight']]\n",
    "\n",
    "        matrix1, matrix2 = prepare_edge_list(dataset1, dataset2)\n",
    "        matrix1, matrix2 = matrix1.to_numpy(), matrix2.to_numpy()\n",
    "\n",
    "        score = distance.cityblock(matrix1.flatten(), matrix2.flatten())\n",
    "        ari_df = ari_df.append({'Dataset 1': dataset1_name, 'Dataset 2': dataset2_name, 'metric': score}, ignore_index=True)\n",
    "\n",
    "# Print or analyze the ARI values as needed\n",
    "matrix_df = ari_df.pivot(index='Dataset 1', columns='Dataset 2', values='metric')\n",
    "scaled_df = (matrix_df - matrix_df.min().min()) / (matrix_df.max().max() - matrix_df.min().min())\n",
    "scaled_df = 1 - scaled_df\n",
    "plt.figure(figsize=(6, 6))\n",
    "sns.heatmap(scaled_df.astype(float), cmap='Blues', annot=True, fmt=\".2f\", cbar=False)\n",
    "plt.xlabel('')\n",
    "plt.ylabel('')\n",
    "plt.title('Manhattan Similarity')\n",
    "plt.show()\n",
    "            \"\"\""
   ]
  },
  {
   "cell_type": "code",
   "execution_count": 126,
   "metadata": {},
   "outputs": [
    {
     "data": {
      "text/plain": [
       "'# Create an empty DataFrame to store the ARI values\\nari_df = pd.DataFrame(columns=[\\'Dataset 1\\', \\'Dataset 2\\', \\'metric\\'])\\n\\n# Iterate over pairs of datasets and compute the ARI\\nfor dataset1_name, dataset1 in datasets.items():\\n    for dataset2_name, dataset2 in datasets.items():\\n            # Get the common elements based on the \\'node\\' column\\n\\n        dataset1 = dataset1[[\\'source\\', \\'target\\', \\'weight\\']]\\n        dataset2 = dataset2[[\\'source\\', \\'target\\', \\'weight\\']]\\n\\n        matrix1, matrix2 = prepare_edge_list(dataset1, dataset2)\\n        matrix1, matrix2 = matrix1.to_numpy(), matrix2.to_numpy()\\n\\n        score = distance.cosine(matrix1.flatten(), matrix2.flatten())\\n        score = round(score,2)\\n        ari_df = ari_df.append({\\'Dataset 1\\': dataset1_name, \\'Dataset 2\\': dataset2_name, \\'metric\\': score}, ignore_index=True)\\n\\n# Print or analyze the ARI values as needed\\nmatrix_df = ari_df.pivot(index=\\'Dataset 1\\', columns=\\'Dataset 2\\', values=\\'metric\\')\\nscaled_df = (matrix_df - matrix_df.min().min()) / (matrix_df.max().max() - matrix_df.min().min())\\nscaled_df = 1 - scaled_df\\nplt.figure(figsize=(6, 6))\\nsns.heatmap(scaled_df.astype(float), cmap=\\'Blues\\', annot=True, fmt=\".2f\", cbar=False)\\nplt.xlabel(\\'\\')\\nplt.ylabel(\\'\\')\\nplt.title(\\'Cosine Similarity\\')\\nplt.show()'"
      ]
     },
     "execution_count": 126,
     "metadata": {},
     "output_type": "execute_result"
    }
   ],
   "source": [
    "\"\"\"# Create an empty DataFrame to store the ARI values\n",
    "ari_df = pd.DataFrame(columns=['Dataset 1', 'Dataset 2', 'metric'])\n",
    "\n",
    "# Iterate over pairs of datasets and compute the ARI\n",
    "for dataset1_name, dataset1 in datasets.items():\n",
    "    for dataset2_name, dataset2 in datasets.items():\n",
    "            # Get the common elements based on the 'node' column\n",
    "\n",
    "        dataset1 = dataset1[['source', 'target', 'weight']]\n",
    "        dataset2 = dataset2[['source', 'target', 'weight']]\n",
    "\n",
    "        matrix1, matrix2 = prepare_edge_list(dataset1, dataset2)\n",
    "        matrix1, matrix2 = matrix1.to_numpy(), matrix2.to_numpy()\n",
    "\n",
    "        score = distance.cosine(matrix1.flatten(), matrix2.flatten())\n",
    "        score = round(score,2)\n",
    "        ari_df = ari_df.append({'Dataset 1': dataset1_name, 'Dataset 2': dataset2_name, 'metric': score}, ignore_index=True)\n",
    "\n",
    "# Print or analyze the ARI values as needed\n",
    "matrix_df = ari_df.pivot(index='Dataset 1', columns='Dataset 2', values='metric')\n",
    "scaled_df = (matrix_df - matrix_df.min().min()) / (matrix_df.max().max() - matrix_df.min().min())\n",
    "scaled_df = 1 - scaled_df\n",
    "plt.figure(figsize=(6, 6))\n",
    "sns.heatmap(scaled_df.astype(float), cmap='Blues', annot=True, fmt=\".2f\", cbar=False)\n",
    "plt.xlabel('')\n",
    "plt.ylabel('')\n",
    "plt.title('Cosine Similarity')\n",
    "plt.show()\"\"\""
   ]
  },
  {
   "cell_type": "code",
   "execution_count": 127,
   "metadata": {},
   "outputs": [
    {
     "data": {
      "text/html": [
       "<div>\n",
       "<style scoped>\n",
       "    .dataframe tbody tr th:only-of-type {\n",
       "        vertical-align: middle;\n",
       "    }\n",
       "\n",
       "    .dataframe tbody tr th {\n",
       "        vertical-align: top;\n",
       "    }\n",
       "\n",
       "    .dataframe thead th {\n",
       "        text-align: right;\n",
       "    }\n",
       "</style>\n",
       "<table border=\"1\" class=\"dataframe\">\n",
       "  <thead>\n",
       "    <tr style=\"text-align: right;\">\n",
       "      <th></th>\n",
       "      <th>Dataset 1</th>\n",
       "      <th>Dataset 2</th>\n",
       "      <th>metric</th>\n",
       "    </tr>\n",
       "  </thead>\n",
       "  <tbody>\n",
       "    <tr>\n",
       "      <th>0</th>\n",
       "      <td>non_europe_before_1700</td>\n",
       "      <td>non_europe_before_1700</td>\n",
       "      <td>1.0</td>\n",
       "    </tr>\n",
       "    <tr>\n",
       "      <th>1</th>\n",
       "      <td>non_europe_before_1700</td>\n",
       "      <td>europe_before_1700</td>\n",
       "      <td>0.45</td>\n",
       "    </tr>\n",
       "    <tr>\n",
       "      <th>2</th>\n",
       "      <td>non_europe_before_1700</td>\n",
       "      <td>weighted</td>\n",
       "      <td>0.59</td>\n",
       "    </tr>\n",
       "    <tr>\n",
       "      <th>3</th>\n",
       "      <td>europe_before_1700</td>\n",
       "      <td>non_europe_before_1700</td>\n",
       "      <td>0.45</td>\n",
       "    </tr>\n",
       "    <tr>\n",
       "      <th>4</th>\n",
       "      <td>europe_before_1700</td>\n",
       "      <td>europe_before_1700</td>\n",
       "      <td>1.0</td>\n",
       "    </tr>\n",
       "    <tr>\n",
       "      <th>5</th>\n",
       "      <td>europe_before_1700</td>\n",
       "      <td>weighted</td>\n",
       "      <td>0.58</td>\n",
       "    </tr>\n",
       "    <tr>\n",
       "      <th>6</th>\n",
       "      <td>weighted</td>\n",
       "      <td>non_europe_before_1700</td>\n",
       "      <td>0.59</td>\n",
       "    </tr>\n",
       "    <tr>\n",
       "      <th>7</th>\n",
       "      <td>weighted</td>\n",
       "      <td>europe_before_1700</td>\n",
       "      <td>0.58</td>\n",
       "    </tr>\n",
       "    <tr>\n",
       "      <th>8</th>\n",
       "      <td>weighted</td>\n",
       "      <td>weighted</td>\n",
       "      <td>1.0</td>\n",
       "    </tr>\n",
       "  </tbody>\n",
       "</table>\n",
       "</div>"
      ],
      "text/plain": [
       "                Dataset 1               Dataset 2 metric\n",
       "0  non_europe_before_1700  non_europe_before_1700    1.0\n",
       "1  non_europe_before_1700      europe_before_1700   0.45\n",
       "2  non_europe_before_1700                weighted   0.59\n",
       "3      europe_before_1700  non_europe_before_1700   0.45\n",
       "4      europe_before_1700      europe_before_1700    1.0\n",
       "5      europe_before_1700                weighted   0.58\n",
       "6                weighted  non_europe_before_1700   0.59\n",
       "7                weighted      europe_before_1700   0.58\n",
       "8                weighted                weighted    1.0"
      ]
     },
     "execution_count": 127,
     "metadata": {},
     "output_type": "execute_result"
    }
   ],
   "source": [
    "ari_df"
   ]
  },
  {
   "cell_type": "code",
   "execution_count": 128,
   "metadata": {},
   "outputs": [
    {
     "data": {
      "text/plain": [
       "'# Create an empty DataFrame to store the ARI values\\nari_df = pd.DataFrame(columns=[\\'Dataset 1\\', \\'Dataset 2\\', \\'metric\\'])\\n\\n# Iterate over pairs of datasets and compute the ARI\\nfor dataset1_name, dataset1 in datasets.items():\\n    for dataset2_name, dataset2 in datasets.items():\\n        # Get the common elements based on the \\'node\\' column\\n\\n        dataset1 = dataset1[[\\'source\\', \\'target\\', \\'weight\\']]\\n        dataset2 = dataset2[[\\'source\\', \\'target\\', \\'weight\\']]\\n\\n        matrix1, matrix2 = prepare_edge_list(dataset1, dataset2)\\n        matrix1, matrix2 = matrix1.to_numpy(), matrix2.to_numpy()\\n\\n        score = weighted_jaccard_similarity(matrix1.flatten(), matrix2.flatten())\\n        try:\\n            score = round(score, 2)\\n        except:\\n            score = score\\n        ari_df = ari_df.append({\\'Dataset 1\\': dataset1_name, \\'Dataset 2\\': dataset2_name, \\'metric\\': score}, ignore_index=True)\\n\\n# Print or analyze the ARI values as needed\\nmatrix_df = ari_df.pivot(index=\\'Dataset 1\\', columns=\\'Dataset 2\\', values=\\'metric\\')\\nplt.figure(figsize=(6, 6))\\nsns.heatmap(matrix_df.astype(float), cmap=\\'Blues\\', annot=True, fmt=\".2f\", cbar=False)\\nplt.xlabel(\\'\\')\\nplt.ylabel(\\'\\')\\nplt.title(\\'Weighted Jaccard Similarity\\')\\n\\nplt.show()\\n            '"
      ]
     },
     "execution_count": 128,
     "metadata": {},
     "output_type": "execute_result"
    }
   ],
   "source": [
    "'''# Create an empty DataFrame to store the ARI values\n",
    "ari_df = pd.DataFrame(columns=['Dataset 1', 'Dataset 2', 'metric'])\n",
    "\n",
    "# Iterate over pairs of datasets and compute the ARI\n",
    "for dataset1_name, dataset1 in datasets.items():\n",
    "    for dataset2_name, dataset2 in datasets.items():\n",
    "        # Get the common elements based on the 'node' column\n",
    "\n",
    "        dataset1 = dataset1[['source', 'target', 'weight']]\n",
    "        dataset2 = dataset2[['source', 'target', 'weight']]\n",
    "\n",
    "        matrix1, matrix2 = prepare_edge_list(dataset1, dataset2)\n",
    "        matrix1, matrix2 = matrix1.to_numpy(), matrix2.to_numpy()\n",
    "\n",
    "        score = weighted_jaccard_similarity(matrix1.flatten(), matrix2.flatten())\n",
    "        try:\n",
    "            score = round(score, 2)\n",
    "        except:\n",
    "            score = score\n",
    "        ari_df = ari_df.append({'Dataset 1': dataset1_name, 'Dataset 2': dataset2_name, 'metric': score}, ignore_index=True)\n",
    "\n",
    "# Print or analyze the ARI values as needed\n",
    "matrix_df = ari_df.pivot(index='Dataset 1', columns='Dataset 2', values='metric')\n",
    "plt.figure(figsize=(6, 6))\n",
    "sns.heatmap(matrix_df.astype(float), cmap='Blues', annot=True, fmt=\".2f\", cbar=False)\n",
    "plt.xlabel('')\n",
    "plt.ylabel('')\n",
    "plt.title('Weighted Jaccard Similarity')\n",
    "\n",
    "plt.show()\n",
    "            '''"
   ]
  },
  {
   "cell_type": "code",
   "execution_count": null,
   "metadata": {},
   "outputs": [],
   "source": []
  },
  {
   "cell_type": "code",
   "execution_count": null,
   "metadata": {},
   "outputs": [],
   "source": []
  },
  {
   "cell_type": "code",
   "execution_count": null,
   "metadata": {},
   "outputs": [],
   "source": []
  },
  {
   "cell_type": "code",
   "execution_count": null,
   "metadata": {},
   "outputs": [],
   "source": []
  }
 ],
 "metadata": {
  "kernelspec": {
   "display_name": "market_use_cases-Q45SxFKl-py3.8",
   "language": "python",
   "name": "python3"
  },
  "language_info": {
   "codemirror_mode": {
    "name": "ipython",
    "version": 3
   },
   "file_extension": ".py",
   "mimetype": "text/x-python",
   "name": "python",
   "nbconvert_exporter": "python",
   "pygments_lexer": "ipython3",
   "version": "3.8.18"
  }
 },
 "nbformat": 4,
 "nbformat_minor": 2
}
