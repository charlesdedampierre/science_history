{
 "cells": [
  {
   "cell_type": "markdown",
   "id": "e23a64ce-d86d-4b61-a18b-ce417550cc54",
   "metadata": {},
   "source": [
    "Count the number of individuals and raw occupations before cleaning"
   ]
  },
  {
   "cell_type": "code",
   "execution_count": 9,
   "id": "d4cddd5a-7961-40b6-b4cc-d565aa122be7",
   "metadata": {
    "tags": []
   },
   "outputs": [],
   "source": [
    "import sys\n",
    "import pandas as pd\n",
    "\n",
    "sys.path.append('../')"
   ]
  },
  {
   "cell_type": "code",
   "execution_count": 10,
   "id": "debc35ca-1a0f-4d7e-832e-718ae6cc4ba9",
   "metadata": {
    "tags": []
   },
   "outputs": [],
   "source": [
    "from src.functions.env import DATA_PATH, DB_SCIENCE_PATH\n",
    "\n",
    "data = pd.read_csv(DATA_PATH + \"/df_indi_occupations.csv\", index_col=[0])"
   ]
  },
  {
   "cell_type": "code",
   "execution_count": 12,
   "id": "4eaa74d3-2163-4886-84b2-7122c924f311",
   "metadata": {
    "tags": []
   },
   "outputs": [
    {
     "data": {
      "text/plain": [
       "585"
      ]
     },
     "execution_count": 12,
     "metadata": {},
     "output_type": "execute_result"
    }
   ],
   "source": [
    "len(set(data.occupation))"
   ]
  },
  {
   "cell_type": "code",
   "execution_count": 13,
   "id": "49b35a0f-0092-4cb7-8f40-3f0955a41db2",
   "metadata": {
    "tags": []
   },
   "outputs": [
    {
     "data": {
      "text/plain": [
       "28396"
      ]
     },
     "execution_count": 13,
     "metadata": {},
     "output_type": "execute_result"
    }
   ],
   "source": [
    "len(set(data.wikidata_id))"
   ]
  },
  {
   "cell_type": "markdown",
   "id": "39502b81-4107-4bcd-92a2-07b348d33229",
   "metadata": {},
   "source": [
    "count unique cleaned occupations"
   ]
  },
  {
   "cell_type": "code",
   "execution_count": 18,
   "id": "37de57b8-45e5-44db-85ed-9baa920351fb",
   "metadata": {
    "tags": []
   },
   "outputs": [],
   "source": [
    "import sqlite3\n",
    "import os"
   ]
  },
  {
   "cell_type": "code",
   "execution_count": 21,
   "id": "d3846bba-6acf-45b3-9a36-eb3fe7459828",
   "metadata": {
    "tags": []
   },
   "outputs": [],
   "source": [
    "conn_full_db = sqlite3.connect(os.getenv(\"FULL_DB_PATH\"))\n",
    "conn = sqlite3.connect(\"../database.db\")"
   ]
  },
  {
   "cell_type": "code",
   "execution_count": 34,
   "id": "0d5fa553-e4c5-4416-81b2-7c8a27f95097",
   "metadata": {
    "tags": []
   },
   "outputs": [],
   "source": [
    "df_cleaned_occupations = pd.read_sql_query(\n",
    "        \"SELECT * FROM individual_id_cleaned_occupations\", conn\n",
    "    )"
   ]
  },
  {
   "cell_type": "code",
   "execution_count": 39,
   "id": "2190e453-cbf9-4bfa-af20-5ee7788e94ea",
   "metadata": {
    "tags": []
   },
   "outputs": [
    {
     "data": {
      "text/plain": [
       "28"
      ]
     },
     "execution_count": 39,
     "metadata": {},
     "output_type": "execute_result"
    }
   ],
   "source": [
    "len(set(df_cleaned_occupations.meta_occupation))"
   ]
  },
  {
   "cell_type": "code",
   "execution_count": null,
   "id": "00ab03e9-c6dc-4be0-b39a-842ddaeb2d95",
   "metadata": {
    "tags": []
   },
   "outputs": [],
   "source": []
  },
  {
   "cell_type": "code",
   "execution_count": 38,
   "id": "cdde01b8-158d-4170-8b69-8425eb64827c",
   "metadata": {
    "tags": []
   },
   "outputs": [
    {
     "data": {
      "text/html": [
       "<div>\n",
       "<style scoped>\n",
       "    .dataframe tbody tr th:only-of-type {\n",
       "        vertical-align: middle;\n",
       "    }\n",
       "\n",
       "    .dataframe tbody tr th {\n",
       "        vertical-align: top;\n",
       "    }\n",
       "\n",
       "    .dataframe thead th {\n",
       "        text-align: right;\n",
       "    }\n",
       "</style>\n",
       "<table border=\"1\" class=\"dataframe\">\n",
       "  <thead>\n",
       "    <tr style=\"text-align: right;\">\n",
       "      <th></th>\n",
       "      <th>wikidata_id</th>\n",
       "      <th>meta_occupation</th>\n",
       "    </tr>\n",
       "  </thead>\n",
       "  <tbody>\n",
       "    <tr>\n",
       "      <th>0</th>\n",
       "      <td>Q1000034</td>\n",
       "      <td>mathematician</td>\n",
       "    </tr>\n",
       "    <tr>\n",
       "      <th>1</th>\n",
       "      <td>Q1000581</td>\n",
       "      <td>mathematician</td>\n",
       "    </tr>\n",
       "    <tr>\n",
       "      <th>2</th>\n",
       "      <td>Q1000608</td>\n",
       "      <td>anthropologist</td>\n",
       "    </tr>\n",
       "    <tr>\n",
       "      <th>3</th>\n",
       "      <td>Q1000929</td>\n",
       "      <td>geneticist</td>\n",
       "    </tr>\n",
       "    <tr>\n",
       "      <th>4</th>\n",
       "      <td>Q1001161</td>\n",
       "      <td>geologist</td>\n",
       "    </tr>\n",
       "    <tr>\n",
       "      <th>...</th>\n",
       "      <td>...</td>\n",
       "      <td>...</td>\n",
       "    </tr>\n",
       "    <tr>\n",
       "      <th>31317</th>\n",
       "      <td>Q98077</td>\n",
       "      <td>anatomist</td>\n",
       "    </tr>\n",
       "    <tr>\n",
       "      <th>31318</th>\n",
       "      <td>Q981572</td>\n",
       "      <td>anatomist</td>\n",
       "    </tr>\n",
       "    <tr>\n",
       "      <th>31319</th>\n",
       "      <td>Q98237</td>\n",
       "      <td>anatomist</td>\n",
       "    </tr>\n",
       "    <tr>\n",
       "      <th>31320</th>\n",
       "      <td>Q98603404</td>\n",
       "      <td>anatomist</td>\n",
       "    </tr>\n",
       "    <tr>\n",
       "      <th>31321</th>\n",
       "      <td>Q98844</td>\n",
       "      <td>anatomist</td>\n",
       "    </tr>\n",
       "  </tbody>\n",
       "</table>\n",
       "<p>31322 rows × 2 columns</p>\n",
       "</div>"
      ],
      "text/plain": [
       "      wikidata_id meta_occupation\n",
       "0        Q1000034   mathematician\n",
       "1        Q1000581   mathematician\n",
       "2        Q1000608  anthropologist\n",
       "3        Q1000929      geneticist\n",
       "4        Q1001161       geologist\n",
       "...           ...             ...\n",
       "31317      Q98077       anatomist\n",
       "31318     Q981572       anatomist\n",
       "31319      Q98237       anatomist\n",
       "31320   Q98603404       anatomist\n",
       "31321      Q98844       anatomist\n",
       "\n",
       "[31322 rows x 2 columns]"
      ]
     },
     "execution_count": 38,
     "metadata": {},
     "output_type": "execute_result"
    }
   ],
   "source": [
    "df_cleaned_occupations"
   ]
  },
  {
   "cell_type": "code",
   "execution_count": null,
   "id": "069637a3-d137-4946-94a2-26d61c6885ad",
   "metadata": {},
   "outputs": [],
   "source": []
  }
 ],
 "metadata": {
  "kernelspec": {
   "display_name": "Python 3 (ipykernel)",
   "language": "python",
   "name": "python3"
  },
  "language_info": {
   "codemirror_mode": {
    "name": "ipython",
    "version": 3
   },
   "file_extension": ".py",
   "mimetype": "text/x-python",
   "name": "python",
   "nbconvert_exporter": "python",
   "pygments_lexer": "ipython3",
   "version": "3.8.18"
  }
 },
 "nbformat": 4,
 "nbformat_minor": 5
}
